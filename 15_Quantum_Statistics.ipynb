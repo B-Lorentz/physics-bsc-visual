{
  "nbformat": 4,
  "nbformat_minor": 0,
  "metadata": {
    "colab": {
      "name": "15_Quantum_Statistics.ipynb",
      "provenance": [],
      "collapsed_sections": [],
      "authorship_tag": "ABX9TyNqB2Q6QbvFdq0HIxyzLRmP",
      "include_colab_link": true
    },
    "kernelspec": {
      "name": "python3",
      "display_name": "Python 3"
    },
    "language_info": {
      "name": "python"
    },
    "widgets": {
      "application/vnd.jupyter.widget-state+json": {
        "36b369b7f5b249caa26f3276f4844f2b": {
          "model_module": "@jupyter-widgets/controls",
          "model_name": "VBoxModel",
          "state": {
            "_view_name": "VBoxView",
            "_dom_classes": [
              "widget-interact"
            ],
            "_model_name": "VBoxModel",
            "_view_module": "@jupyter-widgets/controls",
            "_model_module_version": "1.5.0",
            "_view_count": null,
            "_view_module_version": "1.5.0",
            "box_style": "",
            "layout": "IPY_MODEL_b36b1bb4f8364dcd8b08b45cc648c0da",
            "_model_module": "@jupyter-widgets/controls",
            "children": [
              "IPY_MODEL_254e68af23774c5fb4ba8375e0476348",
              "IPY_MODEL_b1c2b561ce354191ae232672eb11bc7d",
              "IPY_MODEL_a688e67a1e944bc7a8843a8c45840444"
            ]
          }
        },
        "b36b1bb4f8364dcd8b08b45cc648c0da": {
          "model_module": "@jupyter-widgets/base",
          "model_name": "LayoutModel",
          "state": {
            "_view_name": "LayoutView",
            "grid_template_rows": null,
            "right": null,
            "justify_content": null,
            "_view_module": "@jupyter-widgets/base",
            "overflow": null,
            "_model_module_version": "1.2.0",
            "_view_count": null,
            "flex_flow": null,
            "width": null,
            "min_width": null,
            "border": null,
            "align_items": null,
            "bottom": null,
            "_model_module": "@jupyter-widgets/base",
            "top": null,
            "grid_column": null,
            "overflow_y": null,
            "overflow_x": null,
            "grid_auto_flow": null,
            "grid_area": null,
            "grid_template_columns": null,
            "flex": null,
            "_model_name": "LayoutModel",
            "justify_items": null,
            "grid_row": null,
            "max_height": null,
            "align_content": null,
            "visibility": null,
            "align_self": null,
            "height": null,
            "min_height": null,
            "padding": null,
            "grid_auto_rows": null,
            "grid_gap": null,
            "max_width": null,
            "order": null,
            "_view_module_version": "1.2.0",
            "grid_template_areas": null,
            "object_position": null,
            "object_fit": null,
            "grid_auto_columns": null,
            "margin": null,
            "display": null,
            "left": null
          }
        },
        "254e68af23774c5fb4ba8375e0476348": {
          "model_module": "@jupyter-widgets/controls",
          "model_name": "FloatSliderModel",
          "state": {
            "_view_name": "FloatSliderView",
            "style": "IPY_MODEL_20dd5bb628164a8db5cc12a422029a4f",
            "_dom_classes": [],
            "description": "beta",
            "step": 0.1,
            "_model_name": "FloatSliderModel",
            "orientation": "horizontal",
            "max": 30,
            "_view_module": "@jupyter-widgets/controls",
            "_model_module_version": "1.5.0",
            "value": 3.5,
            "_view_count": null,
            "disabled": false,
            "_view_module_version": "1.5.0",
            "min": 1,
            "continuous_update": true,
            "readout_format": ".2f",
            "description_tooltip": null,
            "readout": true,
            "_model_module": "@jupyter-widgets/controls",
            "layout": "IPY_MODEL_5e25819c22e743f2b9facbd0906ada55"
          }
        },
        "b1c2b561ce354191ae232672eb11bc7d": {
          "model_module": "@jupyter-widgets/controls",
          "model_name": "FloatSliderModel",
          "state": {
            "_view_name": "FloatSliderView",
            "style": "IPY_MODEL_4dbcf0abf1a7406494121dcf344511e0",
            "_dom_classes": [],
            "description": "mu",
            "step": 0.05,
            "_model_name": "FloatSliderModel",
            "orientation": "horizontal",
            "max": 1,
            "_view_module": "@jupyter-widgets/controls",
            "_model_module_version": "1.5.0",
            "value": 0.1,
            "_view_count": null,
            "disabled": false,
            "_view_module_version": "1.5.0",
            "min": -1,
            "continuous_update": true,
            "readout_format": ".2f",
            "description_tooltip": null,
            "readout": true,
            "_model_module": "@jupyter-widgets/controls",
            "layout": "IPY_MODEL_7c34da6121dd4b12b506b7b6e422d432"
          }
        },
        "a688e67a1e944bc7a8843a8c45840444": {
          "model_module": "@jupyter-widgets/output",
          "model_name": "OutputModel",
          "state": {
            "_view_name": "OutputView",
            "msg_id": "",
            "_dom_classes": [],
            "_model_name": "OutputModel",
            "outputs": [
              {
                "output_type": "stream",
                "metadata": {
                  "tags": []
                },
                "text": "(100,) 12.63 120.39\n",
                "stream": "stdout"
              },
              {
                "output_type": "display_data",
                "metadata": {
                  "tags": [],
                  "needs_background": "light"
                },
                "image/png": "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\n",
                "text/plain": "<Figure size 720x576 with 1 Axes>"
              }
            ],
            "_view_module": "@jupyter-widgets/output",
            "_model_module_version": "1.0.0",
            "_view_count": null,
            "_view_module_version": "1.0.0",
            "layout": "IPY_MODEL_4e8541ad057047c4890c6373a96dc9df",
            "_model_module": "@jupyter-widgets/output"
          }
        },
        "20dd5bb628164a8db5cc12a422029a4f": {
          "model_module": "@jupyter-widgets/controls",
          "model_name": "SliderStyleModel",
          "state": {
            "_view_name": "StyleView",
            "handle_color": null,
            "_model_name": "SliderStyleModel",
            "description_width": "",
            "_view_module": "@jupyter-widgets/base",
            "_model_module_version": "1.5.0",
            "_view_count": null,
            "_view_module_version": "1.2.0",
            "_model_module": "@jupyter-widgets/controls"
          }
        },
        "5e25819c22e743f2b9facbd0906ada55": {
          "model_module": "@jupyter-widgets/base",
          "model_name": "LayoutModel",
          "state": {
            "_view_name": "LayoutView",
            "grid_template_rows": null,
            "right": null,
            "justify_content": null,
            "_view_module": "@jupyter-widgets/base",
            "overflow": null,
            "_model_module_version": "1.2.0",
            "_view_count": null,
            "flex_flow": null,
            "width": null,
            "min_width": null,
            "border": null,
            "align_items": null,
            "bottom": null,
            "_model_module": "@jupyter-widgets/base",
            "top": null,
            "grid_column": null,
            "overflow_y": null,
            "overflow_x": null,
            "grid_auto_flow": null,
            "grid_area": null,
            "grid_template_columns": null,
            "flex": null,
            "_model_name": "LayoutModel",
            "justify_items": null,
            "grid_row": null,
            "max_height": null,
            "align_content": null,
            "visibility": null,
            "align_self": null,
            "height": null,
            "min_height": null,
            "padding": null,
            "grid_auto_rows": null,
            "grid_gap": null,
            "max_width": null,
            "order": null,
            "_view_module_version": "1.2.0",
            "grid_template_areas": null,
            "object_position": null,
            "object_fit": null,
            "grid_auto_columns": null,
            "margin": null,
            "display": null,
            "left": null
          }
        },
        "4dbcf0abf1a7406494121dcf344511e0": {
          "model_module": "@jupyter-widgets/controls",
          "model_name": "SliderStyleModel",
          "state": {
            "_view_name": "StyleView",
            "handle_color": null,
            "_model_name": "SliderStyleModel",
            "description_width": "",
            "_view_module": "@jupyter-widgets/base",
            "_model_module_version": "1.5.0",
            "_view_count": null,
            "_view_module_version": "1.2.0",
            "_model_module": "@jupyter-widgets/controls"
          }
        },
        "7c34da6121dd4b12b506b7b6e422d432": {
          "model_module": "@jupyter-widgets/base",
          "model_name": "LayoutModel",
          "state": {
            "_view_name": "LayoutView",
            "grid_template_rows": null,
            "right": null,
            "justify_content": null,
            "_view_module": "@jupyter-widgets/base",
            "overflow": null,
            "_model_module_version": "1.2.0",
            "_view_count": null,
            "flex_flow": null,
            "width": null,
            "min_width": null,
            "border": null,
            "align_items": null,
            "bottom": null,
            "_model_module": "@jupyter-widgets/base",
            "top": null,
            "grid_column": null,
            "overflow_y": null,
            "overflow_x": null,
            "grid_auto_flow": null,
            "grid_area": null,
            "grid_template_columns": null,
            "flex": null,
            "_model_name": "LayoutModel",
            "justify_items": null,
            "grid_row": null,
            "max_height": null,
            "align_content": null,
            "visibility": null,
            "align_self": null,
            "height": null,
            "min_height": null,
            "padding": null,
            "grid_auto_rows": null,
            "grid_gap": null,
            "max_width": null,
            "order": null,
            "_view_module_version": "1.2.0",
            "grid_template_areas": null,
            "object_position": null,
            "object_fit": null,
            "grid_auto_columns": null,
            "margin": null,
            "display": null,
            "left": null
          }
        },
        "4e8541ad057047c4890c6373a96dc9df": {
          "model_module": "@jupyter-widgets/base",
          "model_name": "LayoutModel",
          "state": {
            "_view_name": "LayoutView",
            "grid_template_rows": null,
            "right": null,
            "justify_content": null,
            "_view_module": "@jupyter-widgets/base",
            "overflow": null,
            "_model_module_version": "1.2.0",
            "_view_count": null,
            "flex_flow": null,
            "width": null,
            "min_width": null,
            "border": null,
            "align_items": null,
            "bottom": null,
            "_model_module": "@jupyter-widgets/base",
            "top": null,
            "grid_column": null,
            "overflow_y": null,
            "overflow_x": null,
            "grid_auto_flow": null,
            "grid_area": null,
            "grid_template_columns": null,
            "flex": null,
            "_model_name": "LayoutModel",
            "justify_items": null,
            "grid_row": null,
            "max_height": null,
            "align_content": null,
            "visibility": null,
            "align_self": null,
            "height": null,
            "min_height": null,
            "padding": null,
            "grid_auto_rows": null,
            "grid_gap": null,
            "max_width": null,
            "order": null,
            "_view_module_version": "1.2.0",
            "grid_template_areas": null,
            "object_position": null,
            "object_fit": null,
            "grid_auto_columns": null,
            "margin": null,
            "display": null,
            "left": null
          }
        },
        "da538aaca65c407aaf998fce3bacec24": {
          "model_module": "@jupyter-widgets/controls",
          "model_name": "VBoxModel",
          "state": {
            "_view_name": "VBoxView",
            "_dom_classes": [
              "widget-interact"
            ],
            "_model_name": "VBoxModel",
            "_view_module": "@jupyter-widgets/controls",
            "_model_module_version": "1.5.0",
            "_view_count": null,
            "_view_module_version": "1.5.0",
            "box_style": "",
            "layout": "IPY_MODEL_9931dc24361147949c621831cebee49a",
            "_model_module": "@jupyter-widgets/controls",
            "children": [
              "IPY_MODEL_296609b89d1b4e7284e7e14491e1ca1b",
              "IPY_MODEL_85d87f449447418e96bf1c4103ddd805",
              "IPY_MODEL_43e596afde084498b08b626778b6e561"
            ]
          }
        },
        "9931dc24361147949c621831cebee49a": {
          "model_module": "@jupyter-widgets/base",
          "model_name": "LayoutModel",
          "state": {
            "_view_name": "LayoutView",
            "grid_template_rows": null,
            "right": null,
            "justify_content": null,
            "_view_module": "@jupyter-widgets/base",
            "overflow": null,
            "_model_module_version": "1.2.0",
            "_view_count": null,
            "flex_flow": null,
            "width": null,
            "min_width": null,
            "border": null,
            "align_items": null,
            "bottom": null,
            "_model_module": "@jupyter-widgets/base",
            "top": null,
            "grid_column": null,
            "overflow_y": null,
            "overflow_x": null,
            "grid_auto_flow": null,
            "grid_area": null,
            "grid_template_columns": null,
            "flex": null,
            "_model_name": "LayoutModel",
            "justify_items": null,
            "grid_row": null,
            "max_height": null,
            "align_content": null,
            "visibility": null,
            "align_self": null,
            "height": null,
            "min_height": null,
            "padding": null,
            "grid_auto_rows": null,
            "grid_gap": null,
            "max_width": null,
            "order": null,
            "_view_module_version": "1.2.0",
            "grid_template_areas": null,
            "object_position": null,
            "object_fit": null,
            "grid_auto_columns": null,
            "margin": null,
            "display": null,
            "left": null
          }
        },
        "296609b89d1b4e7284e7e14491e1ca1b": {
          "model_module": "@jupyter-widgets/controls",
          "model_name": "FloatSliderModel",
          "state": {
            "_view_name": "FloatSliderView",
            "style": "IPY_MODEL_09f832ea32d44447b8810162b2603ef4",
            "_dom_classes": [],
            "description": "beta",
            "step": 0.1,
            "_model_name": "FloatSliderModel",
            "orientation": "horizontal",
            "max": 10,
            "_view_module": "@jupyter-widgets/controls",
            "_model_module_version": "1.5.0",
            "value": 0.7,
            "_view_count": null,
            "disabled": false,
            "_view_module_version": "1.5.0",
            "min": 0.1,
            "continuous_update": true,
            "readout_format": ".2f",
            "description_tooltip": null,
            "readout": true,
            "_model_module": "@jupyter-widgets/controls",
            "layout": "IPY_MODEL_3db1b2a6af964a6c9c02ddbe55c5d9fe"
          }
        },
        "85d87f449447418e96bf1c4103ddd805": {
          "model_module": "@jupyter-widgets/controls",
          "model_name": "FloatSliderModel",
          "state": {
            "_view_name": "FloatSliderView",
            "style": "IPY_MODEL_acc1e97736df4f85813989ab0ef6f97e",
            "_dom_classes": [],
            "description": "mu",
            "step": 0.05,
            "_model_name": "FloatSliderModel",
            "orientation": "horizontal",
            "max": -0.05,
            "_view_module": "@jupyter-widgets/controls",
            "_model_module_version": "1.5.0",
            "value": -0.25,
            "_view_count": null,
            "disabled": false,
            "_view_module_version": "1.5.0",
            "min": -1,
            "continuous_update": true,
            "readout_format": ".2f",
            "description_tooltip": null,
            "readout": true,
            "_model_module": "@jupyter-widgets/controls",
            "layout": "IPY_MODEL_7df5fd1ffcf342faa21dc7d05cefb879"
          }
        },
        "43e596afde084498b08b626778b6e561": {
          "model_module": "@jupyter-widgets/output",
          "model_name": "OutputModel",
          "state": {
            "_view_name": "OutputView",
            "msg_id": "",
            "_dom_classes": [],
            "_model_name": "OutputModel",
            "outputs": [
              {
                "output_type": "stream",
                "metadata": {
                  "tags": []
                },
                "text": "(100,) 71.28 515.75\n",
                "stream": "stdout"
              },
              {
                "output_type": "display_data",
                "metadata": {
                  "tags": [],
                  "needs_background": "light"
                },
                "image/png": "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\n",
                "text/plain": "<Figure size 720x576 with 1 Axes>"
              }
            ],
            "_view_module": "@jupyter-widgets/output",
            "_model_module_version": "1.0.0",
            "_view_count": null,
            "_view_module_version": "1.0.0",
            "layout": "IPY_MODEL_f4ee39d452ec44a19e32ee89a5c1db2b",
            "_model_module": "@jupyter-widgets/output"
          }
        },
        "09f832ea32d44447b8810162b2603ef4": {
          "model_module": "@jupyter-widgets/controls",
          "model_name": "SliderStyleModel",
          "state": {
            "_view_name": "StyleView",
            "handle_color": null,
            "_model_name": "SliderStyleModel",
            "description_width": "",
            "_view_module": "@jupyter-widgets/base",
            "_model_module_version": "1.5.0",
            "_view_count": null,
            "_view_module_version": "1.2.0",
            "_model_module": "@jupyter-widgets/controls"
          }
        },
        "3db1b2a6af964a6c9c02ddbe55c5d9fe": {
          "model_module": "@jupyter-widgets/base",
          "model_name": "LayoutModel",
          "state": {
            "_view_name": "LayoutView",
            "grid_template_rows": null,
            "right": null,
            "justify_content": null,
            "_view_module": "@jupyter-widgets/base",
            "overflow": null,
            "_model_module_version": "1.2.0",
            "_view_count": null,
            "flex_flow": null,
            "width": null,
            "min_width": null,
            "border": null,
            "align_items": null,
            "bottom": null,
            "_model_module": "@jupyter-widgets/base",
            "top": null,
            "grid_column": null,
            "overflow_y": null,
            "overflow_x": null,
            "grid_auto_flow": null,
            "grid_area": null,
            "grid_template_columns": null,
            "flex": null,
            "_model_name": "LayoutModel",
            "justify_items": null,
            "grid_row": null,
            "max_height": null,
            "align_content": null,
            "visibility": null,
            "align_self": null,
            "height": null,
            "min_height": null,
            "padding": null,
            "grid_auto_rows": null,
            "grid_gap": null,
            "max_width": null,
            "order": null,
            "_view_module_version": "1.2.0",
            "grid_template_areas": null,
            "object_position": null,
            "object_fit": null,
            "grid_auto_columns": null,
            "margin": null,
            "display": null,
            "left": null
          }
        },
        "acc1e97736df4f85813989ab0ef6f97e": {
          "model_module": "@jupyter-widgets/controls",
          "model_name": "SliderStyleModel",
          "state": {
            "_view_name": "StyleView",
            "handle_color": null,
            "_model_name": "SliderStyleModel",
            "description_width": "",
            "_view_module": "@jupyter-widgets/base",
            "_model_module_version": "1.5.0",
            "_view_count": null,
            "_view_module_version": "1.2.0",
            "_model_module": "@jupyter-widgets/controls"
          }
        },
        "7df5fd1ffcf342faa21dc7d05cefb879": {
          "model_module": "@jupyter-widgets/base",
          "model_name": "LayoutModel",
          "state": {
            "_view_name": "LayoutView",
            "grid_template_rows": null,
            "right": null,
            "justify_content": null,
            "_view_module": "@jupyter-widgets/base",
            "overflow": null,
            "_model_module_version": "1.2.0",
            "_view_count": null,
            "flex_flow": null,
            "width": null,
            "min_width": null,
            "border": null,
            "align_items": null,
            "bottom": null,
            "_model_module": "@jupyter-widgets/base",
            "top": null,
            "grid_column": null,
            "overflow_y": null,
            "overflow_x": null,
            "grid_auto_flow": null,
            "grid_area": null,
            "grid_template_columns": null,
            "flex": null,
            "_model_name": "LayoutModel",
            "justify_items": null,
            "grid_row": null,
            "max_height": null,
            "align_content": null,
            "visibility": null,
            "align_self": null,
            "height": null,
            "min_height": null,
            "padding": null,
            "grid_auto_rows": null,
            "grid_gap": null,
            "max_width": null,
            "order": null,
            "_view_module_version": "1.2.0",
            "grid_template_areas": null,
            "object_position": null,
            "object_fit": null,
            "grid_auto_columns": null,
            "margin": null,
            "display": null,
            "left": null
          }
        },
        "f4ee39d452ec44a19e32ee89a5c1db2b": {
          "model_module": "@jupyter-widgets/base",
          "model_name": "LayoutModel",
          "state": {
            "_view_name": "LayoutView",
            "grid_template_rows": null,
            "right": null,
            "justify_content": null,
            "_view_module": "@jupyter-widgets/base",
            "overflow": null,
            "_model_module_version": "1.2.0",
            "_view_count": null,
            "flex_flow": null,
            "width": null,
            "min_width": null,
            "border": null,
            "align_items": null,
            "bottom": null,
            "_model_module": "@jupyter-widgets/base",
            "top": null,
            "grid_column": null,
            "overflow_y": null,
            "overflow_x": null,
            "grid_auto_flow": null,
            "grid_area": null,
            "grid_template_columns": null,
            "flex": null,
            "_model_name": "LayoutModel",
            "justify_items": null,
            "grid_row": null,
            "max_height": null,
            "align_content": null,
            "visibility": null,
            "align_self": null,
            "height": null,
            "min_height": null,
            "padding": null,
            "grid_auto_rows": null,
            "grid_gap": null,
            "max_width": null,
            "order": null,
            "_view_module_version": "1.2.0",
            "grid_template_areas": null,
            "object_position": null,
            "object_fit": null,
            "grid_auto_columns": null,
            "margin": null,
            "display": null,
            "left": null
          }
        }
      }
    },
    "accelerator": "GPU"
  },
  "cells": [
    {
      "cell_type": "markdown",
      "metadata": {
        "id": "view-in-github",
        "colab_type": "text"
      },
      "source": [
        "<a href=\"https://colab.research.google.com/github/B-Lorentz/physics-bsc-visual/blob/main/15_Quantum_Statistics.ipynb\" target=\"_parent\"><img src=\"https://colab.research.google.com/assets/colab-badge.svg\" alt=\"Open In Colab\"/></a>"
      ]
    },
    {
      "cell_type": "code",
      "metadata": {
        "id": "valPqXjUN0Jb"
      },
      "source": [
        "import numpy as np\n",
        "from matplotlib import pyplot as plt\n",
        "from jax import numpy as jnp\n",
        "from jax import grad, vmap, jit, random, lax, ops\n",
        "from matplotlib.widgets import Slider, Button, RadioButtons"
      ],
      "execution_count": 1,
      "outputs": []
    },
    {
      "cell_type": "code",
      "metadata": {
        "id": "3eMBTqXVyq_7"
      },
      "source": [
        "def MCn(Es, beta, mu, stat):\n",
        "  N_es = Es.shape[0]\n",
        "  efun = lambda ns: (ns*(Es-mu)).sum()\n",
        "  def mcf(key):\n",
        "    def upd(i, state):\n",
        "      ns, sum_ns, key = state\n",
        "      k1, k2, k3, k4 = random.split(key, 4)\n",
        "      inds = random.choice(k1, N_es, shape=(N_es//20,), replace=False)\n",
        "      ns2 = ns.at[inds].set(stat.proposer(k2, ns[inds]))\n",
        "      e0 = efun(ns)\n",
        "      e1 = efun(ns2)\n",
        "      dec = jnp.logical_or(e1<e0, jnp.exp(-beta*(e1-e0)) > random.uniform(k3, (1,)))\n",
        "      ns = lax.cond(dec[0], lambda x:ns2, lambda x:x, ns)\n",
        "      sum_ns = lax.cond(i%5 == 4, lambda x: x+ns, lambda x:x, sum_ns)\n",
        "      return (ns, sum_ns, k4)\n",
        "    k1, k2 = random.split(key)\n",
        "    init = (stat.proposer(k1, np.zeros(N_es, dtype=int)), np.zeros(N_es, dtype=int), k2)\n",
        "    res = lax.fori_loop(0, 1000, upd, init)[1]\n",
        "    return res\n",
        "  return mcf\n",
        "class Stat:\n",
        "  def __init__(self, name, f, proposer):\n",
        "    self.name = name\n",
        "    self.f = f\n",
        "    self.proposer = proposer\n",
        "  \n",
        "fermi = Stat(\"F\", lambda E, beta, mu : 1/(np.exp(beta*(E-mu))+1), lambda key, ns: random.choice(key, 2, shape=ns.shape ))\n",
        "bose = Stat(\"B\", lambda E, beta, mu : 1/(np.exp(beta*(E-mu))-1), lambda key, ns: jnp.maximum((random.normal(key, ns.shape)*jnp.maximum(ns, 10)/4).astype(int)+ns, 0) )"
      ],
      "execution_count": 25,
      "outputs": []
    },
    {
      "cell_type": "code",
      "metadata": {
        "colab": {
          "base_uri": "https://localhost:8080/",
          "height": 599,
          "referenced_widgets": [
            "36b369b7f5b249caa26f3276f4844f2b",
            "b36b1bb4f8364dcd8b08b45cc648c0da",
            "254e68af23774c5fb4ba8375e0476348",
            "b1c2b561ce354191ae232672eb11bc7d",
            "a688e67a1e944bc7a8843a8c45840444",
            "20dd5bb628164a8db5cc12a422029a4f",
            "5e25819c22e743f2b9facbd0906ada55",
            "4dbcf0abf1a7406494121dcf344511e0",
            "7c34da6121dd4b12b506b7b6e422d432",
            "4e8541ad057047c4890c6373a96dc9df"
          ]
        },
        "id": "BUFYMO3pOGcW",
        "outputId": "e65feb10-afc9-4c07-aa53-5243df69ed35"
      },
      "source": [
        "from ipywidgets import interact, widgets\n",
        "N_stat = 100\n",
        "Es = np.linspace(0, 1.0, N_stat)\n",
        "\n",
        "def plotbuilder(stat):\n",
        "  def plotter(beta, mu):\n",
        "    plt.figure(figsize=(10, 8))\n",
        "    ns = stat.f(Es, beta, mu)\n",
        "    plt.plot(Es, ns, label=f\"$f_{stat.name}(E)$\")\n",
        "    bns = np.exp(-beta*Es)\n",
        "    plt.plot(Es, bns*ns.max(), label=\"Boltzmann\")\n",
        "    plt.plot([mu, mu], [0, ns.max()], \"r\", label=r\"$\\mu$\")\n",
        "    plt.xlabel(\"E\", fontsize=14)\n",
        "    plt.ylabel(\"<n>\", fontsize=14)\n",
        "    plt.grid()\n",
        "    mcs = vmap(MCn(Es, beta, mu, stat), 0)(random.split(random.PRNGKey(127), 100))\n",
        "    res, resd = mcs.mean(0), mcs.std(0)\n",
        "    maxi = res.max()/ns.max()\n",
        "    print(res.shape, res.min(), res.max())\n",
        "    plt.errorbar(Es, res/maxi, resd/maxi)\n",
        "    plt.title(r\"$\\beta =\" +f\"{beta:.2f}$\")\n",
        "  \n",
        "    plt.legend(fontsize=14)\n",
        "  return plotter\n",
        "  \n",
        "interact(plotbuilder(fermi), beta=widgets.FloatSlider(min=1.0, max=30, value=3.5), mu=widgets.FloatSlider(min=-1, max=1, value=0.1, step=0.05))\n",
        "None\n"
      ],
      "execution_count": 26,
      "outputs": [
        {
          "output_type": "display_data",
          "data": {
            "application/vnd.jupyter.widget-view+json": {
              "model_id": "36b369b7f5b249caa26f3276f4844f2b",
              "version_minor": 0,
              "version_major": 2
            },
            "text/plain": [
              "interactive(children=(FloatSlider(value=3.5, description='beta', max=30.0, min=1.0), FloatSlider(value=0.1, de…"
            ]
          },
          "metadata": {
            "tags": []
          }
        }
      ]
    },
    {
      "cell_type": "code",
      "metadata": {
        "id": "EMG4Cu69QT7y",
        "colab": {
          "base_uri": "https://localhost:8080/",
          "height": 599,
          "referenced_widgets": [
            "da538aaca65c407aaf998fce3bacec24",
            "9931dc24361147949c621831cebee49a",
            "296609b89d1b4e7284e7e14491e1ca1b",
            "85d87f449447418e96bf1c4103ddd805",
            "43e596afde084498b08b626778b6e561",
            "09f832ea32d44447b8810162b2603ef4",
            "3db1b2a6af964a6c9c02ddbe55c5d9fe",
            "acc1e97736df4f85813989ab0ef6f97e",
            "7df5fd1ffcf342faa21dc7d05cefb879",
            "f4ee39d452ec44a19e32ee89a5c1db2b"
          ]
        },
        "outputId": "9a3030b0-a3a5-4688-de70-e44f748c7a65"
      },
      "source": [
        "interact(plotbuilder(bose), beta=widgets.FloatSlider(min=0.1, max=10, value=3.5), mu=widgets.FloatSlider(min=-1, max=-0.05, value=-0.05, step=0.05))\n",
        "None"
      ],
      "execution_count": 27,
      "outputs": [
        {
          "output_type": "display_data",
          "data": {
            "application/vnd.jupyter.widget-view+json": {
              "model_id": "da538aaca65c407aaf998fce3bacec24",
              "version_minor": 0,
              "version_major": 2
            },
            "text/plain": [
              "interactive(children=(FloatSlider(value=3.5, description='beta', max=10.0, min=0.1), FloatSlider(value=-0.05, …"
            ]
          },
          "metadata": {
            "tags": []
          }
        }
      ]
    },
    {
      "cell_type": "code",
      "metadata": {
        "colab": {
          "base_uri": "https://localhost:8080/"
        },
        "id": "bK-lm9t6xXg7",
        "outputId": "46061864-a030-42f0-9e65-e78e1ba61991"
      },
      "source": [
        ""
      ],
      "execution_count": 24,
      "outputs": [
        {
          "output_type": "execute_result",
          "data": {
            "text/plain": [
              "DeviceArray([0., 0., 0., 0., 0., 0., 0., 0., 0., 0., 0., 0., 0., 0., 0.,\n",
              "             2., 0., 2., 0., 0., 1., 0., 0., 0., 0., 0., 0., 3., 0., 0.,\n",
              "             0., 0., 0., 0., 2., 1., 0., 0., 0., 0., 1., 0., 0., 0., 0.,\n",
              "             0., 0., 0., 0., 1., 0., 0., 0., 1., 0., 0., 0., 0., 1., 0.,\n",
              "             0., 0., 1., 0., 1., 1., 0., 0., 0., 0., 1., 3., 0., 0., 0.,\n",
              "             1., 0., 0., 1., 0., 3., 1., 0., 0., 0., 0., 1., 0., 1., 0.,\n",
              "             0., 0., 0., 0., 0., 0., 1., 0., 0., 1.], dtype=float32)"
            ]
          },
          "metadata": {
            "tags": []
          },
          "execution_count": 24
        }
      ]
    },
    {
      "cell_type": "code",
      "metadata": {
        "id": "xOd80dDVAFBP"
      },
      "source": [
        ""
      ],
      "execution_count": null,
      "outputs": []
    }
  ]
}