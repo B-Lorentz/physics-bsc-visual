{
  "nbformat": 4,
  "nbformat_minor": 0,
  "metadata": {
    "colab": {
      "name": "15_Quantum_Statistics.ipynb",
      "provenance": [],
      "collapsed_sections": [],
      "authorship_tag": "ABX9TyORqrR7z3Oj9ycAGVowsv9V",
      "include_colab_link": true
    },
    "kernelspec": {
      "name": "python3",
      "display_name": "Python 3"
    },
    "language_info": {
      "name": "python"
    },
    "widgets": {
      "application/vnd.jupyter.widget-state+json": {
        "4bf3c857dd644cb1aef7a557b68d18c2": {
          "model_module": "@jupyter-widgets/controls",
          "model_name": "VBoxModel",
          "state": {
            "_view_name": "VBoxView",
            "_dom_classes": [
              "widget-interact"
            ],
            "_model_name": "VBoxModel",
            "_view_module": "@jupyter-widgets/controls",
            "_model_module_version": "1.5.0",
            "_view_count": null,
            "_view_module_version": "1.5.0",
            "box_style": "",
            "layout": "IPY_MODEL_8d26d92e032f41a88d2a55d48afecbe5",
            "_model_module": "@jupyter-widgets/controls",
            "children": [
              "IPY_MODEL_49bbaef27d224270bb4716dd0147b94c",
              "IPY_MODEL_792fc1dab31a4655920d2f10c3edd894",
              "IPY_MODEL_e34bbb3fe11c4a2ea370548f22217be5"
            ]
          }
        },
        "8d26d92e032f41a88d2a55d48afecbe5": {
          "model_module": "@jupyter-widgets/base",
          "model_name": "LayoutModel",
          "state": {
            "_view_name": "LayoutView",
            "grid_template_rows": null,
            "right": null,
            "justify_content": null,
            "_view_module": "@jupyter-widgets/base",
            "overflow": null,
            "_model_module_version": "1.2.0",
            "_view_count": null,
            "flex_flow": null,
            "width": null,
            "min_width": null,
            "border": null,
            "align_items": null,
            "bottom": null,
            "_model_module": "@jupyter-widgets/base",
            "top": null,
            "grid_column": null,
            "overflow_y": null,
            "overflow_x": null,
            "grid_auto_flow": null,
            "grid_area": null,
            "grid_template_columns": null,
            "flex": null,
            "_model_name": "LayoutModel",
            "justify_items": null,
            "grid_row": null,
            "max_height": null,
            "align_content": null,
            "visibility": null,
            "align_self": null,
            "height": null,
            "min_height": null,
            "padding": null,
            "grid_auto_rows": null,
            "grid_gap": null,
            "max_width": null,
            "order": null,
            "_view_module_version": "1.2.0",
            "grid_template_areas": null,
            "object_position": null,
            "object_fit": null,
            "grid_auto_columns": null,
            "margin": null,
            "display": null,
            "left": null
          }
        },
        "49bbaef27d224270bb4716dd0147b94c": {
          "model_module": "@jupyter-widgets/controls",
          "model_name": "FloatSliderModel",
          "state": {
            "_view_name": "FloatSliderView",
            "style": "IPY_MODEL_90fd56d91cdb4737ab638b3e3dad9abb",
            "_dom_classes": [],
            "description": "beta",
            "step": 0.1,
            "_model_name": "FloatSliderModel",
            "orientation": "horizontal",
            "max": 30,
            "_view_module": "@jupyter-widgets/controls",
            "_model_module_version": "1.5.0",
            "value": 3.5,
            "_view_count": null,
            "disabled": false,
            "_view_module_version": "1.5.0",
            "min": 1,
            "continuous_update": true,
            "readout_format": ".2f",
            "description_tooltip": null,
            "readout": true,
            "_model_module": "@jupyter-widgets/controls",
            "layout": "IPY_MODEL_1e4b722d0822475f8fbed1a2767330bf"
          }
        },
        "792fc1dab31a4655920d2f10c3edd894": {
          "model_module": "@jupyter-widgets/controls",
          "model_name": "FloatSliderModel",
          "state": {
            "_view_name": "FloatSliderView",
            "style": "IPY_MODEL_4f3ee879d0f44c3d9fcd7de0148faad9",
            "_dom_classes": [],
            "description": "mu",
            "step": 0.05,
            "_model_name": "FloatSliderModel",
            "orientation": "horizontal",
            "max": 1,
            "_view_module": "@jupyter-widgets/controls",
            "_model_module_version": "1.5.0",
            "value": -0.1,
            "_view_count": null,
            "disabled": false,
            "_view_module_version": "1.5.0",
            "min": -1,
            "continuous_update": true,
            "readout_format": ".2f",
            "description_tooltip": null,
            "readout": true,
            "_model_module": "@jupyter-widgets/controls",
            "layout": "IPY_MODEL_993ff98cc2c341aa9f5f7fa4d327da6e"
          }
        },
        "e34bbb3fe11c4a2ea370548f22217be5": {
          "model_module": "@jupyter-widgets/output",
          "model_name": "OutputModel",
          "state": {
            "_view_name": "OutputView",
            "msg_id": "",
            "_dom_classes": [],
            "_model_name": "OutputModel",
            "outputs": [
              {
                "output_type": "display_data",
                "metadata": {
                  "tags": [],
                  "needs_background": "light"
                },
                "image/png": "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\n",
                "text/plain": "<Figure size 720x576 with 1 Axes>"
              }
            ],
            "_view_module": "@jupyter-widgets/output",
            "_model_module_version": "1.0.0",
            "_view_count": null,
            "_view_module_version": "1.0.0",
            "layout": "IPY_MODEL_638f0d5239a9456c82336342bf318453",
            "_model_module": "@jupyter-widgets/output"
          }
        },
        "90fd56d91cdb4737ab638b3e3dad9abb": {
          "model_module": "@jupyter-widgets/controls",
          "model_name": "SliderStyleModel",
          "state": {
            "_view_name": "StyleView",
            "handle_color": null,
            "_model_name": "SliderStyleModel",
            "description_width": "",
            "_view_module": "@jupyter-widgets/base",
            "_model_module_version": "1.5.0",
            "_view_count": null,
            "_view_module_version": "1.2.0",
            "_model_module": "@jupyter-widgets/controls"
          }
        },
        "1e4b722d0822475f8fbed1a2767330bf": {
          "model_module": "@jupyter-widgets/base",
          "model_name": "LayoutModel",
          "state": {
            "_view_name": "LayoutView",
            "grid_template_rows": null,
            "right": null,
            "justify_content": null,
            "_view_module": "@jupyter-widgets/base",
            "overflow": null,
            "_model_module_version": "1.2.0",
            "_view_count": null,
            "flex_flow": null,
            "width": null,
            "min_width": null,
            "border": null,
            "align_items": null,
            "bottom": null,
            "_model_module": "@jupyter-widgets/base",
            "top": null,
            "grid_column": null,
            "overflow_y": null,
            "overflow_x": null,
            "grid_auto_flow": null,
            "grid_area": null,
            "grid_template_columns": null,
            "flex": null,
            "_model_name": "LayoutModel",
            "justify_items": null,
            "grid_row": null,
            "max_height": null,
            "align_content": null,
            "visibility": null,
            "align_self": null,
            "height": null,
            "min_height": null,
            "padding": null,
            "grid_auto_rows": null,
            "grid_gap": null,
            "max_width": null,
            "order": null,
            "_view_module_version": "1.2.0",
            "grid_template_areas": null,
            "object_position": null,
            "object_fit": null,
            "grid_auto_columns": null,
            "margin": null,
            "display": null,
            "left": null
          }
        },
        "4f3ee879d0f44c3d9fcd7de0148faad9": {
          "model_module": "@jupyter-widgets/controls",
          "model_name": "SliderStyleModel",
          "state": {
            "_view_name": "StyleView",
            "handle_color": null,
            "_model_name": "SliderStyleModel",
            "description_width": "",
            "_view_module": "@jupyter-widgets/base",
            "_model_module_version": "1.5.0",
            "_view_count": null,
            "_view_module_version": "1.2.0",
            "_model_module": "@jupyter-widgets/controls"
          }
        },
        "993ff98cc2c341aa9f5f7fa4d327da6e": {
          "model_module": "@jupyter-widgets/base",
          "model_name": "LayoutModel",
          "state": {
            "_view_name": "LayoutView",
            "grid_template_rows": null,
            "right": null,
            "justify_content": null,
            "_view_module": "@jupyter-widgets/base",
            "overflow": null,
            "_model_module_version": "1.2.0",
            "_view_count": null,
            "flex_flow": null,
            "width": null,
            "min_width": null,
            "border": null,
            "align_items": null,
            "bottom": null,
            "_model_module": "@jupyter-widgets/base",
            "top": null,
            "grid_column": null,
            "overflow_y": null,
            "overflow_x": null,
            "grid_auto_flow": null,
            "grid_area": null,
            "grid_template_columns": null,
            "flex": null,
            "_model_name": "LayoutModel",
            "justify_items": null,
            "grid_row": null,
            "max_height": null,
            "align_content": null,
            "visibility": null,
            "align_self": null,
            "height": null,
            "min_height": null,
            "padding": null,
            "grid_auto_rows": null,
            "grid_gap": null,
            "max_width": null,
            "order": null,
            "_view_module_version": "1.2.0",
            "grid_template_areas": null,
            "object_position": null,
            "object_fit": null,
            "grid_auto_columns": null,
            "margin": null,
            "display": null,
            "left": null
          }
        },
        "638f0d5239a9456c82336342bf318453": {
          "model_module": "@jupyter-widgets/base",
          "model_name": "LayoutModel",
          "state": {
            "_view_name": "LayoutView",
            "grid_template_rows": null,
            "right": null,
            "justify_content": null,
            "_view_module": "@jupyter-widgets/base",
            "overflow": null,
            "_model_module_version": "1.2.0",
            "_view_count": null,
            "flex_flow": null,
            "width": null,
            "min_width": null,
            "border": null,
            "align_items": null,
            "bottom": null,
            "_model_module": "@jupyter-widgets/base",
            "top": null,
            "grid_column": null,
            "overflow_y": null,
            "overflow_x": null,
            "grid_auto_flow": null,
            "grid_area": null,
            "grid_template_columns": null,
            "flex": null,
            "_model_name": "LayoutModel",
            "justify_items": null,
            "grid_row": null,
            "max_height": null,
            "align_content": null,
            "visibility": null,
            "align_self": null,
            "height": null,
            "min_height": null,
            "padding": null,
            "grid_auto_rows": null,
            "grid_gap": null,
            "max_width": null,
            "order": null,
            "_view_module_version": "1.2.0",
            "grid_template_areas": null,
            "object_position": null,
            "object_fit": null,
            "grid_auto_columns": null,
            "margin": null,
            "display": null,
            "left": null
          }
        },
        "bddb499d04174ccda59d7d22bcd5d73f": {
          "model_module": "@jupyter-widgets/controls",
          "model_name": "VBoxModel",
          "state": {
            "_view_name": "VBoxView",
            "_dom_classes": [
              "widget-interact"
            ],
            "_model_name": "VBoxModel",
            "_view_module": "@jupyter-widgets/controls",
            "_model_module_version": "1.5.0",
            "_view_count": null,
            "_view_module_version": "1.5.0",
            "box_style": "",
            "layout": "IPY_MODEL_e64d1e2b0ba54f3298305557bf3efb9c",
            "_model_module": "@jupyter-widgets/controls",
            "children": [
              "IPY_MODEL_764fe4b745ae47efa0d871bf4d9af325",
              "IPY_MODEL_1b2b15aa51a74210aa505f83d5d7f358",
              "IPY_MODEL_ed2063e0a6884b0d85c3a8b1636c098a"
            ]
          }
        },
        "e64d1e2b0ba54f3298305557bf3efb9c": {
          "model_module": "@jupyter-widgets/base",
          "model_name": "LayoutModel",
          "state": {
            "_view_name": "LayoutView",
            "grid_template_rows": null,
            "right": null,
            "justify_content": null,
            "_view_module": "@jupyter-widgets/base",
            "overflow": null,
            "_model_module_version": "1.2.0",
            "_view_count": null,
            "flex_flow": null,
            "width": null,
            "min_width": null,
            "border": null,
            "align_items": null,
            "bottom": null,
            "_model_module": "@jupyter-widgets/base",
            "top": null,
            "grid_column": null,
            "overflow_y": null,
            "overflow_x": null,
            "grid_auto_flow": null,
            "grid_area": null,
            "grid_template_columns": null,
            "flex": null,
            "_model_name": "LayoutModel",
            "justify_items": null,
            "grid_row": null,
            "max_height": null,
            "align_content": null,
            "visibility": null,
            "align_self": null,
            "height": null,
            "min_height": null,
            "padding": null,
            "grid_auto_rows": null,
            "grid_gap": null,
            "max_width": null,
            "order": null,
            "_view_module_version": "1.2.0",
            "grid_template_areas": null,
            "object_position": null,
            "object_fit": null,
            "grid_auto_columns": null,
            "margin": null,
            "display": null,
            "left": null
          }
        },
        "764fe4b745ae47efa0d871bf4d9af325": {
          "model_module": "@jupyter-widgets/controls",
          "model_name": "FloatSliderModel",
          "state": {
            "_view_name": "FloatSliderView",
            "style": "IPY_MODEL_b227232f53574ce48d7fc66301c8d9d8",
            "_dom_classes": [],
            "description": "beta",
            "step": 0.1,
            "_model_name": "FloatSliderModel",
            "orientation": "horizontal",
            "max": 30,
            "_view_module": "@jupyter-widgets/controls",
            "_model_module_version": "1.5.0",
            "value": 3.5,
            "_view_count": null,
            "disabled": false,
            "_view_module_version": "1.5.0",
            "min": 1,
            "continuous_update": true,
            "readout_format": ".2f",
            "description_tooltip": null,
            "readout": true,
            "_model_module": "@jupyter-widgets/controls",
            "layout": "IPY_MODEL_208ec993ba1e4f9e9e55b23778dbc81c"
          }
        },
        "1b2b15aa51a74210aa505f83d5d7f358": {
          "model_module": "@jupyter-widgets/controls",
          "model_name": "FloatSliderModel",
          "state": {
            "_view_name": "FloatSliderView",
            "style": "IPY_MODEL_f2b3a4cd593646198230f968d4a61dcb",
            "_dom_classes": [],
            "description": "mu",
            "step": 0.05,
            "_model_name": "FloatSliderModel",
            "orientation": "horizontal",
            "max": -0.05,
            "_view_module": "@jupyter-widgets/controls",
            "_model_module_version": "1.5.0",
            "value": -0.65,
            "_view_count": null,
            "disabled": false,
            "_view_module_version": "1.5.0",
            "min": -1,
            "continuous_update": true,
            "readout_format": ".2f",
            "description_tooltip": null,
            "readout": true,
            "_model_module": "@jupyter-widgets/controls",
            "layout": "IPY_MODEL_d750da66b123468584602f51adc6c760"
          }
        },
        "ed2063e0a6884b0d85c3a8b1636c098a": {
          "model_module": "@jupyter-widgets/output",
          "model_name": "OutputModel",
          "state": {
            "_view_name": "OutputView",
            "msg_id": "",
            "_dom_classes": [],
            "_model_name": "OutputModel",
            "outputs": [
              {
                "output_type": "display_data",
                "metadata": {
                  "tags": [],
                  "needs_background": "light"
                },
                "image/png": "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\n",
                "text/plain": "<Figure size 720x576 with 1 Axes>"
              }
            ],
            "_view_module": "@jupyter-widgets/output",
            "_model_module_version": "1.0.0",
            "_view_count": null,
            "_view_module_version": "1.0.0",
            "layout": "IPY_MODEL_014484c6aebe4e2b8c59d15b11c3729a",
            "_model_module": "@jupyter-widgets/output"
          }
        },
        "b227232f53574ce48d7fc66301c8d9d8": {
          "model_module": "@jupyter-widgets/controls",
          "model_name": "SliderStyleModel",
          "state": {
            "_view_name": "StyleView",
            "handle_color": null,
            "_model_name": "SliderStyleModel",
            "description_width": "",
            "_view_module": "@jupyter-widgets/base",
            "_model_module_version": "1.5.0",
            "_view_count": null,
            "_view_module_version": "1.2.0",
            "_model_module": "@jupyter-widgets/controls"
          }
        },
        "208ec993ba1e4f9e9e55b23778dbc81c": {
          "model_module": "@jupyter-widgets/base",
          "model_name": "LayoutModel",
          "state": {
            "_view_name": "LayoutView",
            "grid_template_rows": null,
            "right": null,
            "justify_content": null,
            "_view_module": "@jupyter-widgets/base",
            "overflow": null,
            "_model_module_version": "1.2.0",
            "_view_count": null,
            "flex_flow": null,
            "width": null,
            "min_width": null,
            "border": null,
            "align_items": null,
            "bottom": null,
            "_model_module": "@jupyter-widgets/base",
            "top": null,
            "grid_column": null,
            "overflow_y": null,
            "overflow_x": null,
            "grid_auto_flow": null,
            "grid_area": null,
            "grid_template_columns": null,
            "flex": null,
            "_model_name": "LayoutModel",
            "justify_items": null,
            "grid_row": null,
            "max_height": null,
            "align_content": null,
            "visibility": null,
            "align_self": null,
            "height": null,
            "min_height": null,
            "padding": null,
            "grid_auto_rows": null,
            "grid_gap": null,
            "max_width": null,
            "order": null,
            "_view_module_version": "1.2.0",
            "grid_template_areas": null,
            "object_position": null,
            "object_fit": null,
            "grid_auto_columns": null,
            "margin": null,
            "display": null,
            "left": null
          }
        },
        "f2b3a4cd593646198230f968d4a61dcb": {
          "model_module": "@jupyter-widgets/controls",
          "model_name": "SliderStyleModel",
          "state": {
            "_view_name": "StyleView",
            "handle_color": null,
            "_model_name": "SliderStyleModel",
            "description_width": "",
            "_view_module": "@jupyter-widgets/base",
            "_model_module_version": "1.5.0",
            "_view_count": null,
            "_view_module_version": "1.2.0",
            "_model_module": "@jupyter-widgets/controls"
          }
        },
        "d750da66b123468584602f51adc6c760": {
          "model_module": "@jupyter-widgets/base",
          "model_name": "LayoutModel",
          "state": {
            "_view_name": "LayoutView",
            "grid_template_rows": null,
            "right": null,
            "justify_content": null,
            "_view_module": "@jupyter-widgets/base",
            "overflow": null,
            "_model_module_version": "1.2.0",
            "_view_count": null,
            "flex_flow": null,
            "width": null,
            "min_width": null,
            "border": null,
            "align_items": null,
            "bottom": null,
            "_model_module": "@jupyter-widgets/base",
            "top": null,
            "grid_column": null,
            "overflow_y": null,
            "overflow_x": null,
            "grid_auto_flow": null,
            "grid_area": null,
            "grid_template_columns": null,
            "flex": null,
            "_model_name": "LayoutModel",
            "justify_items": null,
            "grid_row": null,
            "max_height": null,
            "align_content": null,
            "visibility": null,
            "align_self": null,
            "height": null,
            "min_height": null,
            "padding": null,
            "grid_auto_rows": null,
            "grid_gap": null,
            "max_width": null,
            "order": null,
            "_view_module_version": "1.2.0",
            "grid_template_areas": null,
            "object_position": null,
            "object_fit": null,
            "grid_auto_columns": null,
            "margin": null,
            "display": null,
            "left": null
          }
        },
        "014484c6aebe4e2b8c59d15b11c3729a": {
          "model_module": "@jupyter-widgets/base",
          "model_name": "LayoutModel",
          "state": {
            "_view_name": "LayoutView",
            "grid_template_rows": null,
            "right": null,
            "justify_content": null,
            "_view_module": "@jupyter-widgets/base",
            "overflow": null,
            "_model_module_version": "1.2.0",
            "_view_count": null,
            "flex_flow": null,
            "width": null,
            "min_width": null,
            "border": null,
            "align_items": null,
            "bottom": null,
            "_model_module": "@jupyter-widgets/base",
            "top": null,
            "grid_column": null,
            "overflow_y": null,
            "overflow_x": null,
            "grid_auto_flow": null,
            "grid_area": null,
            "grid_template_columns": null,
            "flex": null,
            "_model_name": "LayoutModel",
            "justify_items": null,
            "grid_row": null,
            "max_height": null,
            "align_content": null,
            "visibility": null,
            "align_self": null,
            "height": null,
            "min_height": null,
            "padding": null,
            "grid_auto_rows": null,
            "grid_gap": null,
            "max_width": null,
            "order": null,
            "_view_module_version": "1.2.0",
            "grid_template_areas": null,
            "object_position": null,
            "object_fit": null,
            "grid_auto_columns": null,
            "margin": null,
            "display": null,
            "left": null
          }
        }
      }
    }
  },
  "cells": [
    {
      "cell_type": "markdown",
      "metadata": {
        "id": "view-in-github",
        "colab_type": "text"
      },
      "source": [
        "<a href=\"https://colab.research.google.com/github/B-Lorentz/physics-bsc-visual/blob/main/15_Quantum_Statistics.ipynb\" target=\"_parent\"><img src=\"https://colab.research.google.com/assets/colab-badge.svg\" alt=\"Open In Colab\"/></a>"
      ]
    },
    {
      "cell_type": "code",
      "metadata": {
        "id": "valPqXjUN0Jb"
      },
      "source": [
        "import numpy as np\n",
        "from matplotlib import pyplot as plt\n",
        "from jax import numpy as jnp\n",
        "from jax import grad, vmap, jit\n",
        "from matplotlib.widgets import Slider, Button, RadioButtons"
      ],
      "execution_count": 1,
      "outputs": []
    },
    {
      "cell_type": "code",
      "metadata": {
        "colab": {
          "base_uri": "https://localhost:8080/",
          "height": 582,
          "referenced_widgets": [
            "4bf3c857dd644cb1aef7a557b68d18c2",
            "8d26d92e032f41a88d2a55d48afecbe5",
            "49bbaef27d224270bb4716dd0147b94c",
            "792fc1dab31a4655920d2f10c3edd894",
            "e34bbb3fe11c4a2ea370548f22217be5",
            "90fd56d91cdb4737ab638b3e3dad9abb",
            "1e4b722d0822475f8fbed1a2767330bf",
            "4f3ee879d0f44c3d9fcd7de0148faad9",
            "993ff98cc2c341aa9f5f7fa4d327da6e",
            "638f0d5239a9456c82336342bf318453"
          ]
        },
        "id": "BUFYMO3pOGcW",
        "outputId": "42a68882-e693-4b05-97e2-830aa6a45948"
      },
      "source": [
        "from ipywidgets import interact, widgets\n",
        "N_stat = 60\n",
        "Es = np.linspace(0, 1.0, N_stat)\n",
        "fermi = lambda E, beta, mu : 1/(np.exp(beta*(E-mu))+1)\n",
        "bose = lambda E, beta, mu : 1/(np.exp(beta*(E-mu))-1)\n",
        "def plotbuilder(f, name):\n",
        "  def plotter(beta, mu):\n",
        "    plt.figure(figsize=(10, 8))\n",
        "    ns = f(Es, beta, mu)\n",
        "    plt.plot(Es, ns, label=f\"$f_{name}(E)$\")\n",
        "    bns = np.exp(-beta*Es)\n",
        "    plt.plot(Es, bns*ns.max(), label=\"Boltzmann\")\n",
        "    plt.plot([mu, mu], [0, ns.max()], \"r\", label=r\"$\\mu$\")\n",
        "    plt.xlabel(\"E\", fontsize=14)\n",
        "    plt.ylabel(\"<n>\", fontsize=14)\n",
        "    plt.grid()\n",
        "    plt.title(r\"$\\beta =\" +f\"{beta:.2f}$\")\n",
        "  \n",
        "    plt.legend(fontsize=14)\n",
        "  return plotter\n",
        "  \n",
        "interact(plotbuilder(fermi, \"F\"), beta=widgets.FloatSlider(min=1.0, max=30, value=3.5), mu=widgets.FloatSlider(min=-1, max=1, value=0.1, step=0.05))\n",
        "None\n"
      ],
      "execution_count": 14,
      "outputs": [
        {
          "output_type": "display_data",
          "data": {
            "application/vnd.jupyter.widget-view+json": {
              "model_id": "4bf3c857dd644cb1aef7a557b68d18c2",
              "version_minor": 0,
              "version_major": 2
            },
            "text/plain": [
              "interactive(children=(FloatSlider(value=3.5, description='beta', max=30.0, min=1.0), FloatSlider(value=0.1, de…"
            ]
          },
          "metadata": {
            "tags": []
          }
        }
      ]
    },
    {
      "cell_type": "code",
      "metadata": {
        "id": "EMG4Cu69QT7y",
        "outputId": "18c00c5e-f95b-4409-978c-3ec30713d9fc",
        "colab": {
          "base_uri": "https://localhost:8080/",
          "height": 582,
          "referenced_widgets": [
            "bddb499d04174ccda59d7d22bcd5d73f",
            "e64d1e2b0ba54f3298305557bf3efb9c",
            "764fe4b745ae47efa0d871bf4d9af325",
            "1b2b15aa51a74210aa505f83d5d7f358",
            "ed2063e0a6884b0d85c3a8b1636c098a",
            "b227232f53574ce48d7fc66301c8d9d8",
            "208ec993ba1e4f9e9e55b23778dbc81c",
            "f2b3a4cd593646198230f968d4a61dcb",
            "d750da66b123468584602f51adc6c760",
            "014484c6aebe4e2b8c59d15b11c3729a"
          ]
        }
      },
      "source": [
        "interact(plotbuilder(bose, \"B\"), beta=widgets.FloatSlider(min=1.0, max=30, value=3.5), mu=widgets.FloatSlider(min=-1, max=-0.05, value=-0.05, step=0.05))\n",
        "None"
      ],
      "execution_count": 16,
      "outputs": [
        {
          "output_type": "display_data",
          "data": {
            "application/vnd.jupyter.widget-view+json": {
              "model_id": "bddb499d04174ccda59d7d22bcd5d73f",
              "version_minor": 0,
              "version_major": 2
            },
            "text/plain": [
              "interactive(children=(FloatSlider(value=3.5, description='beta', max=30.0, min=1.0), FloatSlider(value=-0.05, …"
            ]
          },
          "metadata": {
            "tags": []
          }
        }
      ]
    },
    {
      "cell_type": "code",
      "metadata": {
        "id": "bK-lm9t6xXg7"
      },
      "source": [
        ""
      ],
      "execution_count": null,
      "outputs": []
    }
  ]
}