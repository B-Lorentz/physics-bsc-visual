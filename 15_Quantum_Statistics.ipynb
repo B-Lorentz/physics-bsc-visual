{
  "nbformat": 4,
  "nbformat_minor": 0,
  "metadata": {
    "colab": {
      "name": "15_Quantum_Statistics.ipynb",
      "provenance": [],
      "collapsed_sections": [],
      "authorship_tag": "ABX9TyOwbb51LlQpiFS3ZcBLfilF",
      "include_colab_link": true
    },
    "kernelspec": {
      "name": "python3",
      "display_name": "Python 3"
    },
    "language_info": {
      "name": "python"
    },
    "widgets": {
      "application/vnd.jupyter.widget-state+json": {
        "f0f5678056f748df8594c8e42d74f36d": {
          "model_module": "@jupyter-widgets/controls",
          "model_name": "VBoxModel",
          "state": {
            "_view_name": "VBoxView",
            "_dom_classes": [
              "widget-interact"
            ],
            "_model_name": "VBoxModel",
            "_view_module": "@jupyter-widgets/controls",
            "_model_module_version": "1.5.0",
            "_view_count": null,
            "_view_module_version": "1.5.0",
            "box_style": "",
            "layout": "IPY_MODEL_f59540636530472f9ed5083ccf96e040",
            "_model_module": "@jupyter-widgets/controls",
            "children": [
              "IPY_MODEL_a444d5afe15145b48c28ebe9bdf67a9b",
              "IPY_MODEL_6fbb60e48abb4054ab3ee89b43bfc2fa",
              "IPY_MODEL_eeb4067a76944beaa691910b3dde1b41"
            ]
          }
        },
        "f59540636530472f9ed5083ccf96e040": {
          "model_module": "@jupyter-widgets/base",
          "model_name": "LayoutModel",
          "state": {
            "_view_name": "LayoutView",
            "grid_template_rows": null,
            "right": null,
            "justify_content": null,
            "_view_module": "@jupyter-widgets/base",
            "overflow": null,
            "_model_module_version": "1.2.0",
            "_view_count": null,
            "flex_flow": null,
            "width": null,
            "min_width": null,
            "border": null,
            "align_items": null,
            "bottom": null,
            "_model_module": "@jupyter-widgets/base",
            "top": null,
            "grid_column": null,
            "overflow_y": null,
            "overflow_x": null,
            "grid_auto_flow": null,
            "grid_area": null,
            "grid_template_columns": null,
            "flex": null,
            "_model_name": "LayoutModel",
            "justify_items": null,
            "grid_row": null,
            "max_height": null,
            "align_content": null,
            "visibility": null,
            "align_self": null,
            "height": null,
            "min_height": null,
            "padding": null,
            "grid_auto_rows": null,
            "grid_gap": null,
            "max_width": null,
            "order": null,
            "_view_module_version": "1.2.0",
            "grid_template_areas": null,
            "object_position": null,
            "object_fit": null,
            "grid_auto_columns": null,
            "margin": null,
            "display": null,
            "left": null
          }
        },
        "a444d5afe15145b48c28ebe9bdf67a9b": {
          "model_module": "@jupyter-widgets/controls",
          "model_name": "FloatSliderModel",
          "state": {
            "_view_name": "FloatSliderView",
            "style": "IPY_MODEL_321495acc0d24213822c79ed5f51031f",
            "_dom_classes": [],
            "description": "beta",
            "step": 0.1,
            "_model_name": "FloatSliderModel",
            "orientation": "horizontal",
            "max": 30,
            "_view_module": "@jupyter-widgets/controls",
            "_model_module_version": "1.5.0",
            "value": 5.7,
            "_view_count": null,
            "disabled": false,
            "_view_module_version": "1.5.0",
            "min": 1,
            "continuous_update": true,
            "readout_format": ".2f",
            "description_tooltip": null,
            "readout": true,
            "_model_module": "@jupyter-widgets/controls",
            "layout": "IPY_MODEL_9326bfb637194e18b274890ee9ec87b7"
          }
        },
        "6fbb60e48abb4054ab3ee89b43bfc2fa": {
          "model_module": "@jupyter-widgets/controls",
          "model_name": "FloatSliderModel",
          "state": {
            "_view_name": "FloatSliderView",
            "style": "IPY_MODEL_7ac378c55fea4e56b85aed1241fa7b18",
            "_dom_classes": [],
            "description": "mu",
            "step": 0.05,
            "_model_name": "FloatSliderModel",
            "orientation": "horizontal",
            "max": 1,
            "_view_module": "@jupyter-widgets/controls",
            "_model_module_version": "1.5.0",
            "value": 0.1,
            "_view_count": null,
            "disabled": false,
            "_view_module_version": "1.5.0",
            "min": -1,
            "continuous_update": true,
            "readout_format": ".2f",
            "description_tooltip": null,
            "readout": true,
            "_model_module": "@jupyter-widgets/controls",
            "layout": "IPY_MODEL_61da20c1cddf44dbacafd491b9ad8301"
          }
        },
        "eeb4067a76944beaa691910b3dde1b41": {
          "model_module": "@jupyter-widgets/output",
          "model_name": "OutputModel",
          "state": {
            "_view_name": "OutputView",
            "msg_id": "",
            "_dom_classes": [],
            "_model_name": "OutputModel",
            "outputs": [
              {
                "output_type": "display_data",
                "metadata": {
                  "tags": [],
                  "needs_background": "light"
                },
                "image/png": "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\n",
                "text/plain": "<Figure size 720x576 with 1 Axes>"
              }
            ],
            "_view_module": "@jupyter-widgets/output",
            "_model_module_version": "1.0.0",
            "_view_count": null,
            "_view_module_version": "1.0.0",
            "layout": "IPY_MODEL_29b12b5005464028a5396c8627d1e911",
            "_model_module": "@jupyter-widgets/output"
          }
        },
        "321495acc0d24213822c79ed5f51031f": {
          "model_module": "@jupyter-widgets/controls",
          "model_name": "SliderStyleModel",
          "state": {
            "_view_name": "StyleView",
            "handle_color": null,
            "_model_name": "SliderStyleModel",
            "description_width": "",
            "_view_module": "@jupyter-widgets/base",
            "_model_module_version": "1.5.0",
            "_view_count": null,
            "_view_module_version": "1.2.0",
            "_model_module": "@jupyter-widgets/controls"
          }
        },
        "9326bfb637194e18b274890ee9ec87b7": {
          "model_module": "@jupyter-widgets/base",
          "model_name": "LayoutModel",
          "state": {
            "_view_name": "LayoutView",
            "grid_template_rows": null,
            "right": null,
            "justify_content": null,
            "_view_module": "@jupyter-widgets/base",
            "overflow": null,
            "_model_module_version": "1.2.0",
            "_view_count": null,
            "flex_flow": null,
            "width": null,
            "min_width": null,
            "border": null,
            "align_items": null,
            "bottom": null,
            "_model_module": "@jupyter-widgets/base",
            "top": null,
            "grid_column": null,
            "overflow_y": null,
            "overflow_x": null,
            "grid_auto_flow": null,
            "grid_area": null,
            "grid_template_columns": null,
            "flex": null,
            "_model_name": "LayoutModel",
            "justify_items": null,
            "grid_row": null,
            "max_height": null,
            "align_content": null,
            "visibility": null,
            "align_self": null,
            "height": null,
            "min_height": null,
            "padding": null,
            "grid_auto_rows": null,
            "grid_gap": null,
            "max_width": null,
            "order": null,
            "_view_module_version": "1.2.0",
            "grid_template_areas": null,
            "object_position": null,
            "object_fit": null,
            "grid_auto_columns": null,
            "margin": null,
            "display": null,
            "left": null
          }
        },
        "7ac378c55fea4e56b85aed1241fa7b18": {
          "model_module": "@jupyter-widgets/controls",
          "model_name": "SliderStyleModel",
          "state": {
            "_view_name": "StyleView",
            "handle_color": null,
            "_model_name": "SliderStyleModel",
            "description_width": "",
            "_view_module": "@jupyter-widgets/base",
            "_model_module_version": "1.5.0",
            "_view_count": null,
            "_view_module_version": "1.2.0",
            "_model_module": "@jupyter-widgets/controls"
          }
        },
        "61da20c1cddf44dbacafd491b9ad8301": {
          "model_module": "@jupyter-widgets/base",
          "model_name": "LayoutModel",
          "state": {
            "_view_name": "LayoutView",
            "grid_template_rows": null,
            "right": null,
            "justify_content": null,
            "_view_module": "@jupyter-widgets/base",
            "overflow": null,
            "_model_module_version": "1.2.0",
            "_view_count": null,
            "flex_flow": null,
            "width": null,
            "min_width": null,
            "border": null,
            "align_items": null,
            "bottom": null,
            "_model_module": "@jupyter-widgets/base",
            "top": null,
            "grid_column": null,
            "overflow_y": null,
            "overflow_x": null,
            "grid_auto_flow": null,
            "grid_area": null,
            "grid_template_columns": null,
            "flex": null,
            "_model_name": "LayoutModel",
            "justify_items": null,
            "grid_row": null,
            "max_height": null,
            "align_content": null,
            "visibility": null,
            "align_self": null,
            "height": null,
            "min_height": null,
            "padding": null,
            "grid_auto_rows": null,
            "grid_gap": null,
            "max_width": null,
            "order": null,
            "_view_module_version": "1.2.0",
            "grid_template_areas": null,
            "object_position": null,
            "object_fit": null,
            "grid_auto_columns": null,
            "margin": null,
            "display": null,
            "left": null
          }
        },
        "29b12b5005464028a5396c8627d1e911": {
          "model_module": "@jupyter-widgets/base",
          "model_name": "LayoutModel",
          "state": {
            "_view_name": "LayoutView",
            "grid_template_rows": null,
            "right": null,
            "justify_content": null,
            "_view_module": "@jupyter-widgets/base",
            "overflow": null,
            "_model_module_version": "1.2.0",
            "_view_count": null,
            "flex_flow": null,
            "width": null,
            "min_width": null,
            "border": null,
            "align_items": null,
            "bottom": null,
            "_model_module": "@jupyter-widgets/base",
            "top": null,
            "grid_column": null,
            "overflow_y": null,
            "overflow_x": null,
            "grid_auto_flow": null,
            "grid_area": null,
            "grid_template_columns": null,
            "flex": null,
            "_model_name": "LayoutModel",
            "justify_items": null,
            "grid_row": null,
            "max_height": null,
            "align_content": null,
            "visibility": null,
            "align_self": null,
            "height": null,
            "min_height": null,
            "padding": null,
            "grid_auto_rows": null,
            "grid_gap": null,
            "max_width": null,
            "order": null,
            "_view_module_version": "1.2.0",
            "grid_template_areas": null,
            "object_position": null,
            "object_fit": null,
            "grid_auto_columns": null,
            "margin": null,
            "display": null,
            "left": null
          }
        },
        "d74715ae905a476d976be1404f995ab9": {
          "model_module": "@jupyter-widgets/controls",
          "model_name": "VBoxModel",
          "state": {
            "_view_name": "VBoxView",
            "_dom_classes": [
              "widget-interact"
            ],
            "_model_name": "VBoxModel",
            "_view_module": "@jupyter-widgets/controls",
            "_model_module_version": "1.5.0",
            "_view_count": null,
            "_view_module_version": "1.5.0",
            "box_style": "",
            "layout": "IPY_MODEL_ca97fc2b82494b208d4a3fec00bff922",
            "_model_module": "@jupyter-widgets/controls",
            "children": [
              "IPY_MODEL_06de8622b0394fedad1802086a5078dd",
              "IPY_MODEL_f3901402070e4072bfa35e7220a3e524",
              "IPY_MODEL_fa9a9e28a04f43c2806d969dd596a082"
            ]
          }
        },
        "ca97fc2b82494b208d4a3fec00bff922": {
          "model_module": "@jupyter-widgets/base",
          "model_name": "LayoutModel",
          "state": {
            "_view_name": "LayoutView",
            "grid_template_rows": null,
            "right": null,
            "justify_content": null,
            "_view_module": "@jupyter-widgets/base",
            "overflow": null,
            "_model_module_version": "1.2.0",
            "_view_count": null,
            "flex_flow": null,
            "width": null,
            "min_width": null,
            "border": null,
            "align_items": null,
            "bottom": null,
            "_model_module": "@jupyter-widgets/base",
            "top": null,
            "grid_column": null,
            "overflow_y": null,
            "overflow_x": null,
            "grid_auto_flow": null,
            "grid_area": null,
            "grid_template_columns": null,
            "flex": null,
            "_model_name": "LayoutModel",
            "justify_items": null,
            "grid_row": null,
            "max_height": null,
            "align_content": null,
            "visibility": null,
            "align_self": null,
            "height": null,
            "min_height": null,
            "padding": null,
            "grid_auto_rows": null,
            "grid_gap": null,
            "max_width": null,
            "order": null,
            "_view_module_version": "1.2.0",
            "grid_template_areas": null,
            "object_position": null,
            "object_fit": null,
            "grid_auto_columns": null,
            "margin": null,
            "display": null,
            "left": null
          }
        },
        "06de8622b0394fedad1802086a5078dd": {
          "model_module": "@jupyter-widgets/controls",
          "model_name": "FloatSliderModel",
          "state": {
            "_view_name": "FloatSliderView",
            "style": "IPY_MODEL_5159700e42084630b3b419212bbc7f8a",
            "_dom_classes": [],
            "description": "beta",
            "step": 0.1,
            "_model_name": "FloatSliderModel",
            "orientation": "horizontal",
            "max": 10,
            "_view_module": "@jupyter-widgets/controls",
            "_model_module_version": "1.5.0",
            "value": 3.5,
            "_view_count": null,
            "disabled": false,
            "_view_module_version": "1.5.0",
            "min": 0.1,
            "continuous_update": true,
            "readout_format": ".2f",
            "description_tooltip": null,
            "readout": true,
            "_model_module": "@jupyter-widgets/controls",
            "layout": "IPY_MODEL_8972d88b00c646d79e405488de2b02aa"
          }
        },
        "f3901402070e4072bfa35e7220a3e524": {
          "model_module": "@jupyter-widgets/controls",
          "model_name": "FloatSliderModel",
          "state": {
            "_view_name": "FloatSliderView",
            "style": "IPY_MODEL_b59837a347904f39a48bcc19c398f9fc",
            "_dom_classes": [],
            "description": "mu",
            "step": 0.05,
            "_model_name": "FloatSliderModel",
            "orientation": "horizontal",
            "max": -0.05,
            "_view_module": "@jupyter-widgets/controls",
            "_model_module_version": "1.5.0",
            "value": -0.35,
            "_view_count": null,
            "disabled": false,
            "_view_module_version": "1.5.0",
            "min": -1,
            "continuous_update": true,
            "readout_format": ".2f",
            "description_tooltip": null,
            "readout": true,
            "_model_module": "@jupyter-widgets/controls",
            "layout": "IPY_MODEL_70c66d7fc8554810a6c287342048236e"
          }
        },
        "fa9a9e28a04f43c2806d969dd596a082": {
          "model_module": "@jupyter-widgets/output",
          "model_name": "OutputModel",
          "state": {
            "_view_name": "OutputView",
            "msg_id": "",
            "_dom_classes": [],
            "_model_name": "OutputModel",
            "outputs": [
              {
                "output_type": "display_data",
                "metadata": {
                  "tags": [],
                  "needs_background": "light"
                },
                "image/png": "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\n",
                "text/plain": "<Figure size 720x576 with 1 Axes>"
              }
            ],
            "_view_module": "@jupyter-widgets/output",
            "_model_module_version": "1.0.0",
            "_view_count": null,
            "_view_module_version": "1.0.0",
            "layout": "IPY_MODEL_de0cc4795ca84c8bb8109ce49a1488a4",
            "_model_module": "@jupyter-widgets/output"
          }
        },
        "5159700e42084630b3b419212bbc7f8a": {
          "model_module": "@jupyter-widgets/controls",
          "model_name": "SliderStyleModel",
          "state": {
            "_view_name": "StyleView",
            "handle_color": null,
            "_model_name": "SliderStyleModel",
            "description_width": "",
            "_view_module": "@jupyter-widgets/base",
            "_model_module_version": "1.5.0",
            "_view_count": null,
            "_view_module_version": "1.2.0",
            "_model_module": "@jupyter-widgets/controls"
          }
        },
        "8972d88b00c646d79e405488de2b02aa": {
          "model_module": "@jupyter-widgets/base",
          "model_name": "LayoutModel",
          "state": {
            "_view_name": "LayoutView",
            "grid_template_rows": null,
            "right": null,
            "justify_content": null,
            "_view_module": "@jupyter-widgets/base",
            "overflow": null,
            "_model_module_version": "1.2.0",
            "_view_count": null,
            "flex_flow": null,
            "width": null,
            "min_width": null,
            "border": null,
            "align_items": null,
            "bottom": null,
            "_model_module": "@jupyter-widgets/base",
            "top": null,
            "grid_column": null,
            "overflow_y": null,
            "overflow_x": null,
            "grid_auto_flow": null,
            "grid_area": null,
            "grid_template_columns": null,
            "flex": null,
            "_model_name": "LayoutModel",
            "justify_items": null,
            "grid_row": null,
            "max_height": null,
            "align_content": null,
            "visibility": null,
            "align_self": null,
            "height": null,
            "min_height": null,
            "padding": null,
            "grid_auto_rows": null,
            "grid_gap": null,
            "max_width": null,
            "order": null,
            "_view_module_version": "1.2.0",
            "grid_template_areas": null,
            "object_position": null,
            "object_fit": null,
            "grid_auto_columns": null,
            "margin": null,
            "display": null,
            "left": null
          }
        },
        "b59837a347904f39a48bcc19c398f9fc": {
          "model_module": "@jupyter-widgets/controls",
          "model_name": "SliderStyleModel",
          "state": {
            "_view_name": "StyleView",
            "handle_color": null,
            "_model_name": "SliderStyleModel",
            "description_width": "",
            "_view_module": "@jupyter-widgets/base",
            "_model_module_version": "1.5.0",
            "_view_count": null,
            "_view_module_version": "1.2.0",
            "_model_module": "@jupyter-widgets/controls"
          }
        },
        "70c66d7fc8554810a6c287342048236e": {
          "model_module": "@jupyter-widgets/base",
          "model_name": "LayoutModel",
          "state": {
            "_view_name": "LayoutView",
            "grid_template_rows": null,
            "right": null,
            "justify_content": null,
            "_view_module": "@jupyter-widgets/base",
            "overflow": null,
            "_model_module_version": "1.2.0",
            "_view_count": null,
            "flex_flow": null,
            "width": null,
            "min_width": null,
            "border": null,
            "align_items": null,
            "bottom": null,
            "_model_module": "@jupyter-widgets/base",
            "top": null,
            "grid_column": null,
            "overflow_y": null,
            "overflow_x": null,
            "grid_auto_flow": null,
            "grid_area": null,
            "grid_template_columns": null,
            "flex": null,
            "_model_name": "LayoutModel",
            "justify_items": null,
            "grid_row": null,
            "max_height": null,
            "align_content": null,
            "visibility": null,
            "align_self": null,
            "height": null,
            "min_height": null,
            "padding": null,
            "grid_auto_rows": null,
            "grid_gap": null,
            "max_width": null,
            "order": null,
            "_view_module_version": "1.2.0",
            "grid_template_areas": null,
            "object_position": null,
            "object_fit": null,
            "grid_auto_columns": null,
            "margin": null,
            "display": null,
            "left": null
          }
        },
        "de0cc4795ca84c8bb8109ce49a1488a4": {
          "model_module": "@jupyter-widgets/base",
          "model_name": "LayoutModel",
          "state": {
            "_view_name": "LayoutView",
            "grid_template_rows": null,
            "right": null,
            "justify_content": null,
            "_view_module": "@jupyter-widgets/base",
            "overflow": null,
            "_model_module_version": "1.2.0",
            "_view_count": null,
            "flex_flow": null,
            "width": null,
            "min_width": null,
            "border": null,
            "align_items": null,
            "bottom": null,
            "_model_module": "@jupyter-widgets/base",
            "top": null,
            "grid_column": null,
            "overflow_y": null,
            "overflow_x": null,
            "grid_auto_flow": null,
            "grid_area": null,
            "grid_template_columns": null,
            "flex": null,
            "_model_name": "LayoutModel",
            "justify_items": null,
            "grid_row": null,
            "max_height": null,
            "align_content": null,
            "visibility": null,
            "align_self": null,
            "height": null,
            "min_height": null,
            "padding": null,
            "grid_auto_rows": null,
            "grid_gap": null,
            "max_width": null,
            "order": null,
            "_view_module_version": "1.2.0",
            "grid_template_areas": null,
            "object_position": null,
            "object_fit": null,
            "grid_auto_columns": null,
            "margin": null,
            "display": null,
            "left": null
          }
        }
      }
    }
  },
  "cells": [
    {
      "cell_type": "markdown",
      "metadata": {
        "id": "view-in-github",
        "colab_type": "text"
      },
      "source": [
        "<a href=\"https://colab.research.google.com/github/B-Lorentz/physics-bsc-visual/blob/main/15_Quantum_Statistics.ipynb\" target=\"_parent\"><img src=\"https://colab.research.google.com/assets/colab-badge.svg\" alt=\"Open In Colab\"/></a>"
      ]
    },
    {
      "cell_type": "code",
      "metadata": {
        "id": "valPqXjUN0Jb"
      },
      "source": [
        "import numpy as np\n",
        "from matplotlib import pyplot as plt\n",
        "from jax import numpy as jnp\n",
        "from jax import grad, vmap, jit, random, lax, ops\n",
        "from matplotlib.widgets import Slider, Button, RadioButtons"
      ],
      "execution_count": 20,
      "outputs": []
    },
    {
      "cell_type": "code",
      "metadata": {
        "id": "3eMBTqXVyq_7"
      },
      "source": [
        "def MCn(Es, beta, mu, stat):\n",
        "  N_es = Es.shape[0]\n",
        "  efun = lambda ns: (ns*(Es-mu)).sum()\n",
        "  def mcf(key):\n",
        "    def upd(i, state):\n",
        "      ns, sum_ns, key = state\n",
        "      k1, k2, k3, k4 = random.split(key, 4)\n",
        "      inds = random.choice(k1, N_es, shape=(N_es//20,), replace=False)\n",
        "      ns2 = ns.at[inds].set(stat.proposer(k2, ns[inds]))\n",
        "      e0 = efun(ns)\n",
        "      e1 = efun(ns2)\n",
        "      dec = jnp.logical_or(e1<e0, jnp.exp(-beta*(e1-e0)) > random.uniform(k3, (1,)))\n",
        "      ns = lax.cond(dec[0], lambda x:ns2, lambda x:ns, ns)\n",
        "      return (ns, sum_ns+ns, k4)\n",
        "    k1, k2 = random.split(key)\n",
        "    init = (stat.proposer(k1, np.zeros(N_es, dtype=int)), np.zeros(N_es, dtype=int), k2)\n",
        "    res = lax.fori_loop(0, 1000, upd, init)[1]\n",
        "    return res\n",
        "  return mcf\n",
        "class Stat:\n",
        "  def __init__(self, name, f, proposer):\n",
        "    self.name = name\n",
        "    self.f = f\n",
        "    self.proposer = proposer\n",
        "  \n",
        "fermi = Stat(\"F\", lambda E, beta, mu : 1/(np.exp(beta*(E-mu))+1), lambda key, ns: random.choice(key, 2, shape=ns.shape ))\n",
        "bose = Stat(\"B\", lambda E, beta, mu : 1/(np.exp(beta*(E-mu))-1), lambda key, ns: jnp.maximum((random.normal(key, ns.shape)*ns/4).astype(int)+ns, 0) )"
      ],
      "execution_count": 64,
      "outputs": []
    },
    {
      "cell_type": "code",
      "metadata": {
        "colab": {
          "base_uri": "https://localhost:8080/",
          "height": 582,
          "referenced_widgets": [
            "f0f5678056f748df8594c8e42d74f36d",
            "f59540636530472f9ed5083ccf96e040",
            "a444d5afe15145b48c28ebe9bdf67a9b",
            "6fbb60e48abb4054ab3ee89b43bfc2fa",
            "eeb4067a76944beaa691910b3dde1b41",
            "321495acc0d24213822c79ed5f51031f",
            "9326bfb637194e18b274890ee9ec87b7",
            "7ac378c55fea4e56b85aed1241fa7b18",
            "61da20c1cddf44dbacafd491b9ad8301",
            "29b12b5005464028a5396c8627d1e911"
          ]
        },
        "id": "BUFYMO3pOGcW",
        "outputId": "4034ae12-15c5-42da-cbb1-58934a911d62"
      },
      "source": [
        "from ipywidgets import interact, widgets\n",
        "N_stat = 100\n",
        "Es = np.linspace(0, 1.0, N_stat)\n",
        "\n",
        "def plotbuilder(stat):\n",
        "  def plotter(beta, mu):\n",
        "    plt.figure(figsize=(10, 8))\n",
        "    ns = stat.f(Es, beta, mu)\n",
        "    plt.plot(Es, ns, label=f\"$f_{stat.name}(E)$\")\n",
        "    bns = np.exp(-beta*Es)\n",
        "    plt.plot(Es, bns*ns.max(), label=\"Boltzmann\")\n",
        "    plt.plot([mu, mu], [0, ns.max()], \"r\", label=r\"$\\mu$\")\n",
        "    plt.xlabel(\"E\", fontsize=14)\n",
        "    plt.ylabel(\"<n>\", fontsize=14)\n",
        "    plt.grid()\n",
        "    mcs = vmap(MCn(Es, beta, mu, stat), 0)(random.split(random.PRNGKey(127), 20))\n",
        "    res, resd = mcs.mean(0), mcs.std(0)\n",
        "    maxi = res.max()/ns.max()\n",
        "    plt.errorbar(Es, res/maxi, resd/maxi)\n",
        "    plt.title(r\"$\\beta =\" +f\"{beta:.2f}$\")\n",
        "  \n",
        "    plt.legend(fontsize=14)\n",
        "  return plotter\n",
        "  \n",
        "interact(plotbuilder(fermi), beta=widgets.FloatSlider(min=1.0, max=30, value=3.5), mu=widgets.FloatSlider(min=-1, max=1, value=0.1, step=0.05))\n",
        "None\n"
      ],
      "execution_count": 74,
      "outputs": [
        {
          "output_type": "display_data",
          "data": {
            "application/vnd.jupyter.widget-view+json": {
              "model_id": "f0f5678056f748df8594c8e42d74f36d",
              "version_minor": 0,
              "version_major": 2
            },
            "text/plain": [
              "interactive(children=(FloatSlider(value=3.5, description='beta', max=30.0, min=1.0), FloatSlider(value=0.1, de…"
            ]
          },
          "metadata": {
            "tags": []
          }
        }
      ]
    },
    {
      "cell_type": "code",
      "metadata": {
        "id": "EMG4Cu69QT7y",
        "colab": {
          "base_uri": "https://localhost:8080/",
          "height": 582,
          "referenced_widgets": [
            "d74715ae905a476d976be1404f995ab9",
            "ca97fc2b82494b208d4a3fec00bff922",
            "06de8622b0394fedad1802086a5078dd",
            "f3901402070e4072bfa35e7220a3e524",
            "fa9a9e28a04f43c2806d969dd596a082",
            "5159700e42084630b3b419212bbc7f8a",
            "8972d88b00c646d79e405488de2b02aa",
            "b59837a347904f39a48bcc19c398f9fc",
            "70c66d7fc8554810a6c287342048236e",
            "de0cc4795ca84c8bb8109ce49a1488a4"
          ]
        },
        "outputId": "ddbddf46-099d-4143-d1b2-29866523737d"
      },
      "source": [
        "interact(plotbuilder(bose, \"B\"), beta=widgets.FloatSlider(min=0.1, max=10, value=3.5), mu=widgets.FloatSlider(min=-1, max=-0.05, value=-0.05, step=0.05))\n",
        "None"
      ],
      "execution_count": 17,
      "outputs": [
        {
          "output_type": "display_data",
          "data": {
            "application/vnd.jupyter.widget-view+json": {
              "model_id": "d74715ae905a476d976be1404f995ab9",
              "version_minor": 0,
              "version_major": 2
            },
            "text/plain": [
              "interactive(children=(FloatSlider(value=3.5, description='beta', max=10.0, min=0.1), FloatSlider(value=-0.05, …"
            ]
          },
          "metadata": {
            "tags": []
          }
        }
      ]
    },
    {
      "cell_type": "code",
      "metadata": {
        "id": "bK-lm9t6xXg7"
      },
      "source": [
        ""
      ],
      "execution_count": null,
      "outputs": []
    }
  ]
}