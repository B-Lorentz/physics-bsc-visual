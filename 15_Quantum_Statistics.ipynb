{
  "nbformat": 4,
  "nbformat_minor": 0,
  "metadata": {
    "colab": {
      "name": "15_Quantum_Statistics.ipynb",
      "provenance": [],
      "collapsed_sections": [],
      "authorship_tag": "ABX9TyMhdCVNdcC9taq8aJetilNU",
      "include_colab_link": true
    },
    "kernelspec": {
      "name": "python3",
      "display_name": "Python 3"
    },
    "language_info": {
      "name": "python"
    },
    "widgets": {
      "application/vnd.jupyter.widget-state+json": {
        "83e84b1a7b174bbcab331b02ee48c0fc": {
          "model_module": "@jupyter-widgets/controls",
          "model_name": "VBoxModel",
          "state": {
            "_view_name": "VBoxView",
            "_dom_classes": [
              "widget-interact"
            ],
            "_model_name": "VBoxModel",
            "_view_module": "@jupyter-widgets/controls",
            "_model_module_version": "1.5.0",
            "_view_count": null,
            "_view_module_version": "1.5.0",
            "box_style": "",
            "layout": "IPY_MODEL_fa16ad06931a4babb005ba8fd2391f76",
            "_model_module": "@jupyter-widgets/controls",
            "children": [
              "IPY_MODEL_45c069837e0045fa99917d74f5928b73",
              "IPY_MODEL_aa32672a28e24654a2d7ebcd5a045171",
              "IPY_MODEL_f841fc25f2134fd5b151afb7e95e886e"
            ]
          }
        },
        "fa16ad06931a4babb005ba8fd2391f76": {
          "model_module": "@jupyter-widgets/base",
          "model_name": "LayoutModel",
          "state": {
            "_view_name": "LayoutView",
            "grid_template_rows": null,
            "right": null,
            "justify_content": null,
            "_view_module": "@jupyter-widgets/base",
            "overflow": null,
            "_model_module_version": "1.2.0",
            "_view_count": null,
            "flex_flow": null,
            "width": null,
            "min_width": null,
            "border": null,
            "align_items": null,
            "bottom": null,
            "_model_module": "@jupyter-widgets/base",
            "top": null,
            "grid_column": null,
            "overflow_y": null,
            "overflow_x": null,
            "grid_auto_flow": null,
            "grid_area": null,
            "grid_template_columns": null,
            "flex": null,
            "_model_name": "LayoutModel",
            "justify_items": null,
            "grid_row": null,
            "max_height": null,
            "align_content": null,
            "visibility": null,
            "align_self": null,
            "height": null,
            "min_height": null,
            "padding": null,
            "grid_auto_rows": null,
            "grid_gap": null,
            "max_width": null,
            "order": null,
            "_view_module_version": "1.2.0",
            "grid_template_areas": null,
            "object_position": null,
            "object_fit": null,
            "grid_auto_columns": null,
            "margin": null,
            "display": null,
            "left": null
          }
        },
        "45c069837e0045fa99917d74f5928b73": {
          "model_module": "@jupyter-widgets/controls",
          "model_name": "FloatSliderModel",
          "state": {
            "_view_name": "FloatSliderView",
            "style": "IPY_MODEL_a02c7383c6384af3acf521ce872c0ff2",
            "_dom_classes": [],
            "description": "beta",
            "step": 0.1,
            "_model_name": "FloatSliderModel",
            "orientation": "horizontal",
            "max": 30,
            "_view_module": "@jupyter-widgets/controls",
            "_model_module_version": "1.5.0",
            "value": 24.6,
            "_view_count": null,
            "disabled": false,
            "_view_module_version": "1.5.0",
            "min": 1,
            "continuous_update": true,
            "readout_format": ".2f",
            "description_tooltip": null,
            "readout": true,
            "_model_module": "@jupyter-widgets/controls",
            "layout": "IPY_MODEL_3e7e09340ff84f69b4431aba47a821b1"
          }
        },
        "aa32672a28e24654a2d7ebcd5a045171": {
          "model_module": "@jupyter-widgets/controls",
          "model_name": "FloatSliderModel",
          "state": {
            "_view_name": "FloatSliderView",
            "style": "IPY_MODEL_a40eee5b62434831a11fa1dee011f3de",
            "_dom_classes": [],
            "description": "mu",
            "step": 0.1,
            "_model_name": "FloatSliderModel",
            "orientation": "horizontal",
            "max": 1,
            "_view_module": "@jupyter-widgets/controls",
            "_model_module_version": "1.5.0",
            "value": 0.8,
            "_view_count": null,
            "disabled": false,
            "_view_module_version": "1.5.0",
            "min": -1,
            "continuous_update": true,
            "readout_format": ".2f",
            "description_tooltip": null,
            "readout": true,
            "_model_module": "@jupyter-widgets/controls",
            "layout": "IPY_MODEL_37c8090af6d7405182686333c0fd636e"
          }
        },
        "f841fc25f2134fd5b151afb7e95e886e": {
          "model_module": "@jupyter-widgets/output",
          "model_name": "OutputModel",
          "state": {
            "_view_name": "OutputView",
            "msg_id": "",
            "_dom_classes": [],
            "_model_name": "OutputModel",
            "outputs": [
              {
                "output_type": "display_data",
                "metadata": {
                  "tags": [],
                  "needs_background": "light"
                },
                "image/png": "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\n",
                "text/plain": "<Figure size 432x288 with 1 Axes>"
              }
            ],
            "_view_module": "@jupyter-widgets/output",
            "_model_module_version": "1.0.0",
            "_view_count": null,
            "_view_module_version": "1.0.0",
            "layout": "IPY_MODEL_6f88439f42ab4234a6f999c4530f1287",
            "_model_module": "@jupyter-widgets/output"
          }
        },
        "a02c7383c6384af3acf521ce872c0ff2": {
          "model_module": "@jupyter-widgets/controls",
          "model_name": "SliderStyleModel",
          "state": {
            "_view_name": "StyleView",
            "handle_color": null,
            "_model_name": "SliderStyleModel",
            "description_width": "",
            "_view_module": "@jupyter-widgets/base",
            "_model_module_version": "1.5.0",
            "_view_count": null,
            "_view_module_version": "1.2.0",
            "_model_module": "@jupyter-widgets/controls"
          }
        },
        "3e7e09340ff84f69b4431aba47a821b1": {
          "model_module": "@jupyter-widgets/base",
          "model_name": "LayoutModel",
          "state": {
            "_view_name": "LayoutView",
            "grid_template_rows": null,
            "right": null,
            "justify_content": null,
            "_view_module": "@jupyter-widgets/base",
            "overflow": null,
            "_model_module_version": "1.2.0",
            "_view_count": null,
            "flex_flow": null,
            "width": null,
            "min_width": null,
            "border": null,
            "align_items": null,
            "bottom": null,
            "_model_module": "@jupyter-widgets/base",
            "top": null,
            "grid_column": null,
            "overflow_y": null,
            "overflow_x": null,
            "grid_auto_flow": null,
            "grid_area": null,
            "grid_template_columns": null,
            "flex": null,
            "_model_name": "LayoutModel",
            "justify_items": null,
            "grid_row": null,
            "max_height": null,
            "align_content": null,
            "visibility": null,
            "align_self": null,
            "height": null,
            "min_height": null,
            "padding": null,
            "grid_auto_rows": null,
            "grid_gap": null,
            "max_width": null,
            "order": null,
            "_view_module_version": "1.2.0",
            "grid_template_areas": null,
            "object_position": null,
            "object_fit": null,
            "grid_auto_columns": null,
            "margin": null,
            "display": null,
            "left": null
          }
        },
        "a40eee5b62434831a11fa1dee011f3de": {
          "model_module": "@jupyter-widgets/controls",
          "model_name": "SliderStyleModel",
          "state": {
            "_view_name": "StyleView",
            "handle_color": null,
            "_model_name": "SliderStyleModel",
            "description_width": "",
            "_view_module": "@jupyter-widgets/base",
            "_model_module_version": "1.5.0",
            "_view_count": null,
            "_view_module_version": "1.2.0",
            "_model_module": "@jupyter-widgets/controls"
          }
        },
        "37c8090af6d7405182686333c0fd636e": {
          "model_module": "@jupyter-widgets/base",
          "model_name": "LayoutModel",
          "state": {
            "_view_name": "LayoutView",
            "grid_template_rows": null,
            "right": null,
            "justify_content": null,
            "_view_module": "@jupyter-widgets/base",
            "overflow": null,
            "_model_module_version": "1.2.0",
            "_view_count": null,
            "flex_flow": null,
            "width": null,
            "min_width": null,
            "border": null,
            "align_items": null,
            "bottom": null,
            "_model_module": "@jupyter-widgets/base",
            "top": null,
            "grid_column": null,
            "overflow_y": null,
            "overflow_x": null,
            "grid_auto_flow": null,
            "grid_area": null,
            "grid_template_columns": null,
            "flex": null,
            "_model_name": "LayoutModel",
            "justify_items": null,
            "grid_row": null,
            "max_height": null,
            "align_content": null,
            "visibility": null,
            "align_self": null,
            "height": null,
            "min_height": null,
            "padding": null,
            "grid_auto_rows": null,
            "grid_gap": null,
            "max_width": null,
            "order": null,
            "_view_module_version": "1.2.0",
            "grid_template_areas": null,
            "object_position": null,
            "object_fit": null,
            "grid_auto_columns": null,
            "margin": null,
            "display": null,
            "left": null
          }
        },
        "6f88439f42ab4234a6f999c4530f1287": {
          "model_module": "@jupyter-widgets/base",
          "model_name": "LayoutModel",
          "state": {
            "_view_name": "LayoutView",
            "grid_template_rows": null,
            "right": null,
            "justify_content": null,
            "_view_module": "@jupyter-widgets/base",
            "overflow": null,
            "_model_module_version": "1.2.0",
            "_view_count": null,
            "flex_flow": null,
            "width": null,
            "min_width": null,
            "border": null,
            "align_items": null,
            "bottom": null,
            "_model_module": "@jupyter-widgets/base",
            "top": null,
            "grid_column": null,
            "overflow_y": null,
            "overflow_x": null,
            "grid_auto_flow": null,
            "grid_area": null,
            "grid_template_columns": null,
            "flex": null,
            "_model_name": "LayoutModel",
            "justify_items": null,
            "grid_row": null,
            "max_height": null,
            "align_content": null,
            "visibility": null,
            "align_self": null,
            "height": null,
            "min_height": null,
            "padding": null,
            "grid_auto_rows": null,
            "grid_gap": null,
            "max_width": null,
            "order": null,
            "_view_module_version": "1.2.0",
            "grid_template_areas": null,
            "object_position": null,
            "object_fit": null,
            "grid_auto_columns": null,
            "margin": null,
            "display": null,
            "left": null
          }
        }
      }
    }
  },
  "cells": [
    {
      "cell_type": "markdown",
      "metadata": {
        "id": "view-in-github",
        "colab_type": "text"
      },
      "source": [
        "<a href=\"https://colab.research.google.com/github/B-Lorentz/physics-bsc-visual/blob/main/15_Quantum_Statistics.ipynb\" target=\"_parent\"><img src=\"https://colab.research.google.com/assets/colab-badge.svg\" alt=\"Open In Colab\"/></a>"
      ]
    },
    {
      "cell_type": "code",
      "metadata": {
        "id": "valPqXjUN0Jb"
      },
      "source": [
        "import numpy as np\n",
        "from matplotlib import pyplot as plt\n",
        "from jax import numpy as jnp\n",
        "from matplotlib.widgets import Slider, Button, RadioButtons"
      ],
      "execution_count": 1,
      "outputs": []
    },
    {
      "cell_type": "code",
      "metadata": {
        "colab": {
          "base_uri": "https://localhost:8080/",
          "height": 364,
          "referenced_widgets": [
            "83e84b1a7b174bbcab331b02ee48c0fc",
            "fa16ad06931a4babb005ba8fd2391f76",
            "45c069837e0045fa99917d74f5928b73",
            "aa32672a28e24654a2d7ebcd5a045171",
            "f841fc25f2134fd5b151afb7e95e886e",
            "a02c7383c6384af3acf521ce872c0ff2",
            "3e7e09340ff84f69b4431aba47a821b1",
            "a40eee5b62434831a11fa1dee011f3de",
            "37c8090af6d7405182686333c0fd636e",
            "6f88439f42ab4234a6f999c4530f1287"
          ]
        },
        "id": "BUFYMO3pOGcW",
        "outputId": "1666ed20-0710-4a75-aa4b-66c969afddb5"
      },
      "source": [
        "from ipywidgets import interact, widgets\n",
        "N_stat = 60\n",
        "Es = np.linspace(0, 1.0, N_stat)\n",
        "def f(beta, mu):\n",
        "  plt.plot(Es, 1/(np.exp(beta*(Es-mu))+1), label=\"$f(E)$\")\n",
        "  plt.plot([mu, mu], [0, 1], \"r\", label=r\"$\\mu$\")\n",
        "  plt.xlabel(\"E\", fontsize=14)\n",
        "  plt.ylabel(\"<n>\", fontsize=14)\n",
        "  plt.grid()\n",
        "  samps =  np.random.choice([0, 1], (1000000, N_stat))\n",
        "  ps = np.exp((-beta*samps*(Es - mu)).sum(-1))\n",
        "  accepted = np.random.uniform(0, 1.0, ps.shape)\n",
        "  \n",
        "  ns = (samps[accepted<ps/ps.max()]).mean(0)\n",
        "  \n",
        "  plt.plot(Es, ns/ns.max(), \"gx\")\n",
        "  plt.title(r\"$\\beta =\" +f\"{beta:.2f}$\")\n",
        " \n",
        "  plt.legend(fontsize=14)\n",
        "  \n",
        "\n",
        "\n",
        "interact(f, beta=widgets.FloatSlider(min=1.0, max=30, value=3.5), mu=widgets.FloatSlider(min=-1, max=1, value=0.1))\n",
        "None\n"
      ],
      "execution_count": 19,
      "outputs": [
        {
          "output_type": "display_data",
          "data": {
            "application/vnd.jupyter.widget-view+json": {
              "model_id": "83e84b1a7b174bbcab331b02ee48c0fc",
              "version_minor": 0,
              "version_major": 2
            },
            "text/plain": [
              "interactive(children=(FloatSlider(value=3.5, description='beta', max=30.0, min=1.0), FloatSlider(value=0.1, de…"
            ]
          },
          "metadata": {
            "tags": []
          }
        }
      ]
    },
    {
      "cell_type": "code",
      "metadata": {
        "id": "EMG4Cu69QT7y"
      },
      "source": [
        ""
      ],
      "execution_count": null,
      "outputs": []
    }
  ]
}