{
  "nbformat": 4,
  "nbformat_minor": 0,
  "metadata": {
    "colab": {
      "name": "15_Quantum_Statistics.ipynb",
      "provenance": [],
      "collapsed_sections": [],
      "authorship_tag": "ABX9TyOQBN6yrKu6Ny7u72tImNVh",
      "include_colab_link": true
    },
    "kernelspec": {
      "name": "python3",
      "display_name": "Python 3"
    },
    "language_info": {
      "name": "python"
    },
    "widgets": {
      "application/vnd.jupyter.widget-state+json": {
        "b47e08c7f14440baac9072af304fbeae": {
          "model_module": "@jupyter-widgets/controls",
          "model_name": "VBoxModel",
          "state": {
            "_view_name": "VBoxView",
            "_dom_classes": [
              "widget-interact"
            ],
            "_model_name": "VBoxModel",
            "_view_module": "@jupyter-widgets/controls",
            "_model_module_version": "1.5.0",
            "_view_count": null,
            "_view_module_version": "1.5.0",
            "box_style": "",
            "layout": "IPY_MODEL_afbac13a220c4b16b4fcd7cb6073a56c",
            "_model_module": "@jupyter-widgets/controls",
            "children": [
              "IPY_MODEL_81a4f8e2259d483280f7a6cea6d02638",
              "IPY_MODEL_931a4f5006a24d4aab7caa41eb8be8ef",
              "IPY_MODEL_c71c1ff74a544f67b1ac5df89db8f633"
            ]
          }
        },
        "afbac13a220c4b16b4fcd7cb6073a56c": {
          "model_module": "@jupyter-widgets/base",
          "model_name": "LayoutModel",
          "state": {
            "_view_name": "LayoutView",
            "grid_template_rows": null,
            "right": null,
            "justify_content": null,
            "_view_module": "@jupyter-widgets/base",
            "overflow": null,
            "_model_module_version": "1.2.0",
            "_view_count": null,
            "flex_flow": null,
            "width": null,
            "min_width": null,
            "border": null,
            "align_items": null,
            "bottom": null,
            "_model_module": "@jupyter-widgets/base",
            "top": null,
            "grid_column": null,
            "overflow_y": null,
            "overflow_x": null,
            "grid_auto_flow": null,
            "grid_area": null,
            "grid_template_columns": null,
            "flex": null,
            "_model_name": "LayoutModel",
            "justify_items": null,
            "grid_row": null,
            "max_height": null,
            "align_content": null,
            "visibility": null,
            "align_self": null,
            "height": null,
            "min_height": null,
            "padding": null,
            "grid_auto_rows": null,
            "grid_gap": null,
            "max_width": null,
            "order": null,
            "_view_module_version": "1.2.0",
            "grid_template_areas": null,
            "object_position": null,
            "object_fit": null,
            "grid_auto_columns": null,
            "margin": null,
            "display": null,
            "left": null
          }
        },
        "81a4f8e2259d483280f7a6cea6d02638": {
          "model_module": "@jupyter-widgets/controls",
          "model_name": "FloatSliderModel",
          "state": {
            "_view_name": "FloatSliderView",
            "style": "IPY_MODEL_3153ea50831e4d54a1684357e687b65a",
            "_dom_classes": [],
            "description": "beta",
            "step": 0.1,
            "_model_name": "FloatSliderModel",
            "orientation": "horizontal",
            "max": 30,
            "_view_module": "@jupyter-widgets/controls",
            "_model_module_version": "1.5.0",
            "value": 3.5,
            "_view_count": null,
            "disabled": false,
            "_view_module_version": "1.5.0",
            "min": 1,
            "continuous_update": true,
            "readout_format": ".2f",
            "description_tooltip": null,
            "readout": true,
            "_model_module": "@jupyter-widgets/controls",
            "layout": "IPY_MODEL_8b918a9210b54ae5a856c95e7bc50005"
          }
        },
        "931a4f5006a24d4aab7caa41eb8be8ef": {
          "model_module": "@jupyter-widgets/controls",
          "model_name": "FloatSliderModel",
          "state": {
            "_view_name": "FloatSliderView",
            "style": "IPY_MODEL_d4785ea8e18049e79be5860d32d15c7b",
            "_dom_classes": [],
            "description": "mu",
            "step": 0.05,
            "_model_name": "FloatSliderModel",
            "orientation": "horizontal",
            "max": 1,
            "_view_module": "@jupyter-widgets/controls",
            "_model_module_version": "1.5.0",
            "value": 0.1,
            "_view_count": null,
            "disabled": false,
            "_view_module_version": "1.5.0",
            "min": -1,
            "continuous_update": true,
            "readout_format": ".2f",
            "description_tooltip": null,
            "readout": true,
            "_model_module": "@jupyter-widgets/controls",
            "layout": "IPY_MODEL_01c7bd3ac990406699da98f7b40be2bb"
          }
        },
        "c71c1ff74a544f67b1ac5df89db8f633": {
          "model_module": "@jupyter-widgets/output",
          "model_name": "OutputModel",
          "state": {
            "_view_name": "OutputView",
            "msg_id": "",
            "_dom_classes": [],
            "_model_name": "OutputModel",
            "outputs": [
              {
                "output_type": "display_data",
                "metadata": {
                  "tags": [],
                  "needs_background": "light"
                },
                "image/png": "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\n",
                "text/plain": "<Figure size 720x576 with 1 Axes>"
              }
            ],
            "_view_module": "@jupyter-widgets/output",
            "_model_module_version": "1.0.0",
            "_view_count": null,
            "_view_module_version": "1.0.0",
            "layout": "IPY_MODEL_3901863c38a749ee9fbc41ed93c128fb",
            "_model_module": "@jupyter-widgets/output"
          }
        },
        "3153ea50831e4d54a1684357e687b65a": {
          "model_module": "@jupyter-widgets/controls",
          "model_name": "SliderStyleModel",
          "state": {
            "_view_name": "StyleView",
            "handle_color": null,
            "_model_name": "SliderStyleModel",
            "description_width": "",
            "_view_module": "@jupyter-widgets/base",
            "_model_module_version": "1.5.0",
            "_view_count": null,
            "_view_module_version": "1.2.0",
            "_model_module": "@jupyter-widgets/controls"
          }
        },
        "8b918a9210b54ae5a856c95e7bc50005": {
          "model_module": "@jupyter-widgets/base",
          "model_name": "LayoutModel",
          "state": {
            "_view_name": "LayoutView",
            "grid_template_rows": null,
            "right": null,
            "justify_content": null,
            "_view_module": "@jupyter-widgets/base",
            "overflow": null,
            "_model_module_version": "1.2.0",
            "_view_count": null,
            "flex_flow": null,
            "width": null,
            "min_width": null,
            "border": null,
            "align_items": null,
            "bottom": null,
            "_model_module": "@jupyter-widgets/base",
            "top": null,
            "grid_column": null,
            "overflow_y": null,
            "overflow_x": null,
            "grid_auto_flow": null,
            "grid_area": null,
            "grid_template_columns": null,
            "flex": null,
            "_model_name": "LayoutModel",
            "justify_items": null,
            "grid_row": null,
            "max_height": null,
            "align_content": null,
            "visibility": null,
            "align_self": null,
            "height": null,
            "min_height": null,
            "padding": null,
            "grid_auto_rows": null,
            "grid_gap": null,
            "max_width": null,
            "order": null,
            "_view_module_version": "1.2.0",
            "grid_template_areas": null,
            "object_position": null,
            "object_fit": null,
            "grid_auto_columns": null,
            "margin": null,
            "display": null,
            "left": null
          }
        },
        "d4785ea8e18049e79be5860d32d15c7b": {
          "model_module": "@jupyter-widgets/controls",
          "model_name": "SliderStyleModel",
          "state": {
            "_view_name": "StyleView",
            "handle_color": null,
            "_model_name": "SliderStyleModel",
            "description_width": "",
            "_view_module": "@jupyter-widgets/base",
            "_model_module_version": "1.5.0",
            "_view_count": null,
            "_view_module_version": "1.2.0",
            "_model_module": "@jupyter-widgets/controls"
          }
        },
        "01c7bd3ac990406699da98f7b40be2bb": {
          "model_module": "@jupyter-widgets/base",
          "model_name": "LayoutModel",
          "state": {
            "_view_name": "LayoutView",
            "grid_template_rows": null,
            "right": null,
            "justify_content": null,
            "_view_module": "@jupyter-widgets/base",
            "overflow": null,
            "_model_module_version": "1.2.0",
            "_view_count": null,
            "flex_flow": null,
            "width": null,
            "min_width": null,
            "border": null,
            "align_items": null,
            "bottom": null,
            "_model_module": "@jupyter-widgets/base",
            "top": null,
            "grid_column": null,
            "overflow_y": null,
            "overflow_x": null,
            "grid_auto_flow": null,
            "grid_area": null,
            "grid_template_columns": null,
            "flex": null,
            "_model_name": "LayoutModel",
            "justify_items": null,
            "grid_row": null,
            "max_height": null,
            "align_content": null,
            "visibility": null,
            "align_self": null,
            "height": null,
            "min_height": null,
            "padding": null,
            "grid_auto_rows": null,
            "grid_gap": null,
            "max_width": null,
            "order": null,
            "_view_module_version": "1.2.0",
            "grid_template_areas": null,
            "object_position": null,
            "object_fit": null,
            "grid_auto_columns": null,
            "margin": null,
            "display": null,
            "left": null
          }
        },
        "3901863c38a749ee9fbc41ed93c128fb": {
          "model_module": "@jupyter-widgets/base",
          "model_name": "LayoutModel",
          "state": {
            "_view_name": "LayoutView",
            "grid_template_rows": null,
            "right": null,
            "justify_content": null,
            "_view_module": "@jupyter-widgets/base",
            "overflow": null,
            "_model_module_version": "1.2.0",
            "_view_count": null,
            "flex_flow": null,
            "width": null,
            "min_width": null,
            "border": null,
            "align_items": null,
            "bottom": null,
            "_model_module": "@jupyter-widgets/base",
            "top": null,
            "grid_column": null,
            "overflow_y": null,
            "overflow_x": null,
            "grid_auto_flow": null,
            "grid_area": null,
            "grid_template_columns": null,
            "flex": null,
            "_model_name": "LayoutModel",
            "justify_items": null,
            "grid_row": null,
            "max_height": null,
            "align_content": null,
            "visibility": null,
            "align_self": null,
            "height": null,
            "min_height": null,
            "padding": null,
            "grid_auto_rows": null,
            "grid_gap": null,
            "max_width": null,
            "order": null,
            "_view_module_version": "1.2.0",
            "grid_template_areas": null,
            "object_position": null,
            "object_fit": null,
            "grid_auto_columns": null,
            "margin": null,
            "display": null,
            "left": null
          }
        },
        "388991ae435440a2a67ed5ed2cb9f174": {
          "model_module": "@jupyter-widgets/controls",
          "model_name": "VBoxModel",
          "state": {
            "_view_name": "VBoxView",
            "_dom_classes": [
              "widget-interact"
            ],
            "_model_name": "VBoxModel",
            "_view_module": "@jupyter-widgets/controls",
            "_model_module_version": "1.5.0",
            "_view_count": null,
            "_view_module_version": "1.5.0",
            "box_style": "",
            "layout": "IPY_MODEL_0b6f90577eec49928beebf59ad316df0",
            "_model_module": "@jupyter-widgets/controls",
            "children": [
              "IPY_MODEL_49df1d0297ce487f94d794e81dcbf1f6",
              "IPY_MODEL_de0d2fd9e9db41b7a01b846caede54e6",
              "IPY_MODEL_e7d5e9ed79e0438ab74f5506684a0a43"
            ]
          }
        },
        "0b6f90577eec49928beebf59ad316df0": {
          "model_module": "@jupyter-widgets/base",
          "model_name": "LayoutModel",
          "state": {
            "_view_name": "LayoutView",
            "grid_template_rows": null,
            "right": null,
            "justify_content": null,
            "_view_module": "@jupyter-widgets/base",
            "overflow": null,
            "_model_module_version": "1.2.0",
            "_view_count": null,
            "flex_flow": null,
            "width": null,
            "min_width": null,
            "border": null,
            "align_items": null,
            "bottom": null,
            "_model_module": "@jupyter-widgets/base",
            "top": null,
            "grid_column": null,
            "overflow_y": null,
            "overflow_x": null,
            "grid_auto_flow": null,
            "grid_area": null,
            "grid_template_columns": null,
            "flex": null,
            "_model_name": "LayoutModel",
            "justify_items": null,
            "grid_row": null,
            "max_height": null,
            "align_content": null,
            "visibility": null,
            "align_self": null,
            "height": null,
            "min_height": null,
            "padding": null,
            "grid_auto_rows": null,
            "grid_gap": null,
            "max_width": null,
            "order": null,
            "_view_module_version": "1.2.0",
            "grid_template_areas": null,
            "object_position": null,
            "object_fit": null,
            "grid_auto_columns": null,
            "margin": null,
            "display": null,
            "left": null
          }
        },
        "49df1d0297ce487f94d794e81dcbf1f6": {
          "model_module": "@jupyter-widgets/controls",
          "model_name": "FloatSliderModel",
          "state": {
            "_view_name": "FloatSliderView",
            "style": "IPY_MODEL_9414016f767040308edbb9dacecd99b7",
            "_dom_classes": [],
            "description": "beta",
            "step": 0.1,
            "_model_name": "FloatSliderModel",
            "orientation": "horizontal",
            "max": 10,
            "_view_module": "@jupyter-widgets/controls",
            "_model_module_version": "1.5.0",
            "value": 1,
            "_view_count": null,
            "disabled": false,
            "_view_module_version": "1.5.0",
            "min": 1,
            "continuous_update": true,
            "readout_format": ".2f",
            "description_tooltip": null,
            "readout": true,
            "_model_module": "@jupyter-widgets/controls",
            "layout": "IPY_MODEL_34fb524594624b7f978bb7cb055d38cf"
          }
        },
        "de0d2fd9e9db41b7a01b846caede54e6": {
          "model_module": "@jupyter-widgets/controls",
          "model_name": "FloatSliderModel",
          "state": {
            "_view_name": "FloatSliderView",
            "style": "IPY_MODEL_39a7294830a740e4b260da4d27d1a498",
            "_dom_classes": [],
            "description": "mu",
            "step": 0.05,
            "_model_name": "FloatSliderModel",
            "orientation": "horizontal",
            "max": -0.15,
            "_view_module": "@jupyter-widgets/controls",
            "_model_module_version": "1.5.0",
            "value": -0.6,
            "_view_count": null,
            "disabled": false,
            "_view_module_version": "1.5.0",
            "min": -1,
            "continuous_update": true,
            "readout_format": ".2f",
            "description_tooltip": null,
            "readout": true,
            "_model_module": "@jupyter-widgets/controls",
            "layout": "IPY_MODEL_50ef3cc1d35245eaa63339e4f381618e"
          }
        },
        "e7d5e9ed79e0438ab74f5506684a0a43": {
          "model_module": "@jupyter-widgets/output",
          "model_name": "OutputModel",
          "state": {
            "_view_name": "OutputView",
            "msg_id": "",
            "_dom_classes": [],
            "_model_name": "OutputModel",
            "outputs": [
              {
                "output_type": "display_data",
                "metadata": {
                  "tags": [],
                  "needs_background": "light"
                },
                "image/png": "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\n",
                "text/plain": "<Figure size 720x576 with 1 Axes>"
              }
            ],
            "_view_module": "@jupyter-widgets/output",
            "_model_module_version": "1.0.0",
            "_view_count": null,
            "_view_module_version": "1.0.0",
            "layout": "IPY_MODEL_714bae36bf8748bdbfbc197b75e4fff0",
            "_model_module": "@jupyter-widgets/output"
          }
        },
        "9414016f767040308edbb9dacecd99b7": {
          "model_module": "@jupyter-widgets/controls",
          "model_name": "SliderStyleModel",
          "state": {
            "_view_name": "StyleView",
            "handle_color": null,
            "_model_name": "SliderStyleModel",
            "description_width": "",
            "_view_module": "@jupyter-widgets/base",
            "_model_module_version": "1.5.0",
            "_view_count": null,
            "_view_module_version": "1.2.0",
            "_model_module": "@jupyter-widgets/controls"
          }
        },
        "34fb524594624b7f978bb7cb055d38cf": {
          "model_module": "@jupyter-widgets/base",
          "model_name": "LayoutModel",
          "state": {
            "_view_name": "LayoutView",
            "grid_template_rows": null,
            "right": null,
            "justify_content": null,
            "_view_module": "@jupyter-widgets/base",
            "overflow": null,
            "_model_module_version": "1.2.0",
            "_view_count": null,
            "flex_flow": null,
            "width": null,
            "min_width": null,
            "border": null,
            "align_items": null,
            "bottom": null,
            "_model_module": "@jupyter-widgets/base",
            "top": null,
            "grid_column": null,
            "overflow_y": null,
            "overflow_x": null,
            "grid_auto_flow": null,
            "grid_area": null,
            "grid_template_columns": null,
            "flex": null,
            "_model_name": "LayoutModel",
            "justify_items": null,
            "grid_row": null,
            "max_height": null,
            "align_content": null,
            "visibility": null,
            "align_self": null,
            "height": null,
            "min_height": null,
            "padding": null,
            "grid_auto_rows": null,
            "grid_gap": null,
            "max_width": null,
            "order": null,
            "_view_module_version": "1.2.0",
            "grid_template_areas": null,
            "object_position": null,
            "object_fit": null,
            "grid_auto_columns": null,
            "margin": null,
            "display": null,
            "left": null
          }
        },
        "39a7294830a740e4b260da4d27d1a498": {
          "model_module": "@jupyter-widgets/controls",
          "model_name": "SliderStyleModel",
          "state": {
            "_view_name": "StyleView",
            "handle_color": null,
            "_model_name": "SliderStyleModel",
            "description_width": "",
            "_view_module": "@jupyter-widgets/base",
            "_model_module_version": "1.5.0",
            "_view_count": null,
            "_view_module_version": "1.2.0",
            "_model_module": "@jupyter-widgets/controls"
          }
        },
        "50ef3cc1d35245eaa63339e4f381618e": {
          "model_module": "@jupyter-widgets/base",
          "model_name": "LayoutModel",
          "state": {
            "_view_name": "LayoutView",
            "grid_template_rows": null,
            "right": null,
            "justify_content": null,
            "_view_module": "@jupyter-widgets/base",
            "overflow": null,
            "_model_module_version": "1.2.0",
            "_view_count": null,
            "flex_flow": null,
            "width": null,
            "min_width": null,
            "border": null,
            "align_items": null,
            "bottom": null,
            "_model_module": "@jupyter-widgets/base",
            "top": null,
            "grid_column": null,
            "overflow_y": null,
            "overflow_x": null,
            "grid_auto_flow": null,
            "grid_area": null,
            "grid_template_columns": null,
            "flex": null,
            "_model_name": "LayoutModel",
            "justify_items": null,
            "grid_row": null,
            "max_height": null,
            "align_content": null,
            "visibility": null,
            "align_self": null,
            "height": null,
            "min_height": null,
            "padding": null,
            "grid_auto_rows": null,
            "grid_gap": null,
            "max_width": null,
            "order": null,
            "_view_module_version": "1.2.0",
            "grid_template_areas": null,
            "object_position": null,
            "object_fit": null,
            "grid_auto_columns": null,
            "margin": null,
            "display": null,
            "left": null
          }
        },
        "714bae36bf8748bdbfbc197b75e4fff0": {
          "model_module": "@jupyter-widgets/base",
          "model_name": "LayoutModel",
          "state": {
            "_view_name": "LayoutView",
            "grid_template_rows": null,
            "right": null,
            "justify_content": null,
            "_view_module": "@jupyter-widgets/base",
            "overflow": null,
            "_model_module_version": "1.2.0",
            "_view_count": null,
            "flex_flow": null,
            "width": null,
            "min_width": null,
            "border": null,
            "align_items": null,
            "bottom": null,
            "_model_module": "@jupyter-widgets/base",
            "top": null,
            "grid_column": null,
            "overflow_y": null,
            "overflow_x": null,
            "grid_auto_flow": null,
            "grid_area": null,
            "grid_template_columns": null,
            "flex": null,
            "_model_name": "LayoutModel",
            "justify_items": null,
            "grid_row": null,
            "max_height": null,
            "align_content": null,
            "visibility": null,
            "align_self": null,
            "height": null,
            "min_height": null,
            "padding": null,
            "grid_auto_rows": null,
            "grid_gap": null,
            "max_width": null,
            "order": null,
            "_view_module_version": "1.2.0",
            "grid_template_areas": null,
            "object_position": null,
            "object_fit": null,
            "grid_auto_columns": null,
            "margin": null,
            "display": null,
            "left": null
          }
        }
      }
    },
    "accelerator": "GPU"
  },
  "cells": [
    {
      "cell_type": "markdown",
      "metadata": {
        "id": "view-in-github",
        "colab_type": "text"
      },
      "source": [
        "<a href=\"https://colab.research.google.com/github/B-Lorentz/physics-bsc-visual/blob/main/15_Quantum_Statistics.ipynb\" target=\"_parent\"><img src=\"https://colab.research.google.com/assets/colab-badge.svg\" alt=\"Open In Colab\"/></a>"
      ]
    },
    {
      "cell_type": "code",
      "metadata": {
        "id": "valPqXjUN0Jb"
      },
      "source": [
        "import numpy as np\n",
        "from matplotlib import pyplot as plt\n",
        "from jax import numpy as jnp\n",
        "from jax import grad, vmap, jit, random, lax, ops\n",
        "from matplotlib.widgets import Slider, Button, RadioButtons\n",
        "from ipywidgets import interact, widgets"
      ],
      "execution_count": 1,
      "outputs": []
    },
    {
      "cell_type": "markdown",
      "metadata": {
        "id": "aGI0OrcbIxpT"
      },
      "source": [
        "# Quantum Statistics\n",
        "\n",
        "### Ideal quantum gases: Bose-Einstein and Fermi-Dirac statistics"
      ]
    },
    {
      "cell_type": "markdown",
      "metadata": {
        "id": "gVpBpQjfJF9d"
      },
      "source": [
        "A key property of quantum mechanics is that identical particles are considered \"the same\": There are no labels attached. But our wavefunctions distinguish them merely by having variables specified in an ordered manner: $$\\Psi(x_1, x_2, x_3,...)$$\n",
        "(Here $x$ can include spin or any other descriptors)\n",
        "\n",
        "To remedy this, the wavefunction must be either symmetric or anti-symmetric in the interchange of particles:\n",
        "- symmetric: $\\Psi(x_1, x_2, x_3,...) = \\Psi(x_2, x_1, x_3,...) = \\Psi(x_2, x_3, x_1,...) = ...$\n",
        "\n",
        "- anti-symmtteric: $\\Psi(x_1, x_2, x_3,...) = -\\Psi(x_2, x_1, x_3,...) = \\Psi(x_2, x_3, x_1,...) = ...$\n",
        "\n",
        "This way repeated interchange of two perticles is the identity as expected ($1 = 1\\cdot1 = (-1)\\cdot(-1)$), but since the probabilities are given by $|\\Psi|^2$, the physical state is unchanged under permutation even in the antisymmetric case. ($\\cdot(-1)$ is just a phase change by $\\pi$ )\n",
        "\n",
        "It can be shown that whether the symmetric or the anti-symmetric case is in force depends only on the particle type. Particles whose wavefunction is symmetric to interchange are called bosons, and the anti-symmetric ones fermions. \n",
        "\n",
        "It is an additional important fact (the spin-statistics theorem) that bosons have integer spins and fermions half-integer spins. This is however not part of their definition, but a separate and notrivial result that can be arrived at from relativistc field theory."
      ]
    },
    {
      "cell_type": "markdown",
      "metadata": {
        "id": "AHjiQW3QPH-x"
      },
      "source": [
        "If the particles are non-interacting (their Hamiltionian is the sum of the individual Hamiltionians)  we can construct states with the required symmetry by linearly combining products of one-particle states:\n",
        "\n",
        "- For bosons all permutations are simply added together. Two particles: $\\Psi(x_1, x_2) = \\Psi_1(x_1)\\Psi_2(x_2) +  \\Psi_1(x_2)\\Psi_2(x_1)$\n",
        "\n",
        "- For fermions we multiply them by $-1^p$ where $p$ is the number of permutations needed from the natural ordering. Two particles: $\\Psi(x_1, x_2) = \\Psi_1(x_1)\\Psi_2(x_2) - \\Psi_1(x_2)\\Psi_2(x_1)$. Therefore if $\\Psi_1 \\equiv \\Psi_2$, the wavefunction is zero everywhere, prohibiting two fermions from ever assuming the same quantum state. THis is called the Pauli exclusion principle. (This generalized to $N$ particles where the wavefunction can be written asa  determinat formed from the one-particle wavefunctions)\n",
        "\n",
        "A demonstration for two particles in a 1D infinite potential well:"
      ]
    },
    {
      "cell_type": "code",
      "metadata": {
        "colab": {
          "base_uri": "https://localhost:8080/",
          "height": 231
        },
        "id": "VuzAQdFlB1jN",
        "outputId": "3f1efcb5-54ef-4d66-b031-97b2f7215bd8"
      },
      "source": [
        "x1 = x2 = np.linspace(0, 1, 100)\n",
        "\n",
        "def ploti(name, f):\n",
        "  x1s, x2s = np.meshgrid(x1, x2)\n",
        "  plt.contourf(x1, x2, f(x1s, x2s), levels=50,cmap=plt.get_cmap(\"coolwarm\"))\n",
        "  plt.plot([0,1],[0,1], \"black\")\n",
        "  #plt.plot(x1, psi1(x1))\n",
        "  plt.xlabel(\"$x_1$\", fontsize=14)\n",
        "  plt.xlabel(\"$x_2$\", fontsize=14)\n",
        "  plt.title(name, fontsize=16)\n",
        "def interplot(n1, n2):\n",
        "  psi1 = lambda x: jnp.sin(n1*np.pi*x)\n",
        "  psi2 = lambda x: jnp.sin(n2*np.pi*x)\n",
        "  plt.figure(figsize=(16, 8))\n",
        "  plt.subplot(121)\n",
        "  ploti(\"Bozon\", lambda x1, x2: psi1(x1)*psi2(x2) + psi1(x2)*psi2(x1))\n",
        "\n",
        "  plt.subplot(122)\n",
        "  ploti(\"Fermion\", lambda x1, x2: psi1(x1)*psi2(x2) - psi1(x2)*psi2(x1))\n",
        "interact(interplot, n1=widgets.IntSlider(1, 1, 10), n2=widgets.IntSlider(1, 3, 10))\n"
      ],
      "execution_count": 1,
      "outputs": [
        {
          "output_type": "error",
          "ename": "NameError",
          "evalue": "ignored",
          "traceback": [
            "\u001b[0;31m---------------------------------------------------------------------------\u001b[0m",
            "\u001b[0;31mNameError\u001b[0m                                 Traceback (most recent call last)",
            "\u001b[0;32m<ipython-input-1-a13af14259e5>\u001b[0m in \u001b[0;36m<module>\u001b[0;34m()\u001b[0m\n\u001b[0;32m----> 1\u001b[0;31m \u001b[0mx1\u001b[0m \u001b[0;34m=\u001b[0m \u001b[0mx2\u001b[0m \u001b[0;34m=\u001b[0m \u001b[0mnp\u001b[0m\u001b[0;34m.\u001b[0m\u001b[0mlinspace\u001b[0m\u001b[0;34m(\u001b[0m\u001b[0;36m0\u001b[0m\u001b[0;34m,\u001b[0m \u001b[0;36m1\u001b[0m\u001b[0;34m,\u001b[0m \u001b[0;36m100\u001b[0m\u001b[0;34m)\u001b[0m\u001b[0;34m\u001b[0m\u001b[0;34m\u001b[0m\u001b[0m\n\u001b[0m\u001b[1;32m      2\u001b[0m \u001b[0;34m\u001b[0m\u001b[0m\n\u001b[1;32m      3\u001b[0m \u001b[0;32mdef\u001b[0m \u001b[0mploti\u001b[0m\u001b[0;34m(\u001b[0m\u001b[0mname\u001b[0m\u001b[0;34m,\u001b[0m \u001b[0mf\u001b[0m\u001b[0;34m)\u001b[0m\u001b[0;34m:\u001b[0m\u001b[0;34m\u001b[0m\u001b[0;34m\u001b[0m\u001b[0m\n\u001b[1;32m      4\u001b[0m   \u001b[0mx1s\u001b[0m\u001b[0;34m,\u001b[0m \u001b[0mx2s\u001b[0m \u001b[0;34m=\u001b[0m \u001b[0mnp\u001b[0m\u001b[0;34m.\u001b[0m\u001b[0mmeshgrid\u001b[0m\u001b[0;34m(\u001b[0m\u001b[0mx1\u001b[0m\u001b[0;34m,\u001b[0m \u001b[0mx2\u001b[0m\u001b[0;34m)\u001b[0m\u001b[0;34m\u001b[0m\u001b[0;34m\u001b[0m\u001b[0m\n\u001b[1;32m      5\u001b[0m   \u001b[0mplt\u001b[0m\u001b[0;34m.\u001b[0m\u001b[0mcontourf\u001b[0m\u001b[0;34m(\u001b[0m\u001b[0mx1\u001b[0m\u001b[0;34m,\u001b[0m \u001b[0mx2\u001b[0m\u001b[0;34m,\u001b[0m \u001b[0mf\u001b[0m\u001b[0;34m(\u001b[0m\u001b[0mx1s\u001b[0m\u001b[0;34m,\u001b[0m \u001b[0mx2s\u001b[0m\u001b[0;34m)\u001b[0m\u001b[0;34m,\u001b[0m \u001b[0mlevels\u001b[0m\u001b[0;34m=\u001b[0m\u001b[0;36m50\u001b[0m\u001b[0;34m,\u001b[0m\u001b[0mcmap\u001b[0m\u001b[0;34m=\u001b[0m\u001b[0mplt\u001b[0m\u001b[0;34m.\u001b[0m\u001b[0mget_cmap\u001b[0m\u001b[0;34m(\u001b[0m\u001b[0;34m\"coolwarm\"\u001b[0m\u001b[0;34m)\u001b[0m\u001b[0;34m)\u001b[0m\u001b[0;34m\u001b[0m\u001b[0;34m\u001b[0m\u001b[0m\n",
            "\u001b[0;31mNameError\u001b[0m: name 'np' is not defined"
          ]
        }
      ]
    },
    {
      "cell_type": "markdown",
      "metadata": {
        "id": "nUIWAnKaSHZ5"
      },
      "source": [
        "To do statistical physics with non-interaction identical particles - that is, to study an ideal gas made of fermions or bosons - we use the occupation representation: For each quantum state with energy $\\epsilon_i$ we record only the number of particles $n_i$, and then compute the grand canonical partition function as $$\\mathcal{Z} = \\sum_{n_1}\\sum_{n_2}...\\prod_{k=1}^{\\infty}e^{-\\beta n_k(\\epsilon_k -\\mu)}$$\n",
        "\n",
        "For bosons $n_i\\in\\mathbb{N}$, while for fermions $n_i \\in \\{0, 1\\}$, encoding the only difference between them, the Pauli exclusion.\n",
        "\n",
        "This can be computed by cleverly interchanging the sum and the product and solving the sum (which is trivial for the fermions and a geometric series for bosons, that converges if $\\mu<\\epsilon_0$).\n",
        "\n",
        "$\\langle n_i \\rangle$ van be computed by noticing that in:\n",
        "$$\\langle n_i \\rangle = \\frac{1}{\\mathcal{Z}}\\sum_{n_1}\\sum_{n_2}...n_i\\prod_{k=1}^{\\infty}e^{-\\beta n_k(\\epsilon_k -\\mu)}$$ the respective contributions of all energy levels other than the $i$th are destroyed by the same appearing in $\\mathcal{Z}$.\n",
        "\n",
        "The result is:\n",
        "\n",
        "- $\\langle n_i \\rangle = f_B(\\epsilon_i) = \\frac{1}{e^{\\beta(\\epsilon_i - \\mu) }-1}$ for bosons.\n",
        "\n",
        "- $\\langle n_i \\rangle = f_F(\\epsilon_i) = \\frac{1}{e^{\\beta(\\epsilon_i - \\mu)  }+1}$ for fermions.\n",
        "\n",
        "The following interactive plots illustrate the shape of these two functions, and also show how there is nothing more ongoing than grand-canonical formalism in occupancy representation, as I show an approximate computation where I simply sample {n_i}-s (like (n_1=1, n_2=3, n_3=0 ...)) using a Monte-Carlo walk with grand canonical probabilities."
      ]
    },
    {
      "cell_type": "markdown",
      "metadata": {
        "id": "9Kn4Gkg5YiFV"
      },
      "source": [
        "### High temperature limit\n",
        "\n",
        "If $T \\to \\infty \\iff \\beta\\to0$\n",
        "\n",
        "For a sytem with a fixed number ($N$) of particles (like a gas in a box, but not a solid with phonons or a box with photons) $\\mu$ is given implicitly by:\n",
        "$$N=\\sum_i f(\\epsilon_i, \\mu)= \\sum_i \\frac{1}{e^{\\beta(\\epsilon_i - \\mu) }\\pm1}$$"
      ]
    },
    {
      "cell_type": "code",
      "metadata": {
        "id": "3eMBTqXVyq_7"
      },
      "source": [
        "def MCn(Es, beta, mu, stat):\n",
        "  N_es = Es.shape[0]\n",
        "  efun = lambda ns: (ns*(Es-mu)).sum()\n",
        "  def mcf(key):\n",
        "    def upd(i, state):\n",
        "      ns, sum_ns, key = state\n",
        "      k1, k2, k3, k4 = random.split(key, 4)\n",
        "      inds = random.choice(k1, N_es, shape=(N_es//20,), replace=False)\n",
        "      ns2 = ns.at[inds].set(stat.proposer(k2, ns[inds]))\n",
        "      e0 = efun(ns)\n",
        "      e1 = efun(ns2)\n",
        "      dec = jnp.logical_or(e1<e0, jnp.exp(-beta*(e1-e0)) > random.uniform(k3, (1,)))\n",
        "      ns = lax.cond(dec[0], lambda x:ns2, lambda x:x, ns)\n",
        "      sum_ns = lax.cond(i%5 == 4, lambda x: x+ns, lambda x:x, sum_ns)\n",
        "      return (ns, sum_ns, k4)\n",
        "    k1, k2 = random.split(key)\n",
        "    init = (stat.proposer(k1, np.zeros(N_es, dtype=int)), np.zeros(N_es, dtype=int), k2)\n",
        "    res = lax.fori_loop(0, 1000, upd, init)[1]\n",
        "    return res\n",
        "  return mcf\n",
        "class Stat:\n",
        "  def __init__(self, name, f, proposer):\n",
        "    self.name = name\n",
        "    self.f = f\n",
        "    self.proposer = proposer\n",
        "  \n",
        "fermi = Stat(\"F\", lambda E, beta, mu : 1/(np.exp(beta*(E-mu))+1), lambda key, ns: random.choice(key, 2, shape=ns.shape ))"
      ],
      "execution_count": 9,
      "outputs": []
    },
    {
      "cell_type": "code",
      "metadata": {
        "colab": {
          "base_uri": "https://localhost:8080/",
          "height": 582,
          "referenced_widgets": [
            "b47e08c7f14440baac9072af304fbeae",
            "afbac13a220c4b16b4fcd7cb6073a56c",
            "81a4f8e2259d483280f7a6cea6d02638",
            "931a4f5006a24d4aab7caa41eb8be8ef",
            "c71c1ff74a544f67b1ac5df89db8f633",
            "3153ea50831e4d54a1684357e687b65a",
            "8b918a9210b54ae5a856c95e7bc50005",
            "d4785ea8e18049e79be5860d32d15c7b",
            "01c7bd3ac990406699da98f7b40be2bb",
            "3901863c38a749ee9fbc41ed93c128fb"
          ]
        },
        "id": "BUFYMO3pOGcW",
        "outputId": "adc85ee0-ff47-48df-95af-37afab568482"
      },
      "source": [
        "N_stat = 100\n",
        "Es = np.linspace(0, 1.0, N_stat)\n",
        "\n",
        "def plotbuilder(stat):\n",
        "  def plotter(beta, mu):\n",
        "    plt.figure(figsize=(10, 8))\n",
        "    ns = stat.f(Es, beta, mu)\n",
        "    plt.plot(Es, ns, label=f\"$f_{stat.name}(E)$\")\n",
        "    bns = np.exp(-beta*Es)\n",
        "    plt.plot(Es, bns*ns.max(), label=\"Boltzmann\")\n",
        "    plt.plot([mu, mu], [0, ns.max()], \"r\", label=r\"$\\mu$\")\n",
        "    plt.xlabel(\"E\", fontsize=14)\n",
        "    plt.ylabel(\"<n>\", fontsize=14)\n",
        "    plt.grid()\n",
        "    mcs = vmap(MCn(Es, beta, mu, stat), 0)(random.split(random.PRNGKey(127), 100))\n",
        "    res, resd = mcs.mean(0), mcs.std(0)\n",
        "    maxi = res.max()/ns.max()\n",
        "    #print(res.shape, res.min(), res.max())\n",
        "    plt.errorbar(Es, res/maxi, resd/maxi)\n",
        "    plt.title(r\"$\\beta =\" +f\"{beta:.2f}$\")\n",
        "  \n",
        "    plt.legend(fontsize=14)\n",
        "  return plotter\n",
        "  \n",
        "interact(plotbuilder(fermi), beta=widgets.FloatSlider(min=1.0, max=30, value=3.5), mu=widgets.FloatSlider(min=-1, max=1, value=0.1, step=0.05))\n",
        "None\n"
      ],
      "execution_count": 10,
      "outputs": [
        {
          "output_type": "display_data",
          "data": {
            "application/vnd.jupyter.widget-view+json": {
              "model_id": "b47e08c7f14440baac9072af304fbeae",
              "version_minor": 0,
              "version_major": 2
            },
            "text/plain": [
              "interactive(children=(FloatSlider(value=3.5, description='beta', max=30.0, min=1.0), FloatSlider(value=0.1, de…"
            ]
          },
          "metadata": {
            "tags": []
          }
        }
      ]
    },
    {
      "cell_type": "code",
      "metadata": {
        "id": "EMG4Cu69QT7y",
        "colab": {
          "base_uri": "https://localhost:8080/",
          "height": 582,
          "referenced_widgets": [
            "388991ae435440a2a67ed5ed2cb9f174",
            "0b6f90577eec49928beebf59ad316df0",
            "49df1d0297ce487f94d794e81dcbf1f6",
            "de0d2fd9e9db41b7a01b846caede54e6",
            "e7d5e9ed79e0438ab74f5506684a0a43",
            "9414016f767040308edbb9dacecd99b7",
            "34fb524594624b7f978bb7cb055d38cf",
            "39a7294830a740e4b260da4d27d1a498",
            "50ef3cc1d35245eaa63339e4f381618e",
            "714bae36bf8748bdbfbc197b75e4fff0"
          ]
        },
        "outputId": "917ea1fc-9407-4d36-e7f0-ed10ed514306"
      },
      "source": [
        "bose = Stat(\"B\", lambda E, beta, mu : 1/(np.exp(beta*(E-mu))-1), lambda key, ns: jnp.maximum((random.normal(key, ns.shape)*jnp.maximum(ns, 10)/2).astype(int)+ns, 0) )\n",
        "interact(plotbuilder(bose), beta=widgets.FloatSlider(min=1.0, max=10, value=1.5), mu=widgets.FloatSlider(min=-1, max=-0.15, value=-0.05, step=0.05))\n",
        "None"
      ],
      "execution_count": 12,
      "outputs": [
        {
          "output_type": "display_data",
          "data": {
            "application/vnd.jupyter.widget-view+json": {
              "model_id": "388991ae435440a2a67ed5ed2cb9f174",
              "version_minor": 0,
              "version_major": 2
            },
            "text/plain": [
              "interactive(children=(FloatSlider(value=1.5, description='beta', max=10.0, min=1.0), FloatSlider(value=-0.15, …"
            ]
          },
          "metadata": {
            "tags": []
          }
        }
      ]
    },
    {
      "cell_type": "code",
      "metadata": {
        "id": "xOd80dDVAFBP"
      },
      "source": [
        ""
      ],
      "execution_count": 5,
      "outputs": []
    },
    {
      "cell_type": "markdown",
      "metadata": {
        "id": "K_ywlELOIvMa"
      },
      "source": [
        ""
      ]
    }
  ]
}