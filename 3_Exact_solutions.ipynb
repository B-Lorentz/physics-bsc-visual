{
  "nbformat": 4,
  "nbformat_minor": 0,
  "metadata": {
    "colab": {
      "name": "3_Exact_solutions.ipynb",
      "provenance": [],
      "authorship_tag": "ABX9TyN3ThpQOh6/xeD3QbvGKCaD",
      "include_colab_link": true
    },
    "kernelspec": {
      "name": "python3",
      "display_name": "Python 3"
    },
    "language_info": {
      "name": "python"
    },
    "widgets": {
      "application/vnd.jupyter.widget-state+json": {
        "bb5de6e6920b4660ad8bf9f205357db8": {
          "model_module": "@jupyter-widgets/controls",
          "model_name": "VBoxModel",
          "state": {
            "_view_name": "VBoxView",
            "_dom_classes": [
              "widget-interact"
            ],
            "_model_name": "VBoxModel",
            "_view_module": "@jupyter-widgets/controls",
            "_model_module_version": "1.5.0",
            "_view_count": null,
            "_view_module_version": "1.5.0",
            "box_style": "",
            "layout": "IPY_MODEL_ad35c7eb4fc54d5ea64d8cf00e1c50e8",
            "_model_module": "@jupyter-widgets/controls",
            "children": [
              "IPY_MODEL_9758d704ef5c452fb40a3b5beec29eeb",
              "IPY_MODEL_3faa368558ef4b45abe827ada7a8bd99"
            ]
          }
        },
        "ad35c7eb4fc54d5ea64d8cf00e1c50e8": {
          "model_module": "@jupyter-widgets/base",
          "model_name": "LayoutModel",
          "state": {
            "_view_name": "LayoutView",
            "grid_template_rows": null,
            "right": null,
            "justify_content": null,
            "_view_module": "@jupyter-widgets/base",
            "overflow": null,
            "_model_module_version": "1.2.0",
            "_view_count": null,
            "flex_flow": null,
            "width": null,
            "min_width": null,
            "border": null,
            "align_items": null,
            "bottom": null,
            "_model_module": "@jupyter-widgets/base",
            "top": null,
            "grid_column": null,
            "overflow_y": null,
            "overflow_x": null,
            "grid_auto_flow": null,
            "grid_area": null,
            "grid_template_columns": null,
            "flex": null,
            "_model_name": "LayoutModel",
            "justify_items": null,
            "grid_row": null,
            "max_height": null,
            "align_content": null,
            "visibility": null,
            "align_self": null,
            "height": null,
            "min_height": null,
            "padding": null,
            "grid_auto_rows": null,
            "grid_gap": null,
            "max_width": null,
            "order": null,
            "_view_module_version": "1.2.0",
            "grid_template_areas": null,
            "object_position": null,
            "object_fit": null,
            "grid_auto_columns": null,
            "margin": null,
            "display": null,
            "left": null
          }
        },
        "9758d704ef5c452fb40a3b5beec29eeb": {
          "model_module": "@jupyter-widgets/controls",
          "model_name": "FloatSliderModel",
          "state": {
            "_view_name": "FloatSliderView",
            "style": "IPY_MODEL_513d5856356f4b2e94c4201e67228130",
            "_dom_classes": [],
            "description": "b",
            "step": 0.1,
            "_model_name": "FloatSliderModel",
            "orientation": "horizontal",
            "max": 0.9,
            "_view_module": "@jupyter-widgets/controls",
            "_model_module_version": "1.5.0",
            "value": 0.5,
            "_view_count": null,
            "disabled": false,
            "_view_module_version": "1.5.0",
            "min": 0,
            "continuous_update": true,
            "readout_format": ".2f",
            "description_tooltip": null,
            "readout": true,
            "_model_module": "@jupyter-widgets/controls",
            "layout": "IPY_MODEL_a4e8e8ed40f54dfbaaf27e095fd3a1e2"
          }
        },
        "3faa368558ef4b45abe827ada7a8bd99": {
          "model_module": "@jupyter-widgets/output",
          "model_name": "OutputModel",
          "state": {
            "_view_name": "OutputView",
            "msg_id": "",
            "_dom_classes": [],
            "_model_name": "OutputModel",
            "outputs": [
              {
                "output_type": "stream",
                "metadata": {
                  "tags": []
                },
                "text": "WARNING:absl:No GPU/TPU found, falling back to CPU. (Set TF_CPP_MIN_LOG_LEVEL=0 and rerun for more info.)\n",
                "stream": "stderr"
              },
              {
                "output_type": "display_data",
                "metadata": {
                  "tags": [],
                  "needs_background": "light"
                },
                "image/png": "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\n",
                "text/plain": "<Figure size 864x432 with 1 Axes>"
              }
            ],
            "_view_module": "@jupyter-widgets/output",
            "_model_module_version": "1.0.0",
            "_view_count": null,
            "_view_module_version": "1.0.0",
            "layout": "IPY_MODEL_7404daa0af7147beac2237575e284732",
            "_model_module": "@jupyter-widgets/output"
          }
        },
        "513d5856356f4b2e94c4201e67228130": {
          "model_module": "@jupyter-widgets/controls",
          "model_name": "SliderStyleModel",
          "state": {
            "_view_name": "StyleView",
            "handle_color": null,
            "_model_name": "SliderStyleModel",
            "description_width": "",
            "_view_module": "@jupyter-widgets/base",
            "_model_module_version": "1.5.0",
            "_view_count": null,
            "_view_module_version": "1.2.0",
            "_model_module": "@jupyter-widgets/controls"
          }
        },
        "a4e8e8ed40f54dfbaaf27e095fd3a1e2": {
          "model_module": "@jupyter-widgets/base",
          "model_name": "LayoutModel",
          "state": {
            "_view_name": "LayoutView",
            "grid_template_rows": null,
            "right": null,
            "justify_content": null,
            "_view_module": "@jupyter-widgets/base",
            "overflow": null,
            "_model_module_version": "1.2.0",
            "_view_count": null,
            "flex_flow": null,
            "width": null,
            "min_width": null,
            "border": null,
            "align_items": null,
            "bottom": null,
            "_model_module": "@jupyter-widgets/base",
            "top": null,
            "grid_column": null,
            "overflow_y": null,
            "overflow_x": null,
            "grid_auto_flow": null,
            "grid_area": null,
            "grid_template_columns": null,
            "flex": null,
            "_model_name": "LayoutModel",
            "justify_items": null,
            "grid_row": null,
            "max_height": null,
            "align_content": null,
            "visibility": null,
            "align_self": null,
            "height": null,
            "min_height": null,
            "padding": null,
            "grid_auto_rows": null,
            "grid_gap": null,
            "max_width": null,
            "order": null,
            "_view_module_version": "1.2.0",
            "grid_template_areas": null,
            "object_position": null,
            "object_fit": null,
            "grid_auto_columns": null,
            "margin": null,
            "display": null,
            "left": null
          }
        },
        "7404daa0af7147beac2237575e284732": {
          "model_module": "@jupyter-widgets/base",
          "model_name": "LayoutModel",
          "state": {
            "_view_name": "LayoutView",
            "grid_template_rows": null,
            "right": null,
            "justify_content": null,
            "_view_module": "@jupyter-widgets/base",
            "overflow": null,
            "_model_module_version": "1.2.0",
            "_view_count": null,
            "flex_flow": null,
            "width": null,
            "min_width": null,
            "border": null,
            "align_items": null,
            "bottom": null,
            "_model_module": "@jupyter-widgets/base",
            "top": null,
            "grid_column": null,
            "overflow_y": null,
            "overflow_x": null,
            "grid_auto_flow": null,
            "grid_area": null,
            "grid_template_columns": null,
            "flex": null,
            "_model_name": "LayoutModel",
            "justify_items": null,
            "grid_row": null,
            "max_height": null,
            "align_content": null,
            "visibility": null,
            "align_self": null,
            "height": null,
            "min_height": null,
            "padding": null,
            "grid_auto_rows": null,
            "grid_gap": null,
            "max_width": null,
            "order": null,
            "_view_module_version": "1.2.0",
            "grid_template_areas": null,
            "object_position": null,
            "object_fit": null,
            "grid_auto_columns": null,
            "margin": null,
            "display": null,
            "left": null
          }
        },
        "ec12b54e0fea494fb775a2d0417dd014": {
          "model_module": "@jupyter-widgets/controls",
          "model_name": "VBoxModel",
          "state": {
            "_view_name": "VBoxView",
            "_dom_classes": [
              "widget-interact"
            ],
            "_model_name": "VBoxModel",
            "_view_module": "@jupyter-widgets/controls",
            "_model_module_version": "1.5.0",
            "_view_count": null,
            "_view_module_version": "1.5.0",
            "box_style": "",
            "layout": "IPY_MODEL_ba94d20134344d25b1389583c9937677",
            "_model_module": "@jupyter-widgets/controls",
            "children": [
              "IPY_MODEL_f8773211f5cc49d0b9cfb2adc0bd5d69",
              "IPY_MODEL_29c0f14d8777479f9262132dd2546510",
              "IPY_MODEL_a10f2d82e0df4bd6ba76a00ef373a13a"
            ]
          }
        },
        "ba94d20134344d25b1389583c9937677": {
          "model_module": "@jupyter-widgets/base",
          "model_name": "LayoutModel",
          "state": {
            "_view_name": "LayoutView",
            "grid_template_rows": null,
            "right": null,
            "justify_content": null,
            "_view_module": "@jupyter-widgets/base",
            "overflow": null,
            "_model_module_version": "1.2.0",
            "_view_count": null,
            "flex_flow": null,
            "width": null,
            "min_width": null,
            "border": null,
            "align_items": null,
            "bottom": null,
            "_model_module": "@jupyter-widgets/base",
            "top": null,
            "grid_column": null,
            "overflow_y": null,
            "overflow_x": null,
            "grid_auto_flow": null,
            "grid_area": null,
            "grid_template_columns": null,
            "flex": null,
            "_model_name": "LayoutModel",
            "justify_items": null,
            "grid_row": null,
            "max_height": null,
            "align_content": null,
            "visibility": null,
            "align_self": null,
            "height": null,
            "min_height": null,
            "padding": null,
            "grid_auto_rows": null,
            "grid_gap": null,
            "max_width": null,
            "order": null,
            "_view_module_version": "1.2.0",
            "grid_template_areas": null,
            "object_position": null,
            "object_fit": null,
            "grid_auto_columns": null,
            "margin": null,
            "display": null,
            "left": null
          }
        },
        "f8773211f5cc49d0b9cfb2adc0bd5d69": {
          "model_module": "@jupyter-widgets/controls",
          "model_name": "FloatSliderModel",
          "state": {
            "_view_name": "FloatSliderView",
            "style": "IPY_MODEL_2f4328d688a74da686665d2ea8f87c46",
            "_dom_classes": [],
            "description": "w",
            "step": 0.04999,
            "_model_name": "FloatSliderModel",
            "orientation": "horizontal",
            "max": 2,
            "_view_module": "@jupyter-widgets/controls",
            "_model_module_version": "1.5.0",
            "value": 0.1,
            "_view_count": null,
            "disabled": false,
            "_view_module_version": "1.5.0",
            "min": 0,
            "continuous_update": true,
            "readout_format": ".2f",
            "description_tooltip": null,
            "readout": true,
            "_model_module": "@jupyter-widgets/controls",
            "layout": "IPY_MODEL_4f974578d6f7401dae13b646ed5b010b"
          }
        },
        "29c0f14d8777479f9262132dd2546510": {
          "model_module": "@jupyter-widgets/controls",
          "model_name": "FloatSliderModel",
          "state": {
            "_view_name": "FloatSliderView",
            "style": "IPY_MODEL_013fbf8fbfbd4273a345aa6a8b701574",
            "_dom_classes": [],
            "description": "b",
            "step": 0.01,
            "_model_name": "FloatSliderModel",
            "orientation": "horizontal",
            "max": 0.5,
            "_view_module": "@jupyter-widgets/controls",
            "_model_module_version": "1.5.0",
            "value": 0.25,
            "_view_count": null,
            "disabled": false,
            "_view_module_version": "1.5.0",
            "min": 0.01,
            "continuous_update": true,
            "readout_format": ".2f",
            "description_tooltip": null,
            "readout": true,
            "_model_module": "@jupyter-widgets/controls",
            "layout": "IPY_MODEL_60afc2282f3b44f0809a3bd4f63f023a"
          }
        },
        "a10f2d82e0df4bd6ba76a00ef373a13a": {
          "model_module": "@jupyter-widgets/output",
          "model_name": "OutputModel",
          "state": {
            "_view_name": "OutputView",
            "msg_id": "",
            "_dom_classes": [],
            "_model_name": "OutputModel",
            "outputs": [
              {
                "output_type": "stream",
                "metadata": {
                  "tags": []
                },
                "text": "0.1\n",
                "stream": "stdout"
              },
              {
                "output_type": "display_data",
                "metadata": {
                  "tags": [],
                  "needs_background": "light"
                },
                "image/png": "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\n",
                "text/plain": "<Figure size 1296x432 with 3 Axes>"
              }
            ],
            "_view_module": "@jupyter-widgets/output",
            "_model_module_version": "1.0.0",
            "_view_count": null,
            "_view_module_version": "1.0.0",
            "layout": "IPY_MODEL_ea126a52352048a28812354f8b9482a5",
            "_model_module": "@jupyter-widgets/output"
          }
        },
        "2f4328d688a74da686665d2ea8f87c46": {
          "model_module": "@jupyter-widgets/controls",
          "model_name": "SliderStyleModel",
          "state": {
            "_view_name": "StyleView",
            "handle_color": null,
            "_model_name": "SliderStyleModel",
            "description_width": "",
            "_view_module": "@jupyter-widgets/base",
            "_model_module_version": "1.5.0",
            "_view_count": null,
            "_view_module_version": "1.2.0",
            "_model_module": "@jupyter-widgets/controls"
          }
        },
        "4f974578d6f7401dae13b646ed5b010b": {
          "model_module": "@jupyter-widgets/base",
          "model_name": "LayoutModel",
          "state": {
            "_view_name": "LayoutView",
            "grid_template_rows": null,
            "right": null,
            "justify_content": null,
            "_view_module": "@jupyter-widgets/base",
            "overflow": null,
            "_model_module_version": "1.2.0",
            "_view_count": null,
            "flex_flow": null,
            "width": null,
            "min_width": null,
            "border": null,
            "align_items": null,
            "bottom": null,
            "_model_module": "@jupyter-widgets/base",
            "top": null,
            "grid_column": null,
            "overflow_y": null,
            "overflow_x": null,
            "grid_auto_flow": null,
            "grid_area": null,
            "grid_template_columns": null,
            "flex": null,
            "_model_name": "LayoutModel",
            "justify_items": null,
            "grid_row": null,
            "max_height": null,
            "align_content": null,
            "visibility": null,
            "align_self": null,
            "height": null,
            "min_height": null,
            "padding": null,
            "grid_auto_rows": null,
            "grid_gap": null,
            "max_width": null,
            "order": null,
            "_view_module_version": "1.2.0",
            "grid_template_areas": null,
            "object_position": null,
            "object_fit": null,
            "grid_auto_columns": null,
            "margin": null,
            "display": null,
            "left": null
          }
        },
        "013fbf8fbfbd4273a345aa6a8b701574": {
          "model_module": "@jupyter-widgets/controls",
          "model_name": "SliderStyleModel",
          "state": {
            "_view_name": "StyleView",
            "handle_color": null,
            "_model_name": "SliderStyleModel",
            "description_width": "",
            "_view_module": "@jupyter-widgets/base",
            "_model_module_version": "1.5.0",
            "_view_count": null,
            "_view_module_version": "1.2.0",
            "_model_module": "@jupyter-widgets/controls"
          }
        },
        "60afc2282f3b44f0809a3bd4f63f023a": {
          "model_module": "@jupyter-widgets/base",
          "model_name": "LayoutModel",
          "state": {
            "_view_name": "LayoutView",
            "grid_template_rows": null,
            "right": null,
            "justify_content": null,
            "_view_module": "@jupyter-widgets/base",
            "overflow": null,
            "_model_module_version": "1.2.0",
            "_view_count": null,
            "flex_flow": null,
            "width": null,
            "min_width": null,
            "border": null,
            "align_items": null,
            "bottom": null,
            "_model_module": "@jupyter-widgets/base",
            "top": null,
            "grid_column": null,
            "overflow_y": null,
            "overflow_x": null,
            "grid_auto_flow": null,
            "grid_area": null,
            "grid_template_columns": null,
            "flex": null,
            "_model_name": "LayoutModel",
            "justify_items": null,
            "grid_row": null,
            "max_height": null,
            "align_content": null,
            "visibility": null,
            "align_self": null,
            "height": null,
            "min_height": null,
            "padding": null,
            "grid_auto_rows": null,
            "grid_gap": null,
            "max_width": null,
            "order": null,
            "_view_module_version": "1.2.0",
            "grid_template_areas": null,
            "object_position": null,
            "object_fit": null,
            "grid_auto_columns": null,
            "margin": null,
            "display": null,
            "left": null
          }
        },
        "ea126a52352048a28812354f8b9482a5": {
          "model_module": "@jupyter-widgets/base",
          "model_name": "LayoutModel",
          "state": {
            "_view_name": "LayoutView",
            "grid_template_rows": null,
            "right": null,
            "justify_content": null,
            "_view_module": "@jupyter-widgets/base",
            "overflow": null,
            "_model_module_version": "1.2.0",
            "_view_count": null,
            "flex_flow": null,
            "width": null,
            "min_width": null,
            "border": null,
            "align_items": null,
            "bottom": null,
            "_model_module": "@jupyter-widgets/base",
            "top": null,
            "grid_column": null,
            "overflow_y": null,
            "overflow_x": null,
            "grid_auto_flow": null,
            "grid_area": null,
            "grid_template_columns": null,
            "flex": null,
            "_model_name": "LayoutModel",
            "justify_items": null,
            "grid_row": null,
            "max_height": null,
            "align_content": null,
            "visibility": null,
            "align_self": null,
            "height": null,
            "min_height": null,
            "padding": null,
            "grid_auto_rows": null,
            "grid_gap": null,
            "max_width": null,
            "order": null,
            "_view_module_version": "1.2.0",
            "grid_template_areas": null,
            "object_position": null,
            "object_fit": null,
            "grid_auto_columns": null,
            "margin": null,
            "display": null,
            "left": null
          }
        },
        "2728c8dbd1d24ca6b0f3199fc5a08269": {
          "model_module": "@jupyter-widgets/controls",
          "model_name": "VBoxModel",
          "state": {
            "_view_name": "VBoxView",
            "_dom_classes": [
              "widget-interact"
            ],
            "_model_name": "VBoxModel",
            "_view_module": "@jupyter-widgets/controls",
            "_model_module_version": "1.5.0",
            "_view_count": null,
            "_view_module_version": "1.5.0",
            "box_style": "",
            "layout": "IPY_MODEL_e3136198ffb64e9c9dce9b8ab1e7acf3",
            "_model_module": "@jupyter-widgets/controls",
            "children": [
              "IPY_MODEL_39ecaf635c2e4610b1145159bf77efc2",
              "IPY_MODEL_a7fb620852394d17be5173583c85246b"
            ]
          }
        },
        "e3136198ffb64e9c9dce9b8ab1e7acf3": {
          "model_module": "@jupyter-widgets/base",
          "model_name": "LayoutModel",
          "state": {
            "_view_name": "LayoutView",
            "grid_template_rows": null,
            "right": null,
            "justify_content": null,
            "_view_module": "@jupyter-widgets/base",
            "overflow": null,
            "_model_module_version": "1.2.0",
            "_view_count": null,
            "flex_flow": null,
            "width": null,
            "min_width": null,
            "border": null,
            "align_items": null,
            "bottom": null,
            "_model_module": "@jupyter-widgets/base",
            "top": null,
            "grid_column": null,
            "overflow_y": null,
            "overflow_x": null,
            "grid_auto_flow": null,
            "grid_area": null,
            "grid_template_columns": null,
            "flex": null,
            "_model_name": "LayoutModel",
            "justify_items": null,
            "grid_row": null,
            "max_height": null,
            "align_content": null,
            "visibility": null,
            "align_self": null,
            "height": null,
            "min_height": null,
            "padding": null,
            "grid_auto_rows": null,
            "grid_gap": null,
            "max_width": null,
            "order": null,
            "_view_module_version": "1.2.0",
            "grid_template_areas": null,
            "object_position": null,
            "object_fit": null,
            "grid_auto_columns": null,
            "margin": null,
            "display": null,
            "left": null
          }
        },
        "39ecaf635c2e4610b1145159bf77efc2": {
          "model_module": "@jupyter-widgets/controls",
          "model_name": "FloatSliderModel",
          "state": {
            "_view_name": "FloatSliderView",
            "style": "IPY_MODEL_c5050626fddf4f84804dd0f67d1373c8",
            "_dom_classes": [],
            "description": "E",
            "step": 0.01,
            "_model_name": "FloatSliderModel",
            "orientation": "horizontal",
            "max": 0,
            "_view_module": "@jupyter-widgets/controls",
            "_model_module_version": "1.5.0",
            "value": -0.2,
            "_view_count": null,
            "disabled": false,
            "_view_module_version": "1.5.0",
            "min": -3.5,
            "continuous_update": true,
            "readout_format": ".2f",
            "description_tooltip": null,
            "readout": true,
            "_model_module": "@jupyter-widgets/controls",
            "layout": "IPY_MODEL_36cdf077c3e24dd6a275bb17bba81ea8"
          }
        },
        "a7fb620852394d17be5173583c85246b": {
          "model_module": "@jupyter-widgets/output",
          "model_name": "OutputModel",
          "state": {
            "_view_name": "OutputView",
            "msg_id": "",
            "_dom_classes": [],
            "_model_name": "OutputModel",
            "outputs": [
              {
                "output_type": "display_data",
                "metadata": {
                  "tags": [],
                  "needs_background": "light"
                },
                "image/png": "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\n",
                "text/plain": "<Figure size 1152x576 with 1 Axes>"
              }
            ],
            "_view_module": "@jupyter-widgets/output",
            "_model_module_version": "1.0.0",
            "_view_count": null,
            "_view_module_version": "1.0.0",
            "layout": "IPY_MODEL_415954cb1c01447db10e6787be56ec29",
            "_model_module": "@jupyter-widgets/output"
          }
        },
        "c5050626fddf4f84804dd0f67d1373c8": {
          "model_module": "@jupyter-widgets/controls",
          "model_name": "SliderStyleModel",
          "state": {
            "_view_name": "StyleView",
            "handle_color": null,
            "_model_name": "SliderStyleModel",
            "description_width": "",
            "_view_module": "@jupyter-widgets/base",
            "_model_module_version": "1.5.0",
            "_view_count": null,
            "_view_module_version": "1.2.0",
            "_model_module": "@jupyter-widgets/controls"
          }
        },
        "36cdf077c3e24dd6a275bb17bba81ea8": {
          "model_module": "@jupyter-widgets/base",
          "model_name": "LayoutModel",
          "state": {
            "_view_name": "LayoutView",
            "grid_template_rows": null,
            "right": null,
            "justify_content": null,
            "_view_module": "@jupyter-widgets/base",
            "overflow": null,
            "_model_module_version": "1.2.0",
            "_view_count": null,
            "flex_flow": null,
            "width": null,
            "min_width": null,
            "border": null,
            "align_items": null,
            "bottom": null,
            "_model_module": "@jupyter-widgets/base",
            "top": null,
            "grid_column": null,
            "overflow_y": null,
            "overflow_x": null,
            "grid_auto_flow": null,
            "grid_area": null,
            "grid_template_columns": null,
            "flex": null,
            "_model_name": "LayoutModel",
            "justify_items": null,
            "grid_row": null,
            "max_height": null,
            "align_content": null,
            "visibility": null,
            "align_self": null,
            "height": null,
            "min_height": null,
            "padding": null,
            "grid_auto_rows": null,
            "grid_gap": null,
            "max_width": null,
            "order": null,
            "_view_module_version": "1.2.0",
            "grid_template_areas": null,
            "object_position": null,
            "object_fit": null,
            "grid_auto_columns": null,
            "margin": null,
            "display": null,
            "left": null
          }
        },
        "415954cb1c01447db10e6787be56ec29": {
          "model_module": "@jupyter-widgets/base",
          "model_name": "LayoutModel",
          "state": {
            "_view_name": "LayoutView",
            "grid_template_rows": null,
            "right": null,
            "justify_content": null,
            "_view_module": "@jupyter-widgets/base",
            "overflow": null,
            "_model_module_version": "1.2.0",
            "_view_count": null,
            "flex_flow": null,
            "width": null,
            "min_width": null,
            "border": null,
            "align_items": null,
            "bottom": null,
            "_model_module": "@jupyter-widgets/base",
            "top": null,
            "grid_column": null,
            "overflow_y": null,
            "overflow_x": null,
            "grid_auto_flow": null,
            "grid_area": null,
            "grid_template_columns": null,
            "flex": null,
            "_model_name": "LayoutModel",
            "justify_items": null,
            "grid_row": null,
            "max_height": null,
            "align_content": null,
            "visibility": null,
            "align_self": null,
            "height": null,
            "min_height": null,
            "padding": null,
            "grid_auto_rows": null,
            "grid_gap": null,
            "max_width": null,
            "order": null,
            "_view_module_version": "1.2.0",
            "grid_template_areas": null,
            "object_position": null,
            "object_fit": null,
            "grid_auto_columns": null,
            "margin": null,
            "display": null,
            "left": null
          }
        },
        "9439cf1e34b244b68a8135790d1fd588": {
          "model_module": "@jupyter-widgets/controls",
          "model_name": "VBoxModel",
          "state": {
            "_view_name": "VBoxView",
            "_dom_classes": [
              "widget-interact"
            ],
            "_model_name": "VBoxModel",
            "_view_module": "@jupyter-widgets/controls",
            "_model_module_version": "1.5.0",
            "_view_count": null,
            "_view_module_version": "1.5.0",
            "box_style": "",
            "layout": "IPY_MODEL_859fbb5592fc4d5ebc27b009c1ad44d3",
            "_model_module": "@jupyter-widgets/controls",
            "children": [
              "IPY_MODEL_08060ee05a1d427493916400893f0436",
              "IPY_MODEL_790fc7be647b44ada0a30631169b2d98",
              "IPY_MODEL_1cdcef59f5c84e2eafba60462f47be36"
            ]
          }
        },
        "859fbb5592fc4d5ebc27b009c1ad44d3": {
          "model_module": "@jupyter-widgets/base",
          "model_name": "LayoutModel",
          "state": {
            "_view_name": "LayoutView",
            "grid_template_rows": null,
            "right": null,
            "justify_content": null,
            "_view_module": "@jupyter-widgets/base",
            "overflow": null,
            "_model_module_version": "1.2.0",
            "_view_count": null,
            "flex_flow": null,
            "width": null,
            "min_width": null,
            "border": null,
            "align_items": null,
            "bottom": null,
            "_model_module": "@jupyter-widgets/base",
            "top": null,
            "grid_column": null,
            "overflow_y": null,
            "overflow_x": null,
            "grid_auto_flow": null,
            "grid_area": null,
            "grid_template_columns": null,
            "flex": null,
            "_model_name": "LayoutModel",
            "justify_items": null,
            "grid_row": null,
            "max_height": null,
            "align_content": null,
            "visibility": null,
            "align_self": null,
            "height": null,
            "min_height": null,
            "padding": null,
            "grid_auto_rows": null,
            "grid_gap": null,
            "max_width": null,
            "order": null,
            "_view_module_version": "1.2.0",
            "grid_template_areas": null,
            "object_position": null,
            "object_fit": null,
            "grid_auto_columns": null,
            "margin": null,
            "display": null,
            "left": null
          }
        },
        "08060ee05a1d427493916400893f0436": {
          "model_module": "@jupyter-widgets/controls",
          "model_name": "IntSliderModel",
          "state": {
            "_view_name": "IntSliderView",
            "style": "IPY_MODEL_c973efa3825e461593ff0682b3bfc28c",
            "_dom_classes": [],
            "description": "l",
            "step": 1,
            "_model_name": "IntSliderModel",
            "orientation": "horizontal",
            "max": 5,
            "_view_module": "@jupyter-widgets/controls",
            "_model_module_version": "1.5.0",
            "value": 4,
            "_view_count": null,
            "disabled": false,
            "_view_module_version": "1.5.0",
            "min": 0,
            "continuous_update": true,
            "readout_format": "d",
            "description_tooltip": null,
            "readout": true,
            "_model_module": "@jupyter-widgets/controls",
            "layout": "IPY_MODEL_4f8755571c2841849829770d9a21b139"
          }
        },
        "790fc7be647b44ada0a30631169b2d98": {
          "model_module": "@jupyter-widgets/controls",
          "model_name": "IntSliderModel",
          "state": {
            "_view_name": "IntSliderView",
            "style": "IPY_MODEL_d3ca37a68e9843d7bed4335a52640e53",
            "_dom_classes": [],
            "description": "m",
            "step": 1,
            "_model_name": "IntSliderModel",
            "orientation": "horizontal",
            "max": 5,
            "_view_module": "@jupyter-widgets/controls",
            "_model_module_version": "1.5.0",
            "value": 0,
            "_view_count": null,
            "disabled": false,
            "_view_module_version": "1.5.0",
            "min": 0,
            "continuous_update": true,
            "readout_format": "d",
            "description_tooltip": null,
            "readout": true,
            "_model_module": "@jupyter-widgets/controls",
            "layout": "IPY_MODEL_b26cdf4c262749b7906a17f2ab335e50"
          }
        },
        "1cdcef59f5c84e2eafba60462f47be36": {
          "model_module": "@jupyter-widgets/output",
          "model_name": "OutputModel",
          "state": {
            "_view_name": "OutputView",
            "msg_id": "",
            "_dom_classes": [],
            "_model_name": "OutputModel",
            "outputs": [
              {
                "output_type": "display_data",
                "metadata": {
                  "tags": [],
                  "needs_background": "light"
                },
                "image/png": "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\n",
                "text/plain": "<Figure size 288x288 with 1 Axes>"
              }
            ],
            "_view_module": "@jupyter-widgets/output",
            "_model_module_version": "1.0.0",
            "_view_count": null,
            "_view_module_version": "1.0.0",
            "layout": "IPY_MODEL_4d0f7070ed7a434c9459fd1e1c9ccdd3",
            "_model_module": "@jupyter-widgets/output"
          }
        },
        "c973efa3825e461593ff0682b3bfc28c": {
          "model_module": "@jupyter-widgets/controls",
          "model_name": "SliderStyleModel",
          "state": {
            "_view_name": "StyleView",
            "handle_color": null,
            "_model_name": "SliderStyleModel",
            "description_width": "",
            "_view_module": "@jupyter-widgets/base",
            "_model_module_version": "1.5.0",
            "_view_count": null,
            "_view_module_version": "1.2.0",
            "_model_module": "@jupyter-widgets/controls"
          }
        },
        "4f8755571c2841849829770d9a21b139": {
          "model_module": "@jupyter-widgets/base",
          "model_name": "LayoutModel",
          "state": {
            "_view_name": "LayoutView",
            "grid_template_rows": null,
            "right": null,
            "justify_content": null,
            "_view_module": "@jupyter-widgets/base",
            "overflow": null,
            "_model_module_version": "1.2.0",
            "_view_count": null,
            "flex_flow": null,
            "width": null,
            "min_width": null,
            "border": null,
            "align_items": null,
            "bottom": null,
            "_model_module": "@jupyter-widgets/base",
            "top": null,
            "grid_column": null,
            "overflow_y": null,
            "overflow_x": null,
            "grid_auto_flow": null,
            "grid_area": null,
            "grid_template_columns": null,
            "flex": null,
            "_model_name": "LayoutModel",
            "justify_items": null,
            "grid_row": null,
            "max_height": null,
            "align_content": null,
            "visibility": null,
            "align_self": null,
            "height": null,
            "min_height": null,
            "padding": null,
            "grid_auto_rows": null,
            "grid_gap": null,
            "max_width": null,
            "order": null,
            "_view_module_version": "1.2.0",
            "grid_template_areas": null,
            "object_position": null,
            "object_fit": null,
            "grid_auto_columns": null,
            "margin": null,
            "display": null,
            "left": null
          }
        },
        "d3ca37a68e9843d7bed4335a52640e53": {
          "model_module": "@jupyter-widgets/controls",
          "model_name": "SliderStyleModel",
          "state": {
            "_view_name": "StyleView",
            "handle_color": null,
            "_model_name": "SliderStyleModel",
            "description_width": "",
            "_view_module": "@jupyter-widgets/base",
            "_model_module_version": "1.5.0",
            "_view_count": null,
            "_view_module_version": "1.2.0",
            "_model_module": "@jupyter-widgets/controls"
          }
        },
        "b26cdf4c262749b7906a17f2ab335e50": {
          "model_module": "@jupyter-widgets/base",
          "model_name": "LayoutModel",
          "state": {
            "_view_name": "LayoutView",
            "grid_template_rows": null,
            "right": null,
            "justify_content": null,
            "_view_module": "@jupyter-widgets/base",
            "overflow": null,
            "_model_module_version": "1.2.0",
            "_view_count": null,
            "flex_flow": null,
            "width": null,
            "min_width": null,
            "border": null,
            "align_items": null,
            "bottom": null,
            "_model_module": "@jupyter-widgets/base",
            "top": null,
            "grid_column": null,
            "overflow_y": null,
            "overflow_x": null,
            "grid_auto_flow": null,
            "grid_area": null,
            "grid_template_columns": null,
            "flex": null,
            "_model_name": "LayoutModel",
            "justify_items": null,
            "grid_row": null,
            "max_height": null,
            "align_content": null,
            "visibility": null,
            "align_self": null,
            "height": null,
            "min_height": null,
            "padding": null,
            "grid_auto_rows": null,
            "grid_gap": null,
            "max_width": null,
            "order": null,
            "_view_module_version": "1.2.0",
            "grid_template_areas": null,
            "object_position": null,
            "object_fit": null,
            "grid_auto_columns": null,
            "margin": null,
            "display": null,
            "left": null
          }
        },
        "4d0f7070ed7a434c9459fd1e1c9ccdd3": {
          "model_module": "@jupyter-widgets/base",
          "model_name": "LayoutModel",
          "state": {
            "_view_name": "LayoutView",
            "grid_template_rows": null,
            "right": null,
            "justify_content": null,
            "_view_module": "@jupyter-widgets/base",
            "overflow": null,
            "_model_module_version": "1.2.0",
            "_view_count": null,
            "flex_flow": null,
            "width": null,
            "min_width": null,
            "border": null,
            "align_items": null,
            "bottom": null,
            "_model_module": "@jupyter-widgets/base",
            "top": null,
            "grid_column": null,
            "overflow_y": null,
            "overflow_x": null,
            "grid_auto_flow": null,
            "grid_area": null,
            "grid_template_columns": null,
            "flex": null,
            "_model_name": "LayoutModel",
            "justify_items": null,
            "grid_row": null,
            "max_height": null,
            "align_content": null,
            "visibility": null,
            "align_self": null,
            "height": null,
            "min_height": null,
            "padding": null,
            "grid_auto_rows": null,
            "grid_gap": null,
            "max_width": null,
            "order": null,
            "_view_module_version": "1.2.0",
            "grid_template_areas": null,
            "object_position": null,
            "object_fit": null,
            "grid_auto_columns": null,
            "margin": null,
            "display": null,
            "left": null
          }
        }
      }
    }
  },
  "cells": [
    {
      "cell_type": "markdown",
      "metadata": {
        "id": "view-in-github",
        "colab_type": "text"
      },
      "source": [
        "<a href=\"https://colab.research.google.com/github/B-Lorentz/physics-bsc-visual/blob/main/3_Exact_solutions.ipynb\" target=\"_parent\"><img src=\"https://colab.research.google.com/assets/colab-badge.svg\" alt=\"Open In Colab\"/></a>"
      ]
    },
    {
      "cell_type": "code",
      "metadata": {
        "id": "4bE9majOynvZ"
      },
      "source": [
        "\n",
        "import numpy as np\n",
        "from matplotlib import pyplot as plt\n",
        "from jax import numpy as jnp\n",
        "from jax import grad, vmap, jit, random, lax, ops\n",
        "from matplotlib.widgets import Slider, Button, RadioButtons\n",
        "from ipywidgets import interact, widgets\n",
        "from sympy import *\n",
        "init_printing()"
      ],
      "execution_count": null,
      "outputs": []
    },
    {
      "cell_type": "markdown",
      "metadata": {
        "id": "C2jR6k--0jwi"
      },
      "source": [
        "# Problems with exact solutions"
      ]
    },
    {
      "cell_type": "markdown",
      "metadata": {
        "id": "0irAMEmB0p2-"
      },
      "source": [
        "### Damped harmonic oscillator\n",
        "\n",
        "$$\\ddot{x} + 2\\beta\\dot{x} + \\omega_0^2 x=0$$\n",
        "\n",
        "$$x(t) = A(t)\\sin(\\omega t + \\phi)$$\n"
      ]
    },
    {
      "cell_type": "code",
      "metadata": {
        "id": "UHdJQ0X50oiY",
        "colab": {
          "base_uri": "https://localhost:8080/",
          "height": 58
        },
        "outputId": "a3fb29ba-e59d-4b90-d3f2-b59f3d46d13a"
      },
      "source": [
        "x, t, beta, w, w_0 = symbols(\"x t beta omega omega_0\",real=True)\n",
        "A = Function(\"A\")(t)\n",
        "xa = A*sin(w*t)\n",
        "eq = (diff(diff(xa, t), t) + 2*beta*diff(xa, t) + w_0*xa).expand()\n",
        "eq.coeff(sin(w*t)), eq.coeff(cos(w*t))"
      ],
      "execution_count": null,
      "outputs": [
        {
          "output_type": "execute_result",
          "data": {
            "image/png": "[encoded data removed]",
            "text/latex": "$\\displaystyle \\left( 2 \\beta \\frac{d}{d t} A{\\left(t \\right)} - \\omega^{2} A{\\left(t \\right)} + \\omega_{0} A{\\left(t \\right)} + \\frac{d^{2}}{d t^{2}} A{\\left(t \\right)}, \\  2 \\beta \\omega A{\\left(t \\right)} + 2 \\omega \\frac{d}{d t} A{\\left(t \\right)}\\right)$",
            "text/plain": [
              "⎛                                     2                                 ⎞\n",
              "⎜    d           2                   d                          d       ⎟\n",
              "⎜2⋅β⋅──(A(t)) - ω ⋅A(t) + ω₀⋅A(t) + ───(A(t)), 2⋅β⋅ω⋅A(t) + 2⋅ω⋅──(A(t))⎟\n",
              "⎜    dt                               2                         dt      ⎟\n",
              "⎝                                   dt                                  ⎠"
            ]
          },
          "metadata": {
            "tags": []
          },
          "execution_count": 2
        }
      ]
    },
    {
      "cell_type": "markdown",
      "metadata": {
        "id": "uYQnB_rt25G_"
      },
      "source": [
        "$$[\\ddot{A} + 2\\beta \\dot{A} + (\\omega_0^2 - \\omega^2)A]\\sin(\\omega t +\\phi) = 0$$\n",
        "\n",
        "$$[2\\omega(\\dot{A} + \\beta A)]\\cos(\\omega t +\\phi) = 0$$\n",
        "\n",
        "$$A(t) = A_0 e^{-\\beta t}$$\n",
        "\n",
        "$$\\omega = \\sqrt{\\omega_0^2 - \\beta^2}$$"
      ]
    },
    {
      "cell_type": "code",
      "metadata": {
        "id": "LjKBzXK32Vho",
        "colab": {
          "base_uri": "https://localhost:8080/",
          "height": 462,
          "referenced_widgets": [
            "bb5de6e6920b4660ad8bf9f205357db8",
            "ad35c7eb4fc54d5ea64d8cf00e1c50e8",
            "9758d704ef5c452fb40a3b5beec29eeb",
            "3faa368558ef4b45abe827ada7a8bd99",
            "513d5856356f4b2e94c4201e67228130",
            "a4e8e8ed40f54dfbaaf27e095fd3a1e2",
            "7404daa0af7147beac2237575e284732"
          ]
        },
        "outputId": "663558a5-6052-45d4-c31a-782c90fa8734"
      },
      "source": [
        "def plot(b):\n",
        "  xaf =  lambda t: jnp.exp(-b*t)*jnp.sin(jnp.sqrt(1-b**2)*t)\n",
        "  ts = np.linspace(0, 20, 1000)\n",
        "  plt.figure(figsize=(12, 6))\n",
        "  plt.plot(ts, xaf(ts))\n",
        "  plt.plot(ts, np.zeros_like(ts), \"black\")\n",
        "  plt.grid()\n",
        "  plt.xlabel(\"t\", fontsize=14)\n",
        "  plt.ylabel(\"$x/A_0$\", fontsize=14)\n",
        "\n",
        "interact(plot, b=widgets.FloatSlider(value=0.5, min=0.0, max=0.9))"
      ],
      "execution_count": null,
      "outputs": [
        {
          "output_type": "display_data",
          "data": {
            "application/vnd.jupyter.widget-view+json": {
              "model_id": "bb5de6e6920b4660ad8bf9f205357db8",
              "version_minor": 0,
              "version_major": 2
            },
            "text/plain": [
              "interactive(children=(FloatSlider(value=0.5, description='b', max=0.9), Output()), _dom_classes=('widget-inter…"
            ]
          },
          "metadata": {
            "tags": []
          }
        },
        {
          "output_type": "execute_result",
          "data": {
            "text/plain": [
              "<function __main__.plot>"
            ]
          },
          "metadata": {
            "tags": []
          },
          "execution_count": 3
        }
      ]
    },
    {
      "cell_type": "markdown",
      "metadata": {
        "id": "hO6LPZ2O54qa"
      },
      "source": [
        "## Driven oscillator\n",
        "\n",
        "$$\\ddot{x} + 2\\beta\\dot{x} + \\omega_0^2 x= a_0 \\sin(\\omega t)$$\n",
        "\n",
        "$$x(t) = A\\sin(\\omega t + \\phi)$$"
      ]
    },
    {
      "cell_type": "markdown",
      "metadata": {
        "id": "O1MCfXsz6UEm"
      },
      "source": [
        "$$A = \\frac{a_0}{\\sqrt{(\\omega_0^2 - \\omega^2)^2 + 4\\beta^2 \\omega^2}}$$\n",
        "\n",
        "$$\\tan(\\phi) = \\frac{2\\beta\\omega}{\\omega^2 - \\omega_0^2}$$"
      ]
    },
    {
      "cell_type": "code",
      "metadata": {
        "id": "Q9JdI-f04wyL",
        "colab": {
          "base_uri": "https://localhost:8080/",
          "height": 473,
          "referenced_widgets": [
            "ec12b54e0fea494fb775a2d0417dd014",
            "ba94d20134344d25b1389583c9937677",
            "f8773211f5cc49d0b9cfb2adc0bd5d69",
            "29c0f14d8777479f9262132dd2546510",
            "a10f2d82e0df4bd6ba76a00ef373a13a",
            "2f4328d688a74da686665d2ea8f87c46",
            "4f974578d6f7401dae13b646ed5b010b",
            "013fbf8fbfbd4273a345aa6a8b701574",
            "60afc2282f3b44f0809a3bd4f63f023a",
            "ea126a52352048a28812354f8b9482a5"
          ]
        },
        "outputId": "0e2b73c0-7883-4e19-cda5-34ce6e427a2b"
      },
      "source": [
        " def plot1(w, b):\n",
        "  print(w)\n",
        "  w_0 = 1.0 \n",
        "  dfun =lambda w: np.arctan(2*b*w/(w**2-w_0**2))\n",
        "  Afun = lambda w: 1/jnp.sqrt((w**2-w_0**2)**2 + 4*b**2*w**2)\n",
        "  xaf =  lambda t: jnp.sin(w*t + dfun(w))*Afun(w)\n",
        "\n",
        "  ts = np.linspace(0, 40, 1000)\n",
        "  plt.figure(figsize=(18, 6))\n",
        "  plt.subplot(131)\n",
        "  plt.plot(ts, np.sin(w*ts), label=\"a/a_0\")\n",
        "  plt.plot(ts, xaf(ts), label=\"x(t)/a_0\")\n",
        "  plt.plot(ts, np.zeros_like(ts), \"black\")\n",
        "  plt.grid()\n",
        "  plt.xlabel(\"t\", fontsize=14)\n",
        "  plt.legend(fontsize=14)\n",
        "  plt.subplot(132)\n",
        "  ws = np.linspace(0.1, 2.0, 200)\n",
        "  plt.plot(ws, Afun(ws))\n",
        "  plt.plot([w], Afun(w), \"rx\")\n",
        "  plt.xlabel(\"$\\omega$\", fontsize=14)\n",
        "  plt.ylabel(\"$A$\", fontsize=14)\n",
        "  plt.grid()\n",
        "  plt.subplot(133)\n",
        "  ws = np.linspace(0.0, 2.0, 200)\n",
        "  plt.plot(ws, dfun(ws))\n",
        "  plt.plot([w], dfun(w), \"rx\")\n",
        "  plt.xlabel(\"$\\omega$\", fontsize=14)\n",
        "  plt.ylabel(\"$\\phi$\", fontsize=14)\n",
        "  plt.grid()\n",
        "\n",
        "interact(plot1, b=widgets.FloatSlider(value=0.25, min=0.01, max=0.5, step=0.01), w=widgets.FloatSlider(value=0.1, min=0.0, max=2.0, step=0.04999))\n",
        "None"
      ],
      "execution_count": null,
      "outputs": [
        {
          "output_type": "display_data",
          "data": {
            "application/vnd.jupyter.widget-view+json": {
              "model_id": "ec12b54e0fea494fb775a2d0417dd014",
              "version_minor": 0,
              "version_major": 2
            },
            "text/plain": [
              "interactive(children=(FloatSlider(value=0.1, description='w', max=2.0, step=0.04999), FloatSlider(value=0.25, …"
            ]
          },
          "metadata": {
            "tags": []
          }
        }
      ]
    },
    {
      "cell_type": "code",
      "metadata": {
        "id": "pOxUuds57vTM"
      },
      "source": [
        ""
      ],
      "execution_count": null,
      "outputs": []
    },
    {
      "cell_type": "markdown",
      "metadata": {
        "id": "XNMua74YARN8"
      },
      "source": [
        "# Linear chain\n",
        "\n",
        "$$\\ddot{u}_i = \\omega_0^2(u_{i+1} + u_{i-1} - 2 u_i)$$\n",
        "\n",
        "Written as matrix equation: \n",
        "\n",
        "$$\\ddot{u} = \\mathbf{D} u$$\n",
        "\n",
        "$$u_i(t) = A(q)e^{jiqa}e^{j\\omega t}$$\n",
        "\n",
        "Eigenvalue problem. Periodic boundary condition: $$A_0 = 1 = A_N = e^{jqaN} \\implies q = k\\cdot\\frac{2 \\pi}{a N}$$\n",
        "\n",
        "$$\\omega^2 = 2\\omega_0^2|\\sin(q a/2)|$$"
      ]
    },
    {
      "cell_type": "code",
      "metadata": {
        "id": "mZ_uoxh3ATe-",
        "colab": {
          "base_uri": "https://localhost:8080/",
          "height": 611
        },
        "outputId": "6cde73fa-601b-4e6b-dde2-5b9d71af193a"
      },
      "source": [
        "def plot2():\n",
        "  plt.figure(figsize=(10,10))\n",
        "  plt.grid()\n",
        "  N = 100\n",
        "  qs = np.arange(-50, 50)*2*np.pi/N\n",
        "  plt.plot(qs, 2*np.abs(np.sin(qs/2)))\n",
        "  plt.xlabel(r\"$q\\cdot a$\", fontsize=14)\n",
        "  plt.ylabel(r\"$\\frac{\\omega}{\\omega_0}$\", fontsize=14)\n",
        "plot2()"
      ],
      "execution_count": null,
      "outputs": [
        {
          "output_type": "display_data",
          "data": {
            "image/png": "[encoded data removed]",
            "text/plain": [
              "<Figure size 720x720 with 1 Axes>"
            ]
          },
          "metadata": {
            "tags": [],
            "needs_background": "light"
          }
        }
      ]
    },
    {
      "cell_type": "code",
      "metadata": {
        "id": "Q7VVJOQzDk_o"
      },
      "source": [
        ""
      ],
      "execution_count": null,
      "outputs": []
    },
    {
      "cell_type": "markdown",
      "metadata": {
        "id": "Rl2bQMVaEFDz"
      },
      "source": [
        "## Schrödinger equation in finite square potential well"
      ]
    },
    {
      "cell_type": "markdown",
      "metadata": {
        "id": "2-d7Ufs3ENCt"
      },
      "source": [
        "$$H\\psi = E\\psi$$\n",
        "\n",
        "$$\\frac{-\\hbar^2}{2 m}\\psi'' - V(x)=-|E|\\psi$$\n",
        "\n",
        "Three equations for the three regions. $\\psi$ and $\\psi'$ must match on the boundary. This gives a transcendent equation"
      ]
    },
    {
      "cell_type": "code",
      "metadata": {
        "id": "qUs1nrUQELiQ",
        "colab": {
          "base_uri": "https://localhost:8080/",
          "height": 550,
          "referenced_widgets": [
            "2728c8dbd1d24ca6b0f3199fc5a08269",
            "e3136198ffb64e9c9dce9b8ab1e7acf3",
            "39ecaf635c2e4610b1145159bf77efc2",
            "a7fb620852394d17be5173583c85246b",
            "c5050626fddf4f84804dd0f67d1373c8",
            "36cdf077c3e24dd6a275bb17bba81ea8",
            "415954cb1c01447db10e6787be56ec29"
          ]
        },
        "outputId": "a9641caa-f9f1-4676-ba6b-35dd275dfe4c"
      },
      "source": [
        "def plot3(E):\n",
        "  plt.figure(figsize=(16, 8))\n",
        "  plt.subplot(121)\n",
        "  plt.xlabel('x', fontsize=14)\n",
        "  xs = np.linspace(-1.0, 1.0, 200)\n",
        "  V = lambda x: -1.0*(np.abs(x)<0.5)\n",
        "  plt.plot(xs, V(xs))\n",
        "  kap = np.sqrt(2*np.abs(E))\n",
        "  k = np.sqrt(-2*(-1 - np.abs(E)))\n",
        "  A = 1.0\n",
        "  D = A*np.exp(-kap*0.5)/np.cos(k*0.5)\n",
        "  n1, n2 = xs<-0.5, xs>0.5 \n",
        "  plt.plot(xs, A*np.exp(kap*xs)*n1 + D*np.cos(k*xs)*((~n1) & (~n2)) + A*np.exp(-kap*xs)*n2)\n",
        "  plt.grid()\n",
        "\n",
        "\n",
        "interact(plot3, E = widgets.FloatSlider(-0.2, min=-3.5, max=-0.0, step=0.01))"
      ],
      "execution_count": null,
      "outputs": [
        {
          "output_type": "display_data",
          "data": {
            "application/vnd.jupyter.widget-view+json": {
              "model_id": "2728c8dbd1d24ca6b0f3199fc5a08269",
              "version_minor": 0,
              "version_major": 2
            },
            "text/plain": [
              "interactive(children=(FloatSlider(value=-0.2, description='E', max=-0.0, min=-3.5, step=0.01), Output()), _dom…"
            ]
          },
          "metadata": {
            "tags": []
          }
        },
        {
          "output_type": "execute_result",
          "data": {
            "text/plain": [
              "<function __main__.plot3>"
            ]
          },
          "metadata": {
            "tags": []
          },
          "execution_count": 6
        }
      ]
    },
    {
      "cell_type": "markdown",
      "metadata": {
        "id": "SFpjVKV_UAnO"
      },
      "source": [
        "## Quantum Harmonic Oscillator\n",
        "\n",
        "$$V(x) = \\frac{1}{2}m\\omega^2x^2$$\n",
        "\n",
        "$$-\\frac{\\hbar^2}{2m}\\frac{\\partial^2\\psi}{\\partial x^2} + \\frac{1}{2}m\\omega^2x^2\\psi = E\\psi$$\n",
        "\n",
        "1. Dimensionless: $$\\frac{\\partial^2\\psi}{\\partial \\xi^2} = (\\xi^2 - k)\\psi$$\n",
        "\n",
        "2. Solve asymptotic behaviour: $\\xi \\to \\infty$\n",
        "\n",
        "$$\\psi = h(\\xi)e^{\\xi^2/2}$$\n",
        "\n",
        "3. Equation for the polinomial:\n",
        "\n",
        "$$\\frac{d^2 h}{d \\xi^2} - 2 \\xi \\frac{dh}{d\\xi} + (k-1)h = 0$$\n",
        "\n",
        "4. Write $h$ as series: $h=\\sum_{i=0}^\\infty a_i\\xi^i \\implies$ recursion:\n",
        "\n",
        "$$ a_{i+2} = a_i\\frac{2i+1-k}{(i+1)(i+2)}$$\n",
        "\n",
        "5. For $\\psi$ to remain normalizable both the even and the odd recursion must terminate at some i: $$2n + 1 = k = \\frac{2E}{\\hbar \\omega}$$\n",
        "\n",
        "6. Name the the polynomials resulting from this recursion after Hermite:\n",
        "\n",
        "$$\\psi_n = H_n(\\xi)e^{\\xi^2/2}$$\n"
      ]
    },
    {
      "cell_type": "markdown",
      "metadata": {
        "id": "1q-OLgUmeIye"
      },
      "source": [
        "## QHI algebraic solution\n",
        "\n",
        "1. Ladder operators:\n",
        "$$\\hat{a}_\\pm=\\frac{1}{\\sqrt{2 m}}(\\hat{p}\\pm im\\omega\\hat{x})$$\n",
        "\n",
        "2. Their commutator:\n",
        "\n",
        "$$[\\hat{a}_-, \\hat{a}_+] = \\hbar \\omega$$\n",
        "\n",
        "3. Write Schrödiner-equation with them:\n",
        "\n",
        "$$\\left(\\hat{a}_+\\hat{a}_- + \\frac{\\hbar\\omega}{2}\\right)\\psi = E\\psi$$\n",
        "\n",
        "4. They make new solutions:\n",
        "\n",
        "$$\\left(\\hat{a}_+\\hat{a}_- + \\frac{\\hbar\\omega}{2}\\right)\\hat{a}_+\\psi = \\hat{a}_+\\left(\\hat{a}_-\\hat{a}_+ + \\frac{\\hbar\\omega}{2}\\right)\\psi  = \\hat{a}_+\\left(\\hat{a}_+\\hat{a}_- + \\hbar\\omega+ \\frac{\\hbar\\omega}{2}\\right)\\psi= \\hat{a}_+\n",
        "(E + \\hbar \\omega)\\psi$$\n",
        "\n",
        "5. To avoid negative energy solutions:\n",
        "\n",
        "$$ \\hat{a}_-\\psi_0 = 0 \\implies \\psi_0=Ce^{-x^2/2}, \\ E_0=\\frac{\\hbar\\omega}{2}$$\n",
        "\n",
        "6. All other states:\n",
        "\n",
        "$$\\psi_n = (\\hat{a}_+)^n\\psi_0$$"
      ]
    },
    {
      "cell_type": "markdown",
      "metadata": {
        "id": "yq2WrANqjn4K"
      },
      "source": [
        "#Rotator (rigid rotor)\n",
        "\n",
        "A $\\psi(\\theta, \\phi)$ wavefuction. No potential. Describes a freely rotating object\n",
        "\n",
        "- angular momentum operator: $\\hat{L_i} = \\epsilon_{ijk} \\hat{x}_j \\hat{p}_k$\n",
        "\n",
        "- commutes with Hamiltonian: $[\\hat{L}_i, \\hat{H}] = 0 $ -> common eigenstates\n",
        "\n",
        "- magnitde op: $[\\hat{L}, \\hat{L^2}] =  0 = [\\hat{L}, \\hat{H}]$\n",
        "\n",
        "We look for the common egienstates of $\\hat{H}$, $\\hat{L}$ and one chosen $\\hat{L}_i$ ($\\hat{L}_z$). (Or simply write the Laplacian arising from the kinetic term in Sch in spheircal coordiantes and call it a day)\n",
        "\n",
        "1. This can be solved by sperataing the variables $\\theta$ an $\\phi$.\n",
        "\n",
        "2. The $\\phi$-dependent part is: $\\Phi(\\phi) = (2\\pi)^{-1/2}e^{im\\phi}$\n",
        "\n",
        "  - The cyclic boundary condition fixes $m \\in \\mathbb{Z}$\n",
        "\n",
        "3. The $\\theta$-dep perts are the associaated Legendere polynomials indexed by $l\\in\\mathbb{N}$. $|m|\\leq l$\n",
        "\n",
        "4. $E\\propto l(l+1)\\hbar^2$\n",
        "\n",
        "The solution are the spherical harmonics:\n",
        "\n",
        "$$\\hat{L}_z Y_{lm} = m\\hbar Y_{lm}$$\n",
        "\n",
        "$$\\hat{L}^2 Y_{lm} = l(l+1)\\hbar^2 Y_{lm}$$\n"
      ]
    },
    {
      "cell_type": "code",
      "metadata": {
        "id": "QR_bLi-3ji2S",
        "colab": {
          "base_uri": "https://localhost:8080/",
          "height": 312,
          "referenced_widgets": [
            "9439cf1e34b244b68a8135790d1fd588",
            "859fbb5592fc4d5ebc27b009c1ad44d3",
            "08060ee05a1d427493916400893f0436",
            "790fc7be647b44ada0a30631169b2d98",
            "1cdcef59f5c84e2eafba60462f47be36",
            "c973efa3825e461593ff0682b3bfc28c",
            "4f8755571c2841849829770d9a21b139",
            "d3ca37a68e9843d7bed4335a52640e53",
            "b26cdf4c262749b7906a17f2ab335e50",
            "4d0f7070ed7a434c9459fd1e1c9ccdd3"
          ]
        },
        "outputId": "882fd1f8-6212-4bb3-ffa1-b38cb65e9b35"
      },
      "source": [
        "from matplotlib import cm, colors\n",
        "from mpl_toolkits.mplot3d import Axes3D\n",
        "from scipy.special import sph_harm\n",
        "\n",
        "phi = np.linspace(0, np.pi, 100)\n",
        "theta = np.linspace(0, 2*np.pi, 100)\n",
        "phi, theta = np.meshgrid(phi, theta)\n",
        "\n",
        "x = np.sin(phi) * np.cos(theta)\n",
        "y = np.sin(phi) * np.sin(theta)\n",
        "z = np.cos(phi)\n",
        "\n",
        "\n",
        "def plot3(l, m):\n",
        "  fcolors = sph_harm(m, l, theta, phi).real\n",
        "  fmax, fmin = fcolors.max(), fcolors.min()\n",
        "  fcolors = (fcolors - fmin)/(fmax - fmin)\n",
        "\n",
        "  fig = plt.figure(figsize=plt.figaspect(1.))\n",
        "  ax = fig.add_subplot(111, projection='3d')\n",
        "  ax.plot_surface(x, y, z,  rstride=1, cstride=1, facecolors=cm.seismic(fcolors))\n",
        "\n",
        "  #ax.set_axis_off()\n",
        "  plt.show()\n",
        "\n",
        "interact(plot3, l=widgets.IntSlider(1, 0, 5), m=widgets.IntSlider(0, 0, 5))\n",
        "None"
      ],
      "execution_count": null,
      "outputs": [
        {
          "output_type": "display_data",
          "data": {
            "application/vnd.jupyter.widget-view+json": {
              "model_id": "9439cf1e34b244b68a8135790d1fd588",
              "version_minor": 0,
              "version_major": 2
            },
            "text/plain": [
              "interactive(children=(IntSlider(value=1, description='l', max=5), IntSlider(value=0, description='m', max=5), …"
            ]
          },
          "metadata": {
            "tags": []
          }
        }
      ]
    },
    {
      "cell_type": "code",
      "metadata": {
        "id": "RjteG56ekCct"
      },
      "source": [
        ""
      ],
      "execution_count": null,
      "outputs": []
    }
  ]
}