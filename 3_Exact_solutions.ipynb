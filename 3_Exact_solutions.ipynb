{
  "nbformat": 4,
  "nbformat_minor": 0,
  "metadata": {
    "colab": {
      "name": "3_Exact_solutions.ipynb",
      "provenance": [],
      "authorship_tag": "ABX9TyOHK2hGNAsVldQ/olDWt9aa",
      "include_colab_link": true
    },
    "kernelspec": {
      "name": "python3",
      "display_name": "Python 3"
    },
    "language_info": {
      "name": "python"
    },
    "widgets": {
      "application/vnd.jupyter.widget-state+json": {
        "af58df7b59214aebbc1125cab6dc2fb8": {
          "model_module": "@jupyter-widgets/controls",
          "model_name": "VBoxModel",
          "state": {
            "_view_name": "VBoxView",
            "_dom_classes": [
              "widget-interact"
            ],
            "_model_name": "VBoxModel",
            "_view_module": "@jupyter-widgets/controls",
            "_model_module_version": "1.5.0",
            "_view_count": null,
            "_view_module_version": "1.5.0",
            "box_style": "",
            "layout": "IPY_MODEL_d618ed2ed4a04b9b9ae9ceb5b55c4010",
            "_model_module": "@jupyter-widgets/controls",
            "children": [
              "IPY_MODEL_fcba9fcdd518449bab531a05b27f2a19",
              "IPY_MODEL_b3985efb47f4434f818e300afd8ede94"
            ]
          }
        },
        "d618ed2ed4a04b9b9ae9ceb5b55c4010": {
          "model_module": "@jupyter-widgets/base",
          "model_name": "LayoutModel",
          "state": {
            "_view_name": "LayoutView",
            "grid_template_rows": null,
            "right": null,
            "justify_content": null,
            "_view_module": "@jupyter-widgets/base",
            "overflow": null,
            "_model_module_version": "1.2.0",
            "_view_count": null,
            "flex_flow": null,
            "width": null,
            "min_width": null,
            "border": null,
            "align_items": null,
            "bottom": null,
            "_model_module": "@jupyter-widgets/base",
            "top": null,
            "grid_column": null,
            "overflow_y": null,
            "overflow_x": null,
            "grid_auto_flow": null,
            "grid_area": null,
            "grid_template_columns": null,
            "flex": null,
            "_model_name": "LayoutModel",
            "justify_items": null,
            "grid_row": null,
            "max_height": null,
            "align_content": null,
            "visibility": null,
            "align_self": null,
            "height": null,
            "min_height": null,
            "padding": null,
            "grid_auto_rows": null,
            "grid_gap": null,
            "max_width": null,
            "order": null,
            "_view_module_version": "1.2.0",
            "grid_template_areas": null,
            "object_position": null,
            "object_fit": null,
            "grid_auto_columns": null,
            "margin": null,
            "display": null,
            "left": null
          }
        },
        "fcba9fcdd518449bab531a05b27f2a19": {
          "model_module": "@jupyter-widgets/controls",
          "model_name": "FloatSliderModel",
          "state": {
            "_view_name": "FloatSliderView",
            "style": "IPY_MODEL_ef0d0ed86b6e4860add5489ea8f19c34",
            "_dom_classes": [],
            "description": "b",
            "step": 0.1,
            "_model_name": "FloatSliderModel",
            "orientation": "horizontal",
            "max": 0.9,
            "_view_module": "@jupyter-widgets/controls",
            "_model_module_version": "1.5.0",
            "value": 0.3,
            "_view_count": null,
            "disabled": false,
            "_view_module_version": "1.5.0",
            "min": 0,
            "continuous_update": true,
            "readout_format": ".2f",
            "description_tooltip": null,
            "readout": true,
            "_model_module": "@jupyter-widgets/controls",
            "layout": "IPY_MODEL_4b6c6fcea96c4276883c9009715c4f70"
          }
        },
        "b3985efb47f4434f818e300afd8ede94": {
          "model_module": "@jupyter-widgets/output",
          "model_name": "OutputModel",
          "state": {
            "_view_name": "OutputView",
            "msg_id": "",
            "_dom_classes": [],
            "_model_name": "OutputModel",
            "outputs": [
              {
                "output_type": "display_data",
                "metadata": {
                  "tags": [],
                  "needs_background": "light"
                },
                "image/png": "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\n",
                "text/plain": "<Figure size 864x432 with 1 Axes>"
              }
            ],
            "_view_module": "@jupyter-widgets/output",
            "_model_module_version": "1.0.0",
            "_view_count": null,
            "_view_module_version": "1.0.0",
            "layout": "IPY_MODEL_67f652b4fe2c4c31a0a6290912def8bb",
            "_model_module": "@jupyter-widgets/output"
          }
        },
        "ef0d0ed86b6e4860add5489ea8f19c34": {
          "model_module": "@jupyter-widgets/controls",
          "model_name": "SliderStyleModel",
          "state": {
            "_view_name": "StyleView",
            "handle_color": null,
            "_model_name": "SliderStyleModel",
            "description_width": "",
            "_view_module": "@jupyter-widgets/base",
            "_model_module_version": "1.5.0",
            "_view_count": null,
            "_view_module_version": "1.2.0",
            "_model_module": "@jupyter-widgets/controls"
          }
        },
        "4b6c6fcea96c4276883c9009715c4f70": {
          "model_module": "@jupyter-widgets/base",
          "model_name": "LayoutModel",
          "state": {
            "_view_name": "LayoutView",
            "grid_template_rows": null,
            "right": null,
            "justify_content": null,
            "_view_module": "@jupyter-widgets/base",
            "overflow": null,
            "_model_module_version": "1.2.0",
            "_view_count": null,
            "flex_flow": null,
            "width": null,
            "min_width": null,
            "border": null,
            "align_items": null,
            "bottom": null,
            "_model_module": "@jupyter-widgets/base",
            "top": null,
            "grid_column": null,
            "overflow_y": null,
            "overflow_x": null,
            "grid_auto_flow": null,
            "grid_area": null,
            "grid_template_columns": null,
            "flex": null,
            "_model_name": "LayoutModel",
            "justify_items": null,
            "grid_row": null,
            "max_height": null,
            "align_content": null,
            "visibility": null,
            "align_self": null,
            "height": null,
            "min_height": null,
            "padding": null,
            "grid_auto_rows": null,
            "grid_gap": null,
            "max_width": null,
            "order": null,
            "_view_module_version": "1.2.0",
            "grid_template_areas": null,
            "object_position": null,
            "object_fit": null,
            "grid_auto_columns": null,
            "margin": null,
            "display": null,
            "left": null
          }
        },
        "67f652b4fe2c4c31a0a6290912def8bb": {
          "model_module": "@jupyter-widgets/base",
          "model_name": "LayoutModel",
          "state": {
            "_view_name": "LayoutView",
            "grid_template_rows": null,
            "right": null,
            "justify_content": null,
            "_view_module": "@jupyter-widgets/base",
            "overflow": null,
            "_model_module_version": "1.2.0",
            "_view_count": null,
            "flex_flow": null,
            "width": null,
            "min_width": null,
            "border": null,
            "align_items": null,
            "bottom": null,
            "_model_module": "@jupyter-widgets/base",
            "top": null,
            "grid_column": null,
            "overflow_y": null,
            "overflow_x": null,
            "grid_auto_flow": null,
            "grid_area": null,
            "grid_template_columns": null,
            "flex": null,
            "_model_name": "LayoutModel",
            "justify_items": null,
            "grid_row": null,
            "max_height": null,
            "align_content": null,
            "visibility": null,
            "align_self": null,
            "height": null,
            "min_height": null,
            "padding": null,
            "grid_auto_rows": null,
            "grid_gap": null,
            "max_width": null,
            "order": null,
            "_view_module_version": "1.2.0",
            "grid_template_areas": null,
            "object_position": null,
            "object_fit": null,
            "grid_auto_columns": null,
            "margin": null,
            "display": null,
            "left": null
          }
        },
        "627aac6bb04c49c7b904bc15f2a3e2fd": {
          "model_module": "@jupyter-widgets/controls",
          "model_name": "VBoxModel",
          "state": {
            "_view_name": "VBoxView",
            "_dom_classes": [
              "widget-interact"
            ],
            "_model_name": "VBoxModel",
            "_view_module": "@jupyter-widgets/controls",
            "_model_module_version": "1.5.0",
            "_view_count": null,
            "_view_module_version": "1.5.0",
            "box_style": "",
            "layout": "IPY_MODEL_20fe5d39ec99479ea25fd7e03a2aecb0",
            "_model_module": "@jupyter-widgets/controls",
            "children": [
              "IPY_MODEL_069c232312894960a8dfac99edebe7d8",
              "IPY_MODEL_32c32a7b32d448ae92e09df8ea279ae8",
              "IPY_MODEL_a348c7c41f7c4597ac1eabef29f8c975"
            ]
          }
        },
        "20fe5d39ec99479ea25fd7e03a2aecb0": {
          "model_module": "@jupyter-widgets/base",
          "model_name": "LayoutModel",
          "state": {
            "_view_name": "LayoutView",
            "grid_template_rows": null,
            "right": null,
            "justify_content": null,
            "_view_module": "@jupyter-widgets/base",
            "overflow": null,
            "_model_module_version": "1.2.0",
            "_view_count": null,
            "flex_flow": null,
            "width": null,
            "min_width": null,
            "border": null,
            "align_items": null,
            "bottom": null,
            "_model_module": "@jupyter-widgets/base",
            "top": null,
            "grid_column": null,
            "overflow_y": null,
            "overflow_x": null,
            "grid_auto_flow": null,
            "grid_area": null,
            "grid_template_columns": null,
            "flex": null,
            "_model_name": "LayoutModel",
            "justify_items": null,
            "grid_row": null,
            "max_height": null,
            "align_content": null,
            "visibility": null,
            "align_self": null,
            "height": null,
            "min_height": null,
            "padding": null,
            "grid_auto_rows": null,
            "grid_gap": null,
            "max_width": null,
            "order": null,
            "_view_module_version": "1.2.0",
            "grid_template_areas": null,
            "object_position": null,
            "object_fit": null,
            "grid_auto_columns": null,
            "margin": null,
            "display": null,
            "left": null
          }
        },
        "069c232312894960a8dfac99edebe7d8": {
          "model_module": "@jupyter-widgets/controls",
          "model_name": "FloatSliderModel",
          "state": {
            "_view_name": "FloatSliderView",
            "style": "IPY_MODEL_fff023bea8d04b8d81645bc98a7c6c91",
            "_dom_classes": [],
            "description": "w",
            "step": 0.04999,
            "_model_name": "FloatSliderModel",
            "orientation": "horizontal",
            "max": 2,
            "_view_module": "@jupyter-widgets/controls",
            "_model_module_version": "1.5.0",
            "value": 1.89962,
            "_view_count": null,
            "disabled": false,
            "_view_module_version": "1.5.0",
            "min": 0,
            "continuous_update": true,
            "readout_format": ".2f",
            "description_tooltip": null,
            "readout": true,
            "_model_module": "@jupyter-widgets/controls",
            "layout": "IPY_MODEL_9debb0bf58d540a3824a7bd44b3033e8"
          }
        },
        "32c32a7b32d448ae92e09df8ea279ae8": {
          "model_module": "@jupyter-widgets/controls",
          "model_name": "FloatSliderModel",
          "state": {
            "_view_name": "FloatSliderView",
            "style": "IPY_MODEL_796e1cf5b0704af6bf3adf6c670fbdaf",
            "_dom_classes": [],
            "description": "b",
            "step": 0.01,
            "_model_name": "FloatSliderModel",
            "orientation": "horizontal",
            "max": 0.5,
            "_view_module": "@jupyter-widgets/controls",
            "_model_module_version": "1.5.0",
            "value": 0.04,
            "_view_count": null,
            "disabled": false,
            "_view_module_version": "1.5.0",
            "min": 0.01,
            "continuous_update": true,
            "readout_format": ".2f",
            "description_tooltip": null,
            "readout": true,
            "_model_module": "@jupyter-widgets/controls",
            "layout": "IPY_MODEL_1ce2081de0ab4b9a9edab77b04c167d8"
          }
        },
        "a348c7c41f7c4597ac1eabef29f8c975": {
          "model_module": "@jupyter-widgets/output",
          "model_name": "OutputModel",
          "state": {
            "_view_name": "OutputView",
            "msg_id": "",
            "_dom_classes": [],
            "_model_name": "OutputModel",
            "outputs": [
              {
                "output_type": "stream",
                "metadata": {
                  "tags": []
                },
                "text": "1.89962\n",
                "stream": "stdout"
              },
              {
                "output_type": "display_data",
                "metadata": {
                  "tags": [],
                  "needs_background": "light"
                },
                "image/png": "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\n",
                "text/plain": "<Figure size 1296x432 with 3 Axes>"
              }
            ],
            "_view_module": "@jupyter-widgets/output",
            "_model_module_version": "1.0.0",
            "_view_count": null,
            "_view_module_version": "1.0.0",
            "layout": "IPY_MODEL_ab1435c710554e61bec19629a87170f2",
            "_model_module": "@jupyter-widgets/output"
          }
        },
        "fff023bea8d04b8d81645bc98a7c6c91": {
          "model_module": "@jupyter-widgets/controls",
          "model_name": "SliderStyleModel",
          "state": {
            "_view_name": "StyleView",
            "handle_color": null,
            "_model_name": "SliderStyleModel",
            "description_width": "",
            "_view_module": "@jupyter-widgets/base",
            "_model_module_version": "1.5.0",
            "_view_count": null,
            "_view_module_version": "1.2.0",
            "_model_module": "@jupyter-widgets/controls"
          }
        },
        "9debb0bf58d540a3824a7bd44b3033e8": {
          "model_module": "@jupyter-widgets/base",
          "model_name": "LayoutModel",
          "state": {
            "_view_name": "LayoutView",
            "grid_template_rows": null,
            "right": null,
            "justify_content": null,
            "_view_module": "@jupyter-widgets/base",
            "overflow": null,
            "_model_module_version": "1.2.0",
            "_view_count": null,
            "flex_flow": null,
            "width": null,
            "min_width": null,
            "border": null,
            "align_items": null,
            "bottom": null,
            "_model_module": "@jupyter-widgets/base",
            "top": null,
            "grid_column": null,
            "overflow_y": null,
            "overflow_x": null,
            "grid_auto_flow": null,
            "grid_area": null,
            "grid_template_columns": null,
            "flex": null,
            "_model_name": "LayoutModel",
            "justify_items": null,
            "grid_row": null,
            "max_height": null,
            "align_content": null,
            "visibility": null,
            "align_self": null,
            "height": null,
            "min_height": null,
            "padding": null,
            "grid_auto_rows": null,
            "grid_gap": null,
            "max_width": null,
            "order": null,
            "_view_module_version": "1.2.0",
            "grid_template_areas": null,
            "object_position": null,
            "object_fit": null,
            "grid_auto_columns": null,
            "margin": null,
            "display": null,
            "left": null
          }
        },
        "796e1cf5b0704af6bf3adf6c670fbdaf": {
          "model_module": "@jupyter-widgets/controls",
          "model_name": "SliderStyleModel",
          "state": {
            "_view_name": "StyleView",
            "handle_color": null,
            "_model_name": "SliderStyleModel",
            "description_width": "",
            "_view_module": "@jupyter-widgets/base",
            "_model_module_version": "1.5.0",
            "_view_count": null,
            "_view_module_version": "1.2.0",
            "_model_module": "@jupyter-widgets/controls"
          }
        },
        "1ce2081de0ab4b9a9edab77b04c167d8": {
          "model_module": "@jupyter-widgets/base",
          "model_name": "LayoutModel",
          "state": {
            "_view_name": "LayoutView",
            "grid_template_rows": null,
            "right": null,
            "justify_content": null,
            "_view_module": "@jupyter-widgets/base",
            "overflow": null,
            "_model_module_version": "1.2.0",
            "_view_count": null,
            "flex_flow": null,
            "width": null,
            "min_width": null,
            "border": null,
            "align_items": null,
            "bottom": null,
            "_model_module": "@jupyter-widgets/base",
            "top": null,
            "grid_column": null,
            "overflow_y": null,
            "overflow_x": null,
            "grid_auto_flow": null,
            "grid_area": null,
            "grid_template_columns": null,
            "flex": null,
            "_model_name": "LayoutModel",
            "justify_items": null,
            "grid_row": null,
            "max_height": null,
            "align_content": null,
            "visibility": null,
            "align_self": null,
            "height": null,
            "min_height": null,
            "padding": null,
            "grid_auto_rows": null,
            "grid_gap": null,
            "max_width": null,
            "order": null,
            "_view_module_version": "1.2.0",
            "grid_template_areas": null,
            "object_position": null,
            "object_fit": null,
            "grid_auto_columns": null,
            "margin": null,
            "display": null,
            "left": null
          }
        },
        "ab1435c710554e61bec19629a87170f2": {
          "model_module": "@jupyter-widgets/base",
          "model_name": "LayoutModel",
          "state": {
            "_view_name": "LayoutView",
            "grid_template_rows": null,
            "right": null,
            "justify_content": null,
            "_view_module": "@jupyter-widgets/base",
            "overflow": null,
            "_model_module_version": "1.2.0",
            "_view_count": null,
            "flex_flow": null,
            "width": null,
            "min_width": null,
            "border": null,
            "align_items": null,
            "bottom": null,
            "_model_module": "@jupyter-widgets/base",
            "top": null,
            "grid_column": null,
            "overflow_y": null,
            "overflow_x": null,
            "grid_auto_flow": null,
            "grid_area": null,
            "grid_template_columns": null,
            "flex": null,
            "_model_name": "LayoutModel",
            "justify_items": null,
            "grid_row": null,
            "max_height": null,
            "align_content": null,
            "visibility": null,
            "align_self": null,
            "height": null,
            "min_height": null,
            "padding": null,
            "grid_auto_rows": null,
            "grid_gap": null,
            "max_width": null,
            "order": null,
            "_view_module_version": "1.2.0",
            "grid_template_areas": null,
            "object_position": null,
            "object_fit": null,
            "grid_auto_columns": null,
            "margin": null,
            "display": null,
            "left": null
          }
        },
        "abfa4338eba1406e85d256a15bd8be6e": {
          "model_module": "@jupyter-widgets/controls",
          "model_name": "VBoxModel",
          "state": {
            "_view_name": "VBoxView",
            "_dom_classes": [
              "widget-interact"
            ],
            "_model_name": "VBoxModel",
            "_view_module": "@jupyter-widgets/controls",
            "_model_module_version": "1.5.0",
            "_view_count": null,
            "_view_module_version": "1.5.0",
            "box_style": "",
            "layout": "IPY_MODEL_d89f60f9502c46d1a86753a0e6c5ed77",
            "_model_module": "@jupyter-widgets/controls",
            "children": [
              "IPY_MODEL_8af3482d05f541a0a73008659da5af72",
              "IPY_MODEL_f97bc52030624030846a9660ff1af41a"
            ]
          }
        },
        "d89f60f9502c46d1a86753a0e6c5ed77": {
          "model_module": "@jupyter-widgets/base",
          "model_name": "LayoutModel",
          "state": {
            "_view_name": "LayoutView",
            "grid_template_rows": null,
            "right": null,
            "justify_content": null,
            "_view_module": "@jupyter-widgets/base",
            "overflow": null,
            "_model_module_version": "1.2.0",
            "_view_count": null,
            "flex_flow": null,
            "width": null,
            "min_width": null,
            "border": null,
            "align_items": null,
            "bottom": null,
            "_model_module": "@jupyter-widgets/base",
            "top": null,
            "grid_column": null,
            "overflow_y": null,
            "overflow_x": null,
            "grid_auto_flow": null,
            "grid_area": null,
            "grid_template_columns": null,
            "flex": null,
            "_model_name": "LayoutModel",
            "justify_items": null,
            "grid_row": null,
            "max_height": null,
            "align_content": null,
            "visibility": null,
            "align_self": null,
            "height": null,
            "min_height": null,
            "padding": null,
            "grid_auto_rows": null,
            "grid_gap": null,
            "max_width": null,
            "order": null,
            "_view_module_version": "1.2.0",
            "grid_template_areas": null,
            "object_position": null,
            "object_fit": null,
            "grid_auto_columns": null,
            "margin": null,
            "display": null,
            "left": null
          }
        },
        "8af3482d05f541a0a73008659da5af72": {
          "model_module": "@jupyter-widgets/controls",
          "model_name": "FloatSliderModel",
          "state": {
            "_view_name": "FloatSliderView",
            "style": "IPY_MODEL_750aef69a7a9472698a6f013d1230720",
            "_dom_classes": [],
            "description": "E",
            "step": 0.01,
            "_model_name": "FloatSliderModel",
            "orientation": "horizontal",
            "max": 0,
            "_view_module": "@jupyter-widgets/controls",
            "_model_module_version": "1.5.0",
            "value": -1.17,
            "_view_count": null,
            "disabled": false,
            "_view_module_version": "1.5.0",
            "min": -3.5,
            "continuous_update": true,
            "readout_format": ".2f",
            "description_tooltip": null,
            "readout": true,
            "_model_module": "@jupyter-widgets/controls",
            "layout": "IPY_MODEL_098efc548191441da0f565d56b36e8f3"
          }
        },
        "f97bc52030624030846a9660ff1af41a": {
          "model_module": "@jupyter-widgets/output",
          "model_name": "OutputModel",
          "state": {
            "_view_name": "OutputView",
            "msg_id": "",
            "_dom_classes": [],
            "_model_name": "OutputModel",
            "outputs": [
              {
                "output_type": "display_data",
                "metadata": {
                  "tags": [],
                  "needs_background": "light"
                },
                "image/png": "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\n",
                "text/plain": "<Figure size 1152x576 with 1 Axes>"
              }
            ],
            "_view_module": "@jupyter-widgets/output",
            "_model_module_version": "1.0.0",
            "_view_count": null,
            "_view_module_version": "1.0.0",
            "layout": "IPY_MODEL_be5917dbc7f64daf99b7b7b4b09453b3",
            "_model_module": "@jupyter-widgets/output"
          }
        },
        "750aef69a7a9472698a6f013d1230720": {
          "model_module": "@jupyter-widgets/controls",
          "model_name": "SliderStyleModel",
          "state": {
            "_view_name": "StyleView",
            "handle_color": null,
            "_model_name": "SliderStyleModel",
            "description_width": "",
            "_view_module": "@jupyter-widgets/base",
            "_model_module_version": "1.5.0",
            "_view_count": null,
            "_view_module_version": "1.2.0",
            "_model_module": "@jupyter-widgets/controls"
          }
        },
        "098efc548191441da0f565d56b36e8f3": {
          "model_module": "@jupyter-widgets/base",
          "model_name": "LayoutModel",
          "state": {
            "_view_name": "LayoutView",
            "grid_template_rows": null,
            "right": null,
            "justify_content": null,
            "_view_module": "@jupyter-widgets/base",
            "overflow": null,
            "_model_module_version": "1.2.0",
            "_view_count": null,
            "flex_flow": null,
            "width": null,
            "min_width": null,
            "border": null,
            "align_items": null,
            "bottom": null,
            "_model_module": "@jupyter-widgets/base",
            "top": null,
            "grid_column": null,
            "overflow_y": null,
            "overflow_x": null,
            "grid_auto_flow": null,
            "grid_area": null,
            "grid_template_columns": null,
            "flex": null,
            "_model_name": "LayoutModel",
            "justify_items": null,
            "grid_row": null,
            "max_height": null,
            "align_content": null,
            "visibility": null,
            "align_self": null,
            "height": null,
            "min_height": null,
            "padding": null,
            "grid_auto_rows": null,
            "grid_gap": null,
            "max_width": null,
            "order": null,
            "_view_module_version": "1.2.0",
            "grid_template_areas": null,
            "object_position": null,
            "object_fit": null,
            "grid_auto_columns": null,
            "margin": null,
            "display": null,
            "left": null
          }
        },
        "be5917dbc7f64daf99b7b7b4b09453b3": {
          "model_module": "@jupyter-widgets/base",
          "model_name": "LayoutModel",
          "state": {
            "_view_name": "LayoutView",
            "grid_template_rows": null,
            "right": null,
            "justify_content": null,
            "_view_module": "@jupyter-widgets/base",
            "overflow": null,
            "_model_module_version": "1.2.0",
            "_view_count": null,
            "flex_flow": null,
            "width": null,
            "min_width": null,
            "border": null,
            "align_items": null,
            "bottom": null,
            "_model_module": "@jupyter-widgets/base",
            "top": null,
            "grid_column": null,
            "overflow_y": null,
            "overflow_x": null,
            "grid_auto_flow": null,
            "grid_area": null,
            "grid_template_columns": null,
            "flex": null,
            "_model_name": "LayoutModel",
            "justify_items": null,
            "grid_row": null,
            "max_height": null,
            "align_content": null,
            "visibility": null,
            "align_self": null,
            "height": null,
            "min_height": null,
            "padding": null,
            "grid_auto_rows": null,
            "grid_gap": null,
            "max_width": null,
            "order": null,
            "_view_module_version": "1.2.0",
            "grid_template_areas": null,
            "object_position": null,
            "object_fit": null,
            "grid_auto_columns": null,
            "margin": null,
            "display": null,
            "left": null
          }
        }
      }
    }
  },
  "cells": [
    {
      "cell_type": "markdown",
      "metadata": {
        "id": "view-in-github",
        "colab_type": "text"
      },
      "source": [
        "<a href=\"https://colab.research.google.com/github/B-Lorentz/physics-bsc-visual/blob/main/3_Exact_solutions.ipynb\" target=\"_parent\"><img src=\"https://colab.research.google.com/assets/colab-badge.svg\" alt=\"Open In Colab\"/></a>"
      ]
    },
    {
      "cell_type": "code",
      "metadata": {
        "id": "4bE9majOynvZ"
      },
      "source": [
        "\n",
        "import numpy as np\n",
        "from matplotlib import pyplot as plt\n",
        "from jax import numpy as jnp\n",
        "from jax import grad, vmap, jit, random, lax, ops\n",
        "from matplotlib.widgets import Slider, Button, RadioButtons\n",
        "from ipywidgets import interact, widgets\n",
        "from sympy import *\n",
        "init_printing()"
      ],
      "execution_count": 22,
      "outputs": []
    },
    {
      "cell_type": "markdown",
      "metadata": {
        "id": "C2jR6k--0jwi"
      },
      "source": [
        "# Problems with exact solutions"
      ]
    },
    {
      "cell_type": "markdown",
      "metadata": {
        "id": "0irAMEmB0p2-"
      },
      "source": [
        "### Damped harmonic oscillator\n",
        "\n",
        "$$\\ddot{x} + 2\\beta\\dot{x} + \\omega_0^2 x=0$$\n",
        "\n",
        "$$x(t) = A(t)\\sin(\\omega t + \\phi)$$\n"
      ]
    },
    {
      "cell_type": "code",
      "metadata": {
        "id": "UHdJQ0X50oiY",
        "outputId": "55d916be-2001-46e5-fa17-f4cf873e4d7b",
        "colab": {
          "base_uri": "https://localhost:8080/",
          "height": 58
        }
      },
      "source": [
        "x, t, beta, w, w_0 = symbols(\"x t beta omega omega_0\",real=True)\n",
        "A = Function(\"A\")(t)\n",
        "xa = A*sin(w*t)\n",
        "eq = (diff(diff(xa, t), t) + 2*beta*diff(xa, t) + w_0*xa).expand()\n",
        "eq.coeff(sin(w*t)), eq.coeff(cos(w*t))"
      ],
      "execution_count": 23,
      "outputs": [
        {
          "output_type": "execute_result",
          "data": {
            "image/png": "[encoded data removed]",
            "text/latex": "$\\displaystyle \\left( 2 \\beta \\frac{d}{d t} A{\\left(t \\right)} - \\omega^{2} A{\\left(t \\right)} + \\omega_{0} A{\\left(t \\right)} + \\frac{d^{2}}{d t^{2}} A{\\left(t \\right)}, \\  2 \\beta \\omega A{\\left(t \\right)} + 2 \\omega \\frac{d}{d t} A{\\left(t \\right)}\\right)$",
            "text/plain": [
              "⎛                                     2                                 ⎞\n",
              "⎜    d           2                   d                          d       ⎟\n",
              "⎜2⋅β⋅──(A(t)) - ω ⋅A(t) + ω₀⋅A(t) + ───(A(t)), 2⋅β⋅ω⋅A(t) + 2⋅ω⋅──(A(t))⎟\n",
              "⎜    dt                               2                         dt      ⎟\n",
              "⎝                                   dt                                  ⎠"
            ]
          },
          "metadata": {
            "tags": []
          },
          "execution_count": 23
        }
      ]
    },
    {
      "cell_type": "markdown",
      "metadata": {
        "id": "uYQnB_rt25G_"
      },
      "source": [
        "$$[\\ddot{A} + 2\\beta \\dot{A} + (\\omega_0^2 - \\omega^2)A]\\sin(\\omega t +\\phi) = 0$$\n",
        "\n",
        "$$[2\\omega(\\dot{A} + \\beta A)]\\cos(\\omega t +\\phi) = 0$$\n",
        "\n",
        "$$A(t) = A_0 e^{-\\beta t}$$\n",
        "\n",
        "$$\\omega = \\sqrt{\\omega_0^2 - \\beta^2}$$"
      ]
    },
    {
      "cell_type": "code",
      "metadata": {
        "id": "LjKBzXK32Vho",
        "outputId": "df2e33c9-c0db-41bb-f696-28862b039378",
        "colab": {
          "base_uri": "https://localhost:8080/",
          "height": 441,
          "referenced_widgets": [
            "af58df7b59214aebbc1125cab6dc2fb8",
            "d618ed2ed4a04b9b9ae9ceb5b55c4010",
            "fcba9fcdd518449bab531a05b27f2a19",
            "b3985efb47f4434f818e300afd8ede94",
            "ef0d0ed86b6e4860add5489ea8f19c34",
            "4b6c6fcea96c4276883c9009715c4f70",
            "67f652b4fe2c4c31a0a6290912def8bb"
          ]
        }
      },
      "source": [
        "def plot(b):\n",
        "  xaf =  lambda t: jnp.exp(-b*t)*jnp.sin(jnp.sqrt(1-b**2)*t)\n",
        "  ts = np.linspace(0, 20, 1000)\n",
        "  plt.figure(figsize=(12, 6))\n",
        "  plt.plot(ts, xaf(ts))\n",
        "  plt.plot(ts, np.zeros_like(ts), \"black\")\n",
        "  plt.grid()\n",
        "  plt.xlabel(\"t\", fontsize=14)\n",
        "  plt.ylabel(\"$x/A_0$\", fontsize=14)\n",
        "\n",
        "interact(plot, b=widgets.FloatSlider(value=0.5, min=0.0, max=0.9))"
      ],
      "execution_count": 34,
      "outputs": [
        {
          "output_type": "display_data",
          "data": {
            "application/vnd.jupyter.widget-view+json": {
              "model_id": "af58df7b59214aebbc1125cab6dc2fb8",
              "version_minor": 0,
              "version_major": 2
            },
            "text/plain": [
              "interactive(children=(FloatSlider(value=0.5, description='b', max=0.9), Output()), _dom_classes=('widget-inter…"
            ]
          },
          "metadata": {
            "tags": []
          }
        },
        {
          "output_type": "execute_result",
          "data": {
            "text/plain": [
              "<function __main__.plot>"
            ]
          },
          "metadata": {
            "tags": []
          },
          "execution_count": 34
        }
      ]
    },
    {
      "cell_type": "markdown",
      "metadata": {
        "id": "hO6LPZ2O54qa"
      },
      "source": [
        "## Driven oscillator\n",
        "\n",
        "$$\\ddot{x} + 2\\beta\\dot{x} + \\omega_0^2 x= a_0 \\sin(\\omega t)$$\n",
        "\n",
        "$$x(t) = A\\sin(\\omega t + \\phi)$$"
      ]
    },
    {
      "cell_type": "markdown",
      "metadata": {
        "id": "O1MCfXsz6UEm"
      },
      "source": [
        "$$A = \\frac{a_0}{\\sqrt{(\\omega_0^2 - \\omega^2)^2 + 4\\beta^2 \\omega^2}}$$\n",
        "\n",
        "$$\\tan(\\phi) = \\frac{2\\beta\\omega}{\\omega^2 - \\omega_0^2}$$"
      ]
    },
    {
      "cell_type": "code",
      "metadata": {
        "id": "Q9JdI-f04wyL",
        "outputId": "524691ae-ceb4-43c9-eed4-1146794f6f0f",
        "colab": {
          "base_uri": "https://localhost:8080/",
          "height": 473,
          "referenced_widgets": [
            "627aac6bb04c49c7b904bc15f2a3e2fd",
            "20fe5d39ec99479ea25fd7e03a2aecb0",
            "069c232312894960a8dfac99edebe7d8",
            "32c32a7b32d448ae92e09df8ea279ae8",
            "a348c7c41f7c4597ac1eabef29f8c975",
            "fff023bea8d04b8d81645bc98a7c6c91",
            "9debb0bf58d540a3824a7bd44b3033e8",
            "796e1cf5b0704af6bf3adf6c670fbdaf",
            "1ce2081de0ab4b9a9edab77b04c167d8",
            "ab1435c710554e61bec19629a87170f2"
          ]
        }
      },
      "source": [
        " def plot1(w, b):\n",
        "  print(w)\n",
        "  w_0 = 1.0 \n",
        "  dfun =lambda w: np.arctan(2*b*w/(w**2-w_0**2))\n",
        "  Afun = lambda w: 1/jnp.sqrt((w**2-w_0**2)**2 + 4*b**2*w**2)\n",
        "  xaf =  lambda t: jnp.sin(w*t + dfun(w))*Afun(w)\n",
        "\n",
        "  ts = np.linspace(0, 40, 1000)\n",
        "  plt.figure(figsize=(18, 6))\n",
        "  plt.subplot(131)\n",
        "  plt.plot(ts, np.sin(w*ts), label=\"a/a_0\")\n",
        "  plt.plot(ts, xaf(ts), label=\"x(t)/a_0\")\n",
        "  plt.plot(ts, np.zeros_like(ts), \"black\")\n",
        "  plt.grid()\n",
        "  plt.xlabel(\"t\", fontsize=14)\n",
        "  plt.legend(fontsize=14)\n",
        "  plt.subplot(132)\n",
        "  ws = np.linspace(0.1, 2.0, 200)\n",
        "  plt.plot(ws, Afun(ws))\n",
        "  plt.plot([w], Afun(w), \"rx\")\n",
        "  plt.xlabel(\"$\\omega$\", fontsize=14)\n",
        "  plt.ylabel(\"$A$\", fontsize=14)\n",
        "  plt.grid()\n",
        "  plt.subplot(133)\n",
        "  ws = np.linspace(0.0, 2.0, 200)\n",
        "  plt.plot(ws, dfun(ws))\n",
        "  plt.plot([w], dfun(w), \"rx\")\n",
        "  plt.xlabel(\"$\\omega$\", fontsize=14)\n",
        "  plt.ylabel(\"$\\phi$\", fontsize=14)\n",
        "  plt.grid()\n",
        "\n",
        "interact(plot1, b=widgets.FloatSlider(value=0.25, min=0.01, max=0.5, step=0.01), w=widgets.FloatSlider(value=0.1, min=0.0, max=2.0, step=0.04999))\n",
        "None"
      ],
      "execution_count": 50,
      "outputs": [
        {
          "output_type": "display_data",
          "data": {
            "application/vnd.jupyter.widget-view+json": {
              "model_id": "627aac6bb04c49c7b904bc15f2a3e2fd",
              "version_minor": 0,
              "version_major": 2
            },
            "text/plain": [
              "interactive(children=(FloatSlider(value=0.1, description='w', max=2.0, step=0.04999), FloatSlider(value=0.25, …"
            ]
          },
          "metadata": {
            "tags": []
          }
        }
      ]
    },
    {
      "cell_type": "code",
      "metadata": {
        "id": "pOxUuds57vTM"
      },
      "source": [
        ""
      ],
      "execution_count": null,
      "outputs": []
    },
    {
      "cell_type": "markdown",
      "metadata": {
        "id": "XNMua74YARN8"
      },
      "source": [
        "# Linear chain\n",
        "\n",
        "$$\\ddot{u}_i = \\omega_0^2(u_{i+1} + u_{i-1} - 2 u_i)$$\n",
        "\n",
        "Written as matrix equation: \n",
        "\n",
        "$$\\ddot{u} = \\mathbf{D} u$$\n",
        "\n",
        "$$u_i(t) = A(q)e^{jiqa}e^{j\\omega t}$$\n",
        "\n",
        "Eigenvalue problem. Periodic boundary condition: $$A_0 = 1 = A_N = e^{jqaN} \\implies q = k\\cdot\\frac{2 \\pi}{a N}$$\n",
        "\n",
        "$$\\omega^2 = 2\\omega_0^2|\\sin(q a/2)|$$"
      ]
    },
    {
      "cell_type": "code",
      "metadata": {
        "id": "mZ_uoxh3ATe-",
        "outputId": "fa8335b4-68df-477c-a391-b0e0d080bd4f",
        "colab": {
          "base_uri": "https://localhost:8080/",
          "height": 611
        }
      },
      "source": [
        "def plot2():\n",
        "  plt.figure(figsize=(10,10))\n",
        "  plt.grid()\n",
        "  N = 100\n",
        "  qs = np.arange(-50, 50)*2*np.pi/N\n",
        "  plt.plot(qs, 2*np.abs(np.sin(qs/2)))\n",
        "  plt.xlabel(r\"$q\\cdot a$\", fontsize=14)\n",
        "  plt.ylabel(r\"$\\frac{\\omega}{\\omega_0}$\", fontsize=14)\n",
        "plot2()"
      ],
      "execution_count": 55,
      "outputs": [
        {
          "output_type": "display_data",
          "data": {
            "image/png": "[encoded data removed]",
            "text/plain": [
              "<Figure size 720x720 with 1 Axes>"
            ]
          },
          "metadata": {
            "tags": [],
            "needs_background": "light"
          }
        }
      ]
    },
    {
      "cell_type": "code",
      "metadata": {
        "id": "Q7VVJOQzDk_o"
      },
      "source": [
        ""
      ],
      "execution_count": null,
      "outputs": []
    },
    {
      "cell_type": "markdown",
      "metadata": {
        "id": "Rl2bQMVaEFDz"
      },
      "source": [
        "## Schrödinger equation in finite square potential well"
      ]
    },
    {
      "cell_type": "markdown",
      "metadata": {
        "id": "2-d7Ufs3ENCt"
      },
      "source": [
        "$$H\\psi = E\\psi$$\n",
        "\n",
        "$$\\frac{-\\hbar^2}{2 m}\\psi'' - V(x)=-|E|\\psi$$\n",
        "\n",
        "Three equations for the three regions. $\\psi$ and $\\psi'$ must match on the boundary. This gives a transcendent equation"
      ]
    },
    {
      "cell_type": "code",
      "metadata": {
        "id": "qUs1nrUQELiQ",
        "outputId": "3ae8ef3a-57fe-4cd1-b344-11517f99a77a",
        "colab": {
          "base_uri": "https://localhost:8080/",
          "height": 550,
          "referenced_widgets": [
            "abfa4338eba1406e85d256a15bd8be6e",
            "d89f60f9502c46d1a86753a0e6c5ed77",
            "8af3482d05f541a0a73008659da5af72",
            "f97bc52030624030846a9660ff1af41a",
            "750aef69a7a9472698a6f013d1230720",
            "098efc548191441da0f565d56b36e8f3",
            "be5917dbc7f64daf99b7b7b4b09453b3"
          ]
        }
      },
      "source": [
        "def plot3(E):\n",
        "  plt.figure(figsize=(16, 8))\n",
        "  plt.subplot(121)\n",
        "  plt.xlabel('x', fontsize=14)\n",
        "  xs = np.linspace(-1.0, 1.0, 200)\n",
        "  V = lambda x: -1.0*(np.abs(x)<0.5)\n",
        "  plt.plot(xs, V(xs))\n",
        "  kap = np.sqrt(2*np.abs(E))\n",
        "  k = np.sqrt(-2*(-1 - np.abs(E)))\n",
        "  A = 1.0\n",
        "  D = A*np.exp(-kap*0.5)/np.cos(k*0.5)\n",
        "  n1, n2 = xs<-0.5, xs>0.5 \n",
        "  plt.plot(xs, A*np.exp(kap*xs)*n1 + D*np.cos(k*xs)*((~n1) & (~n2)) + A*np.exp(-kap*xs)*n2)\n",
        "  plt.grid()\n",
        "\n",
        "\n",
        "interact(plot3, E = widgets.FloatSlider(-0.2, min=-3.5, max=-0.0, step=0.01))"
      ],
      "execution_count": 74,
      "outputs": [
        {
          "output_type": "display_data",
          "data": {
            "application/vnd.jupyter.widget-view+json": {
              "model_id": "abfa4338eba1406e85d256a15bd8be6e",
              "version_minor": 0,
              "version_major": 2
            },
            "text/plain": [
              "interactive(children=(FloatSlider(value=-0.2, description='E', max=-0.0, min=-3.5, step=0.01), Output()), _dom…"
            ]
          },
          "metadata": {
            "tags": []
          }
        },
        {
          "output_type": "execute_result",
          "data": {
            "text/plain": [
              "<function __main__.plot3>"
            ]
          },
          "metadata": {
            "tags": []
          },
          "execution_count": 74
        }
      ]
    },
    {
      "cell_type": "code",
      "metadata": {
        "id": "rBYVri0TFhpN"
      },
      "source": [
        ""
      ],
      "execution_count": null,
      "outputs": []
    }
  ]
}