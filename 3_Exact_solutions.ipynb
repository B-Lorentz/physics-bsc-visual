{
  "nbformat": 4,
  "nbformat_minor": 0,
  "metadata": {
    "colab": {
      "name": "3_Exact_solutions.ipynb",
      "provenance": [],
      "authorship_tag": "ABX9TyPJcUQh9qL0GoFcOwx5GibP",
      "include_colab_link": true
    },
    "kernelspec": {
      "name": "python3",
      "display_name": "Python 3"
    },
    "language_info": {
      "name": "python"
    }
  },
  "cells": [
    {
      "cell_type": "markdown",
      "metadata": {
        "id": "view-in-github",
        "colab_type": "text"
      },
      "source": [
        "<a href=\"https://colab.research.google.com/github/B-Lorentz/physics-bsc-visual/blob/main/3_Exact_solutions.ipynb\" target=\"_parent\"><img src=\"https://colab.research.google.com/assets/colab-badge.svg\" alt=\"Open In Colab\"/></a>"
      ]
    },
    {
      "cell_type": "code",
      "metadata": {
        "id": "4bE9majOynvZ"
      },
      "source": [
        "\n",
        "import numpy as np\n",
        "from matplotlib import pyplot as plt\n",
        "from jax import numpy as jnp\n",
        "from jax import grad, vmap, jit, random, lax, ops\n",
        "from matplotlib.widgets import Slider, Button, RadioButtons\n",
        "from ipywidgets import interact, widgets"
      ],
      "execution_count": null,
      "outputs": []
    }
  ]
}